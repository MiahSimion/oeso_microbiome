{
 "cells": [
  {
   "cell_type": "code",
   "execution_count": 2,
   "id": "ca282da7-fe29-4c4e-9ed1-7ed2e6cab83b",
   "metadata": {
    "tags": []
   },
   "outputs": [
    {
     "name": "stdout",
     "output_type": "stream",
     "text": [
      "conda 23.1.0\n"
     ]
    }
   ],
   "source": [
    "!conda --version\n"
   ]
  },
  {
   "cell_type": "code",
   "execution_count": null,
   "id": "88894637-7a1b-4a79-8b2f-2ad7e9606e4f",
   "metadata": {
    "tags": []
   },
   "outputs": [],
   "source": [
    "conda create -n checkm -c conda-forge -c bioconda checkm-genome\n"
   ]
  },
  {
   "cell_type": "code",
   "execution_count": null,
   "id": "b02361a7-5185-48bb-96c1-ac09d352e7de",
   "metadata": {
    "tags": []
   },
   "outputs": [],
   "source": [
    "!y"
   ]
  },
  {
   "cell_type": "code",
   "execution_count": null,
   "id": "3f6844a6-f42e-4bfe-93f1-e6c02d58d952",
   "metadata": {},
   "outputs": [],
   "source": [
    "!conda run -n checkm checkm lineage_wf /shared-team/MAGs /shared-team/checkm_out -x fa --reduced_tree\n"
   ]
  },
  {
   "cell_type": "code",
   "execution_count": 2,
   "id": "944bb552-5c0c-4dd3-8951-1dd01d6fd1bc",
   "metadata": {
    "tags": []
   },
   "outputs": [
    {
     "name": "stdout",
     "output_type": "stream",
     "text": [
      "total 283560\n",
      "-rw-r--r-- 1 jovyan users 2508995 Feb 12 14:58 ERR2373052_bin.19.fa\n",
      "-rw-r--r-- 1 jovyan users 3062916 Feb 12 14:58 ERR2373053_bin.3.fa\n",
      "-rw-r--r-- 1 jovyan users 2180378 Feb 12 14:56 ERR2373058_bin.001.fa\n",
      "-rw-r--r-- 1 jovyan users 2186821 Feb 12 14:56 ERR2373061_bin.10.fa\n",
      "-rw-r--r-- 1 jovyan users 2624440 Feb 12 14:57 ERR2373074_bin.30.1.fa\n",
      "-rw-r--r-- 1 jovyan users 1308940 Feb 12 14:51 ERR2373075_bin.1.fa\n",
      "-rw-r--r-- 1 jovyan users 1841104 Feb 12 14:54 ERR2373075_bin.2.fa\n",
      "-rw-r--r-- 1 jovyan users 2713752 Feb 12 14:57 ERR2373075_bin.61.fa\n",
      "-rw-r--r-- 1 jovyan users 2120087 Feb 12 14:56 ERR2373078_bin.001.fa\n",
      "-rw-r--r-- 1 jovyan users 1916231 Feb 12 14:55 ERR2373081_bin.1.1.fa\n",
      "-rw-r--r-- 1 jovyan users 2104711 Feb 12 14:56 ERR2373081_bin.13.fa\n",
      "-rw-r--r-- 1 jovyan users 2495140 Feb 12 14:57 ERR2373081_bin.16.fa\n",
      "-rw-r--r-- 1 jovyan users 2073448 Feb 12 14:55 ERR2373081_bin.4.fa\n",
      "-rw-r--r-- 1 jovyan users 3053677 Feb 12 14:58 ERR2373085_bin.3.fa\n",
      "-rw-r--r-- 1 jovyan users 2129566 Feb 12 14:56 ERR2373089_bin.001.fa\n",
      "-rw-r--r-- 1 jovyan users 1733937 Feb 12 14:56 ERR2373090_bin.4.1.fa\n",
      "-rw-r--r-- 1 jovyan users 1989045 Feb 12 14:55 ERR2373092_bin.0.fa\n",
      "-rw-r--r-- 1 jovyan users 2548724 Feb 12 14:58 ERR2373092_bin.2.fa\n",
      "-rw-r--r-- 1 jovyan users 3165177 Feb 12 14:58 ERR2373092_bin.31.1.fa\n",
      "-rw-r--r-- 1 jovyan users 2817783 Feb 12 14:57 ERR2373092_bin.52.fa\n",
      "-rw-r--r-- 1 jovyan users 1531346 Feb 12 14:53 ERR2373092_bin.53.1.fa\n",
      "-rw-r--r-- 1 jovyan users 2626786 Feb 12 14:57 ERR2373092_bin.8.fa\n",
      "-rw-r--r-- 1 jovyan users 1515983 Feb 12 14:52 ERR2373093_bin.11.1.fa\n",
      "-rw-r--r-- 1 jovyan users 1739758 Feb 12 14:56 ERR2373093_bin.42.fa\n",
      "-rw-r--r-- 1 jovyan users 2465394 Feb 12 14:57 ERR2373093_bin.49.fa\n",
      "-rw-r--r-- 1 jovyan users 2499029 Feb 12 14:58 ERR2373093_bin.60.fa\n",
      "-rw-r--r-- 1 jovyan users 2257546 Feb 12 14:56 ERR2373095_bin.12.fa\n",
      "-rw-r--r-- 1 jovyan users  881721 Feb 12 14:48 ERR2373095_bin.15.fa\n",
      "-rw-r--r-- 1 jovyan users 3293731 Feb 12 14:58 ERR2373095_bin.17.fa\n",
      "-rw-r--r-- 1 jovyan users 2468749 Feb 12 14:57 ERR2373095_bin.2.fa\n",
      "-rw-r--r-- 1 jovyan users 3233751 Feb 12 14:58 ERR2373097_bin.1.fa\n",
      "-rw-r--r-- 1 jovyan users 3167538 Feb 12 14:58 ERR2373106_bin.2_sub.fa\n",
      "-rw-r--r-- 1 jovyan users 1878282 Feb 12 14:56 ERR2373107_bin.7.1-contigs.fa\n",
      "-rw-r--r-- 1 jovyan users 2189865 Feb 12 14:56 ERR2373110_bin.28.fa\n",
      "-rw-r--r-- 1 jovyan users 2562669 Feb 12 14:57 ERR2373110_bin.8.fa\n",
      "-rw-r--r-- 1 jovyan users 3090259 Feb 12 14:58 ERR2373117_bin.6.fa\n",
      "-rw-r--r-- 1 jovyan users  750989 Feb 12 14:47 ERR2373117_bin.7.fa\n",
      "-rw-r--r-- 1 jovyan users 3405148 Feb 12 14:58 ERR2373119_bin.14.fa\n",
      "-rw-r--r-- 1 jovyan users 2735192 Feb 12 14:58 ERR2373119_bin.1.fa\n",
      "-rw-r--r-- 1 jovyan users 1864612 Feb 12 14:55 ERR2373119_bin.63.fa\n",
      "-rw-r--r-- 1 jovyan users 2017168 Feb 12 14:57 ERR2373121_bin.31.fa\n",
      "-rw-r--r-- 1 jovyan users 3206030 Feb 12 14:58 ERR2373123_bin.17.1.fa\n",
      "-rw-r--r-- 1 jovyan users 2819965 Feb 12 14:57 ERR2373124_bin.2.1.fa\n",
      "-rw-r--r-- 1 jovyan users 2138231 Feb 12 14:56 ERR2373136_bin.10.fa\n",
      "-rw-r--r-- 1 jovyan users 1950236 Feb 12 14:56 ERR2373136_bin.18.1.fa\n",
      "-rw-r--r-- 1 jovyan users 2590577 Feb 12 14:58 ERR2373138_bin.5.1.fa\n",
      "-rw-r--r-- 1 jovyan users 2139374 Feb 12 14:56 ERR2373144_bin.16.1.fa\n",
      "-rw-r--r-- 1 jovyan users 1921889 Feb 12 14:55 ERR2373144_bin.4.fa\n",
      "-rw-r--r-- 1 jovyan users 2891153 Feb 12 14:58 P10B_S6_bin.1.1.fa\n",
      "-rw-r--r-- 1 jovyan users 2045385 Feb 12 14:57 P10B_S6_bin.12.fa\n",
      "-rw-r--r-- 1 jovyan users 2237552 Feb 12 14:57 P10B_S6_bin.30.fa\n",
      "-rw-r--r-- 1 jovyan users 1568100 Feb 12 14:55 P10B_S6_bin.42.1.fa\n",
      "-rw-r--r-- 1 jovyan users 2304926 Feb 12 14:57 P10S_S17_bin.16.1.fa\n",
      "-rw-r--r-- 1 jovyan users 2328329 Feb 12 14:57 P10S_S17_bin.36.1.fa\n",
      "-rw-r--r-- 1 jovyan users 3172891 Feb 12 14:58 P10S_S17_bin.63.1.fa\n",
      "-rw-r--r-- 1 jovyan users 1795027 Feb 12 14:56 P10S_S17_bin.64.1.fa\n",
      "-rw-r--r-- 1 jovyan users 1736222 Feb 12 14:56 P11B_S7_bin.1.1.fa\n",
      "-rw-r--r-- 1 jovyan users 2280986 Feb 12 14:57 P11B_S7_bin.12.1.fa\n",
      "-rw-r--r-- 1 jovyan users 1902865 Feb 12 14:57 P11B_S7_bin.14.1.fa\n",
      "-rw-r--r-- 1 jovyan users  679092 Feb 12 14:50 P11B_S7_bin.28.1.fa\n",
      "-rw-r--r-- 1 jovyan users 2460017 Feb 12 14:58 P11B_S7_bin.3.fa\n",
      "-rw-r--r-- 1 jovyan users 2769342 Feb 12 14:58 P11B_S7_bin.41.fa\n",
      "-rw-r--r-- 1 jovyan users 1224858 Feb 12 14:53 P11B_S7_bin.5.1.fa\n",
      "-rw-r--r-- 1 jovyan users 2364132 Feb 12 14:57 P11B_S7_bin.59.1.fa\n",
      "-rw-r--r-- 1 jovyan users 2434338 Feb 12 14:58 P11B_S7_bin.6.fa\n",
      "-rw-r--r-- 1 jovyan users 2135552 Feb 12 14:57 P11B_S7_bin.86.1.fa\n",
      "-rw-r--r-- 1 jovyan users 2086141 Feb 12 14:57 P11B_S7_bin.97.1.fa\n",
      "-rw-r--r-- 1 jovyan users 2129181 Feb 12 14:57 P11S_S18_bin.1.1.fa\n",
      "-rw-r--r-- 1 jovyan users 2367485 Feb 12 14:57 P12S_S19_bin.43.1.fa\n",
      "-rw-r--r-- 1 jovyan users 2187621 Feb 12 14:57 P13B_S9_bin.48.fa\n",
      "-rw-r--r-- 1 jovyan users 2080549 Feb 12 14:57 P13B_S9_bin.51.1.fa\n",
      "-rw-r--r-- 1 jovyan users  584294 Feb 12 14:49 P13S_S20_bin.18.1.fa\n",
      "-rw-r--r-- 1 jovyan users 1317514 Feb 12 14:54 P13S_S20_bin.20.fa\n",
      "-rw-r--r-- 1 jovyan users 3358176 Feb 12 14:58 P13S_S20_bin.29.1.fa\n",
      "-rw-r--r-- 1 jovyan users 2260660 Feb 12 14:57 P13S_S20_bin.31.1.fa\n",
      "-rw-r--r-- 1 jovyan users 2353923 Feb 12 14:57 P13S_S20_bin.3.1.fa\n",
      "-rw-r--r-- 1 jovyan users 1695726 Feb 12 14:56 P13S_S20_bin.38.1.fa\n",
      "-rw-r--r-- 1 jovyan users 1860719 Feb 12 14:56 P13S_S20_bin.4.1.fa\n",
      "-rw-r--r-- 1 jovyan users 2857976 Feb 12 14:58 P13S_S20_bin.49.1.fa\n",
      "-rw-r--r-- 1 jovyan users 2398621 Feb 12 14:57 P13S_S20_bin.64.fa\n",
      "-rw-r--r-- 1 jovyan users 1744857 Feb 12 14:56 P13S_S20_bin.65.1.fa\n",
      "-rw-r--r-- 1 jovyan users 1758082 Feb 12 14:56 P13S_S20_bin.72.1.fa\n",
      "-rw-r--r-- 1 jovyan users 2256286 Feb 12 14:57 P13S_S20_bin.74.1.fa\n",
      "-rw-r--r-- 1 jovyan users 1461733 Feb 12 14:55 P15S_S21_bin.10.fa\n",
      "-rw-r--r-- 1 jovyan users 2156810 Feb 12 14:57 P15S_S21_bin.23.fa\n",
      "-rw-r--r-- 1 jovyan users 2208674 Feb 12 14:57 P15S_S21_bin.32.1.fa\n",
      "-rw-r--r-- 1 jovyan users 1708436 Feb 12 14:56 P15S_S21_bin.35.1.fa\n",
      "-rw-r--r-- 1 jovyan users 1861041 Feb 12 14:56 P15S_S21_bin.40.1.fa\n",
      "-rw-r--r-- 1 jovyan users 2329736 Feb 12 14:57 P15S_S21_bin.43.1.fa\n",
      "-rw-r--r-- 1 jovyan users 2352681 Feb 12 14:57 P15S_S21_bin.70.1.fa\n",
      "-rw-r--r-- 1 jovyan users 1426385 Feb 12 14:55 P15S_S21_bin.79.1.fa\n",
      "-rw-r--r-- 1 jovyan users 2195908 Feb 12 14:57 P16B_S11_bin.3.1.fa\n",
      "-rw-r--r-- 1 jovyan users 2087148 Feb 12 14:57 P16B_S11_bin.51.fa\n",
      "-rw-r--r-- 1 jovyan users 1955592 Feb 12 14:57 P16S_S22_bin.11.1.fa\n",
      "-rw-r--r-- 1 jovyan users 2214444 Feb 12 14:57 P16S_S22_bin.7.1.fa\n",
      "-rw-r--r-- 1 jovyan users  672422 Feb 12 14:47 P2B_S1_bin.0.1.fa\n",
      "-rw-r--r-- 1 jovyan users 2017216 Feb 12 14:56 P2S_S12_bin.3.1.fa\n",
      "-rw-r--r-- 1 jovyan users 2189056 Feb 12 14:56 P2S_S12_bin.53.1.fa\n",
      "-rw-r--r-- 1 jovyan users 2169354 Feb 12 14:57 P3B_S2_bin.16.1.fa\n",
      "-rw-r--r-- 1 jovyan users 1766652 Feb 12 14:55 P3S_S13_bin.11.1.fa\n",
      "-rw-r--r-- 1 jovyan users 2901934 Feb 12 14:58 P3S_S13_bin.1.1.fa\n",
      "-rw-r--r-- 1 jovyan users 1096947 Feb 12 14:49 P3S_S13_bin.12.1.fa\n",
      "-rw-r--r-- 1 jovyan users 2502665 Feb 12 14:57 P3S_S13_bin.33.1.fa\n",
      "-rw-r--r-- 1 jovyan users 1269512 Feb 12 14:53 P3S_S13_bin.54.1.fa\n",
      "-rw-r--r-- 1 jovyan users 3223071 Feb 12 14:58 P3S_S13_bin.6.1.fa\n",
      "-rw-r--r-- 1 jovyan users 2296734 Feb 12 14:57 P4B_S3_bin.2.fa\n",
      "-rw-r--r-- 1 jovyan users 2230388 Feb 12 14:56 P4B_S3_bin.4.1.fa\n",
      "-rw-r--r-- 1 jovyan users 2030108 Feb 12 14:57 P4S_S14_bin.1.1.fa\n",
      "-rw-r--r-- 1 jovyan users 2288999 Feb 12 14:57 P4S_S14_bin.7.fa\n",
      "-rw-r--r-- 1 jovyan users 2558875 Feb 12 14:57 P5B_S4_bin.18.1.fa\n",
      "-rw-r--r-- 1 jovyan users 1411684 Feb 12 14:53 P5B_S4_bin.35.1.fa\n",
      "-rw-r--r-- 1 jovyan users  758895 Feb 12 14:47 P5B_S4_bin.39.1.fa\n",
      "-rw-r--r-- 1 jovyan users 1694306 Feb 12 14:53 P5B_S4_bin40.1.fa\n",
      "-rw-r--r-- 1 jovyan users 1141541 Feb 12 14:53 P5B_S4_bin.44.1.fa\n",
      "-rw-r--r-- 1 jovyan users 2111710 Feb 12 14:57 P5B_S4_bin.50.1.fa\n",
      "-rw-r--r-- 1 jovyan users 2028718 Feb 12 14:56 P5B_S4_bin.5.1.fa\n",
      "-rw-r--r-- 1 jovyan users 2104459 Feb 12 14:56 P5S_S15_bin.37.1.fa\n",
      "-rw-r--r-- 1 jovyan users 2044011 Feb 12 14:56 P5S_S15_bin.44.1.fa\n",
      "-rw-r--r-- 1 jovyan users 1691066 Feb 12 14:54 P5S_S15_bin.6.1.fa\n",
      "-rw-r--r-- 1 jovyan users 1435958 Feb 12 14:52 P5S_S15_bin.88.1.fa\n",
      "-rw-r--r-- 1 jovyan users 2213433 Feb 12 14:57 P6B_S5_bin.002.fa\n",
      "-rw-r--r-- 1 jovyan users 1899445 Feb 12 14:55 P6B_S5_bin.35.fa\n",
      "-rw-r--r-- 1 jovyan users 1904706 Feb 12 14:55 P6B_S5_bin3.fa\n",
      "-rw-r--r-- 1 jovyan users 2370951 Feb 12 14:57 P6B_S5_bin.55.fa\n",
      "-rw-r--r-- 1 jovyan users 1886989 Feb 12 14:56 P6S_S16_bin.11.1.fa\n",
      "-rw-r--r-- 1 jovyan users 2913682 Feb 12 14:58 P6S_S16_bin.16.1.fa\n",
      "-rw-r--r-- 1 jovyan users 2493726 Feb 12 14:58 P6S_S16_bin.18.1.fa\n",
      "-rw-r--r-- 1 jovyan users 2455159 Feb 12 14:57 P6S_S16_bin.19.1.fa\n",
      "-rw-r--r-- 1 jovyan users 2142134 Feb 12 14:56 P6S_S16_bin.1.fa\n",
      "-rw-r--r-- 1 jovyan users 1622229 Feb 12 14:53 P6S_S16_bin.50.1.fa\n",
      "-rw-r--r-- 1 jovyan users 2134698 Feb 12 14:57 P6S_S16_bin.5.fa\n",
      "-rw-r--r-- 1 jovyan users 2044406 Feb 12 14:55 P6S_S16_bin.68.1.fa\n",
      "-rw-r--r-- 1 jovyan users 1739183 Feb 12 14:54 P6S_S16_bin.70.1.fa\n",
      "-rw-r--r-- 1 jovyan users 2406581 Feb 12 14:57 P6S_S16_bin.76.1.fa\n",
      "-rw-r--r-- 1 jovyan users 1814445 Feb 12 14:56 PID_0798_P5B_S4_concoct_14_1-contigs.fa\n",
      "-rw-r--r-- 1 jovyan users 1551821 Feb 12 14:55 PID_0798_P5B_S4_metabat2_14_1-contigs.fa\n"
     ]
    }
   ],
   "source": [
    "!ls -l /home/jovyan/shared-team/MAGs"
   ]
  },
  {
   "cell_type": "code",
   "execution_count": null,
   "id": "a58e41de-7db9-4e8d-9d25-47a7ccf24707",
   "metadata": {},
   "outputs": [],
   "source": []
  }
 ],
 "metadata": {
  "kernelspec": {
   "display_name": "Python [conda env:microbiome_env]",
   "language": "python",
   "name": "conda-env-microbiome_env-py"
  },
  "language_info": {
   "codemirror_mode": {
    "name": "ipython",
    "version": 3
   },
   "file_extension": ".py",
   "mimetype": "text/x-python",
   "name": "python",
   "nbconvert_exporter": "python",
   "pygments_lexer": "ipython3",
   "version": "3.9.19"
  }
 },
 "nbformat": 4,
 "nbformat_minor": 5
}
