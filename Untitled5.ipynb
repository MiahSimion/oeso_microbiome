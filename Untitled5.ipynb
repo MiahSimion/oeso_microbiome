{
 "cells": [
  {
   "cell_type": "code",
   "execution_count": 1,
   "id": "a48c490f-f0a7-4ec8-b70f-466aece4a370",
   "metadata": {
    "tags": []
   },
   "outputs": [
    {
     "ename": "NameError",
     "evalue": "name 'glob' is not defined",
     "output_type": "error",
     "traceback": [
      "\u001b[31m---------------------------------------------------------------------------\u001b[39m",
      "\u001b[31mNameError\u001b[39m                                 Traceback (most recent call last)",
      "\u001b[36mCell\u001b[39m\u001b[36m \u001b[39m\u001b[32mIn[1]\u001b[39m\u001b[32m, line 3\u001b[39m\n\u001b[32m      1\u001b[39m root = \u001b[33m\"\u001b[39m\u001b[33m/home/jovyan\u001b[39m\u001b[33m\"\u001b[39m\n\u001b[32m----> \u001b[39m\u001b[32m3\u001b[39m hits = \u001b[43mglob\u001b[49m.glob(os.path.join(root, \u001b[33m\"\u001b[39m\u001b[33m**/*abund*.tsv\u001b[39m\u001b[33m\"\u001b[39m), recursive=\u001b[38;5;28;01mTrue\u001b[39;00m)\n\u001b[32m      4\u001b[39m hits += glob.glob(os.path.join(root, \u001b[33m\"\u001b[39m\u001b[33m**/*abund*.csv\u001b[39m\u001b[33m\"\u001b[39m), recursive=\u001b[38;5;28;01mTrue\u001b[39;00m)\n\u001b[32m      6\u001b[39m \u001b[38;5;28mprint\u001b[39m(\u001b[33m\"\u001b[39m\u001b[38;5;130;01m\\n\u001b[39;00m\u001b[33m\"\u001b[39m.join(textwrap.shorten(p, width=\u001b[32m120\u001b[39m) \u001b[38;5;28;01mfor\u001b[39;00m p \u001b[38;5;129;01min\u001b[39;00m hits[:\u001b[32m40\u001b[39m])   \u001b[38;5;66;03m# show first 40 hits\u001b[39;00m\n\u001b[32m      7\u001b[39m       \u001b[38;5;129;01mor\u001b[39;00m \u001b[33m\"\u001b[39m\u001b[33mStill no obvious abundance files.\u001b[39m\u001b[33m\"\u001b[39m)\n",
      "\u001b[31mNameError\u001b[39m: name 'glob' is not defined"
     ]
    }
   ],
   "source": [
    "root = \"/home/jovyan\"\n",
    "\n",
    "hits = glob.glob(os.path.join(root, \"**/*abund*.tsv\"), recursive=True)\n",
    "hits += glob.glob(os.path.join(root, \"**/*abund*.csv\"), recursive=True)\n",
    "\n",
    "print(\"\\n\".join(textwrap.shorten(p, width=120) for p in hits[:40])   # show first 40 hits\n",
    "      or \"Still no obvious abundance files.\")\n"
   ]
  },
  {
   "cell_type": "code",
   "execution_count": 2,
   "id": "e5d714ad-8fee-4e61-b391-303fc1232bb5",
   "metadata": {
    "tags": []
   },
   "outputs": [
    {
     "name": "stdout",
     "output_type": "stream",
     "text": [
      "['species', 'novel']\n"
     ]
    },
    {
     "data": {
      "text/html": [
       "<div>\n",
       "<style scoped>\n",
       "    .dataframe tbody tr th:only-of-type {\n",
       "        vertical-align: middle;\n",
       "    }\n",
       "\n",
       "    .dataframe tbody tr th {\n",
       "        vertical-align: top;\n",
       "    }\n",
       "\n",
       "    .dataframe thead th {\n",
       "        text-align: right;\n",
       "    }\n",
       "</style>\n",
       "<table border=\"1\" class=\"dataframe\">\n",
       "  <thead>\n",
       "    <tr style=\"text-align: right;\">\n",
       "      <th></th>\n",
       "      <th>species</th>\n",
       "      <th>novel</th>\n",
       "    </tr>\n",
       "  </thead>\n",
       "  <tbody>\n",
       "    <tr>\n",
       "      <th>0</th>\n",
       "      <td>Prevotella melaninogenica</td>\n",
       "      <td>False</td>\n",
       "    </tr>\n",
       "    <tr>\n",
       "      <th>1</th>\n",
       "      <td>Rothia mucilaginosa</td>\n",
       "      <td>False</td>\n",
       "    </tr>\n",
       "    <tr>\n",
       "      <th>2</th>\n",
       "      <td>Porphyromonas pasteri</td>\n",
       "      <td>False</td>\n",
       "    </tr>\n",
       "    <tr>\n",
       "      <th>3</th>\n",
       "      <td>Prevotella pallens</td>\n",
       "      <td>False</td>\n",
       "    </tr>\n",
       "    <tr>\n",
       "      <th>4</th>\n",
       "      <td>Actinomyces graevenitzii</td>\n",
       "      <td>False</td>\n",
       "    </tr>\n",
       "  </tbody>\n",
       "</table>\n",
       "</div>"
      ],
      "text/plain": [
       "                     species  novel\n",
       "0  Prevotella melaninogenica  False\n",
       "1        Rothia mucilaginosa  False\n",
       "2      Porphyromonas pasteri  False\n",
       "3         Prevotella pallens  False\n",
       "4   Actinomyces graevenitzii  False"
      ]
     },
     "execution_count": 2,
     "metadata": {},
     "output_type": "execute_result"
    }
   ],
   "source": [
    "import pandas as pd\n",
    "\n",
    "table_path = \"/home/jovyan/top20_legend.tsv\"   # <-- change if you choose a different file\n",
    "df = pd.read_csv(table_path, sep=\"\\t\", nrows=5)   # use sep=\",\" if it is a CSV\n",
    "print(df.columns.tolist())\n",
    "df.head()\n"
   ]
  },
  {
   "cell_type": "code",
   "execution_count": null,
   "id": "17c5a5ec-066c-4f2d-9fb8-ab2367fd4cb1",
   "metadata": {
    "tags": []
   },
   "outputs": [],
   "source": [
    "import glob, os, textwrap, pathlib, pandas as pd\n",
    "\n",
    "root = \"/home/jovyan\"          # search your home directory\n",
    "patterns = [\n",
    "    \"**/species*abund*.tsv\",\n",
    "    \"**/species*abund*.csv\",\n",
    "    \"**/*relative*abund*.tsv\",\n",
    "]\n",
    "\n",
    "hits = []\n",
    "for pat in patterns:\n",
    "    hits += glob.glob(os.path.join(root, pat), recursive=True)\n",
    "\n",
    "print(\"Found:\", len(hits), \"candidate file(s)\")\n",
    "for p in hits[:20]:\n",
    "    print(\"   \", textwrap.shorten(p, width=120))\n"
   ]
  },
  {
   "cell_type": "code",
   "execution_count": null,
   "id": "6041c5fb-afc0-4a51-8a4e-08c3a18ee73b",
   "metadata": {
    "tags": []
   },
   "outputs": [],
   "source": [
    "# coverage search\n",
    "coverage_patterns = [\n",
    "    \"**/*coverm*tsv\",\n",
    "    \"**/*coverage*.tsv\",\n",
    "    \"**/*depth*.txt\",\n",
    "    \"**/*abundance_mag*.tsv\",\n",
    "]\n",
    "cov_hits = []\n",
    "for pat in coverage_patterns:\n",
    "    cov_hits += glob.glob(os.path.join(\"/home/jovyan\", pat), recursive=True)\n",
    "\n",
    "print(\"Coverage hits:\", len(cov_hits))\n",
    "for p in cov_hits[:20]:\n",
    "    print(\"   \", textwrap.shorten(p, width=120))\n",
    "\n",
    "# taxonomy search\n",
    "tax_hits = glob.glob(os.path.join(\"/home/jovyan\", \"**/*gtdb*tax*.tsv\"), recursive=True)\n",
    "print(\"\\nGTDB hits:\", len(tax_hits))\n",
    "for p in tax_hits:\n",
    "    print(\"   \", textwrap.shorten(p, width=120))\n"
   ]
  },
  {
   "cell_type": "code",
   "execution_count": null,
   "id": "aac2d08e-e161-4e6c-9fca-91f92700dec0",
   "metadata": {},
   "outputs": [],
   "source": []
  }
 ],
 "metadata": {
  "kernelspec": {
   "display_name": "Python [conda env:my_prokka_env]",
   "language": "python",
   "name": "conda-env-my_prokka_env-py"
  },
  "language_info": {
   "codemirror_mode": {
    "name": "ipython",
    "version": 3
   },
   "file_extension": ".py",
   "mimetype": "text/x-python",
   "name": "python",
   "nbconvert_exporter": "python",
   "pygments_lexer": "ipython3",
   "version": "3.13.2"
  }
 },
 "nbformat": 4,
 "nbformat_minor": 5
}
