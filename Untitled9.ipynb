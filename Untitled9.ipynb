{
 "cells": [
  {
   "cell_type": "code",
   "execution_count": 2,
   "id": "08f8b1df-c234-4331-a354-3082e29dd027",
   "metadata": {
    "tags": []
   },
   "outputs": [],
   "source": [
    "# ------------ helper: common imports & 90-mm figure width -------------\n",
    "import pandas as pd, numpy as np, matplotlib.pyplot as plt, pathlib, textwrap\n",
    "import matplotlib as mpl\n",
    "mpl.rcParams[\"pdf.fonttype\"] = 42   # editable text in Illustrator\n",
    "FIG_W = 3.54        # 90 mm → inches (3.54\")\n"
   ]
  },
  {
   "cell_type": "code",
   "execution_count": 3,
   "id": "81b0c6b2-56fa-4903-823a-4a6fb2e83502",
   "metadata": {
    "tags": []
   },
   "outputs": [
    {
     "ename": "ValueError",
     "evalue": "The indicators must all be boolean",
     "output_type": "error",
     "traceback": [
      "\u001b[31m---------------------------------------------------------------------------\u001b[39m",
      "\u001b[31mValueError\u001b[39m                                Traceback (most recent call last)",
      "\u001b[36mCell\u001b[39m\u001b[36m \u001b[39m\u001b[32mIn[3]\u001b[39m\u001b[32m, line 9\u001b[39m\n\u001b[32m      7\u001b[39m \u001b[38;5;66;03m# 1. load presence/absence table\u001b[39;00m\n\u001b[32m      8\u001b[39m pres = pd.read_csv(presence_file, sep=\u001b[33m\"\u001b[39m\u001b[38;5;130;01m\\t\u001b[39;00m\u001b[33m\"\u001b[39m)\n\u001b[32m----> \u001b[39m\u001b[32m9\u001b[39m up_df = \u001b[43mfrom_indicators\u001b[49m\u001b[43m(\u001b[49m\u001b[43mpres\u001b[49m\u001b[43m[\u001b[49m\u001b[43m[\u001b[49m\u001b[33;43m\"\u001b[39;49m\u001b[33;43min_oesophagus\u001b[39;49m\u001b[33;43m\"\u001b[39;49m\u001b[43m,\u001b[49m\u001b[33;43m\"\u001b[39;49m\u001b[33;43min_oral\u001b[39;49m\u001b[33;43m\"\u001b[39;49m\u001b[43m]\u001b[49m\u001b[43m]\u001b[49m\u001b[43m,\u001b[49m\u001b[43m \u001b[49m\u001b[43mpres\u001b[49m\u001b[43m[\u001b[49m\u001b[33;43m\"\u001b[39;49m\u001b[33;43mspecies\u001b[39;49m\u001b[33;43m\"\u001b[39;49m\u001b[43m]\u001b[49m\u001b[43m)\u001b[49m\n\u001b[32m     11\u001b[39m \u001b[38;5;66;03m# 2. UpSet plot\u001b[39;00m\n\u001b[32m     12\u001b[39m fig = plt.figure(figsize=(FIG_W, \u001b[32m2.8\u001b[39m))\n",
      "\u001b[36mFile \u001b[39m\u001b[32m~/.local/lib/python3.13/site-packages/upsetplot/data.py:205\u001b[39m, in \u001b[36mfrom_indicators\u001b[39m\u001b[34m(indicators, data)\u001b[39m\n\u001b[32m    202\u001b[39m indicators = indicators.loc[:, indicators.any(axis=\u001b[32m0\u001b[39m)]\n\u001b[32m    204\u001b[39m \u001b[38;5;28;01mif\u001b[39;00m \u001b[38;5;129;01mnot\u001b[39;00m \u001b[38;5;28mall\u001b[39m(dtype.kind == \u001b[33m\"\u001b[39m\u001b[33mb\u001b[39m\u001b[33m\"\u001b[39m \u001b[38;5;28;01mfor\u001b[39;00m dtype \u001b[38;5;129;01min\u001b[39;00m indicators.dtypes):\n\u001b[32m--> \u001b[39m\u001b[32m205\u001b[39m     \u001b[38;5;28;01mraise\u001b[39;00m \u001b[38;5;167;01mValueError\u001b[39;00m(\u001b[33m\"\u001b[39m\u001b[33mThe indicators must all be boolean\u001b[39m\u001b[33m\"\u001b[39m)\n\u001b[32m    207\u001b[39m \u001b[38;5;28;01mif\u001b[39;00m data \u001b[38;5;129;01mis\u001b[39;00m \u001b[38;5;129;01mnot\u001b[39;00m \u001b[38;5;28;01mNone\u001b[39;00m:\n\u001b[32m    208\u001b[39m     \u001b[38;5;28;01mif\u001b[39;00m \u001b[38;5;129;01mnot\u001b[39;00m (\n\u001b[32m    209\u001b[39m         \u001b[38;5;28misinstance\u001b[39m(indicators.index, pd.RangeIndex)\n\u001b[32m    210\u001b[39m         \u001b[38;5;129;01mand\u001b[39;00m indicators.index[\u001b[32m0\u001b[39m] == \u001b[32m0\u001b[39m\n\u001b[32m    211\u001b[39m         \u001b[38;5;129;01mand\u001b[39;00m indicators.index[-\u001b[32m1\u001b[39m] == \u001b[38;5;28mlen\u001b[39m(data) - \u001b[32m1\u001b[39m\n\u001b[32m    212\u001b[39m     ):\n\u001b[32m    213\u001b[39m         \u001b[38;5;66;03m# index is specified on indicators. Need to align it to data\u001b[39;00m\n",
      "\u001b[31mValueError\u001b[39m: The indicators must all be boolean"
     ]
    }
   ],
   "source": [
    "# ── CONFIG ───────────────────────────────────────────────────────────\n",
    "presence_file = \"/home/jovyan/fig3_2_presence_absence.tsv\"    # ← edit if needed\n",
    "# ─────────────────────────────────────────────────────────────\n",
    "\n",
    "from upsetplot import UpSet, from_indicators\n",
    "\n",
    "# 1. load presence/absence table\n",
    "pres = pd.read_csv(presence_file, sep=\"\\t\")\n",
    "up_df = from_indicators(pres[[\"in_oesophagus\",\"in_oral\"]], pres[\"species\"])\n",
    "\n",
    "# 2. UpSet plot\n",
    "fig = plt.figure(figsize=(FIG_W, 2.8))\n",
    "UpSet(up_df, subset_size=\"count\", show_counts=True).plot(fig=fig)\n",
    "plt.tight_layout()\n",
    "plt.savefig(\"fig3_2A_upset.pdf\"); plt.savefig(\"fig3_2A_upset.svg\")\n",
    "plt.close()\n",
    "print(\"✓ fig3_2A_upset.* saved\")\n",
    "\n",
    "# 3. lollipop (Jaccard index)\n",
    "intersect = (pres[\"in_oesophagus\"] & pres[\"in_oral\"]).sum()\n",
    "jaccard = intersect / (\n",
    "    pres[\"in_oesophagus\"].sum() + pres[\"in_oral\"].sum() - intersect\n",
    ")\n",
    "\n",
    "plt.figure(figsize=(FIG_W, 1.5))\n",
    "plt.stem([0], [jaccard], basefmt=\" \"); plt.xlim(-0.5, 0.5)\n",
    "plt.ylabel(\"Jaccard index\"); plt.xticks([])\n",
    "plt.title(\"Species overlap (oesophagus ∩ oral)\")\n",
    "plt.tight_layout()\n",
    "plt.savefig(\"fig3_2B_lollipop.pdf\"); plt.savefig(\"fig3_2B_lollipop.svg\")\n",
    "plt.close()\n",
    "print(\"✓ fig3_2B_lollipop.* saved (Jaccard ≈ {:.3f})\".format(jaccard))\n"
   ]
  },
  {
   "cell_type": "code",
   "execution_count": 4,
   "id": "f5b0b21d-08fa-42cb-8d58-83d1a6bc7731",
   "metadata": {
    "tags": []
   },
   "outputs": [
    {
     "name": "stderr",
     "output_type": "stream",
     "text": [
      "/home/jovyan/.local/lib/python3.13/site-packages/upsetplot/plotting.py:795: FutureWarning: A value is trying to be set on a copy of a DataFrame or Series through chained assignment using an inplace method.\n",
      "The behavior will change in pandas 3.0. This inplace method will never work because the intermediate object on which we are setting values always behaves as a copy.\n",
      "\n",
      "For example, when doing 'df[col].method(value, inplace=True)', try using 'df.method({col: value}, inplace=True)' or df[col] = df[col].method(value) instead, to perform the operation inplace on the original object.\n",
      "\n",
      "\n",
      "  styles[\"linewidth\"].fillna(1, inplace=True)\n",
      "/home/jovyan/.local/lib/python3.13/site-packages/upsetplot/plotting.py:796: FutureWarning: A value is trying to be set on a copy of a DataFrame or Series through chained assignment using an inplace method.\n",
      "The behavior will change in pandas 3.0. This inplace method will never work because the intermediate object on which we are setting values always behaves as a copy.\n",
      "\n",
      "For example, when doing 'df[col].method(value, inplace=True)', try using 'df.method({col: value}, inplace=True)' or df[col] = df[col].method(value) instead, to perform the operation inplace on the original object.\n",
      "\n",
      "\n",
      "  styles[\"facecolor\"].fillna(self._facecolor, inplace=True)\n",
      "/home/jovyan/.local/lib/python3.13/site-packages/upsetplot/plotting.py:797: FutureWarning: A value is trying to be set on a copy of a DataFrame or Series through chained assignment using an inplace method.\n",
      "The behavior will change in pandas 3.0. This inplace method will never work because the intermediate object on which we are setting values always behaves as a copy.\n",
      "\n",
      "For example, when doing 'df[col].method(value, inplace=True)', try using 'df.method({col: value}, inplace=True)' or df[col] = df[col].method(value) instead, to perform the operation inplace on the original object.\n",
      "\n",
      "\n",
      "  styles[\"edgecolor\"].fillna(styles[\"facecolor\"], inplace=True)\n",
      "/home/jovyan/.local/lib/python3.13/site-packages/upsetplot/plotting.py:798: FutureWarning: A value is trying to be set on a copy of a DataFrame or Series through chained assignment using an inplace method.\n",
      "The behavior will change in pandas 3.0. This inplace method will never work because the intermediate object on which we are setting values always behaves as a copy.\n",
      "\n",
      "For example, when doing 'df[col].method(value, inplace=True)', try using 'df.method({col: value}, inplace=True)' or df[col] = df[col].method(value) instead, to perform the operation inplace on the original object.\n",
      "\n",
      "\n",
      "  styles[\"linestyle\"].fillna(\"solid\", inplace=True)\n",
      "/tmp/ipykernel_1230575/1029350815.py:15: UserWarning: This figure includes Axes that are not compatible with tight_layout, so results might be incorrect.\n",
      "  plt.tight_layout()\n"
     ]
    },
    {
     "name": "stdout",
     "output_type": "stream",
     "text": [
      "✓ fig3_2A_upset.* saved\n"
     ]
    }
   ],
   "source": [
    "import pandas as pd, matplotlib.pyplot as plt\n",
    "from upsetplot import from_indicators, UpSet\n",
    "\n",
    "presence_file = \"/home/jovyan/fig3_2_presence_absence.tsv\"  # adjust if needed\n",
    "pres = pd.read_csv(presence_file, sep=\"\\t\")\n",
    "\n",
    "# convert 0/1 → False/True\n",
    "indicators = pres[[\"in_oesophagus\", \"in_oral\"]].astype(bool)\n",
    "\n",
    "# build UpSet data and plot\n",
    "up_df = from_indicators(indicators, pres[\"species\"])\n",
    "\n",
    "fig = plt.figure(figsize=(FIG_W, 2.8))          # FIG_W = 3.54 from helper cell\n",
    "UpSet(up_df, subset_size=\"count\", show_counts=True).plot(fig=fig)\n",
    "plt.tight_layout()\n",
    "plt.savefig(\"fig3_2A_upset.pdf\"); plt.savefig(\"fig3_2A_upset.svg\")\n",
    "plt.close()\n",
    "print(\"✓ fig3_2A_upset.* saved\")\n"
   ]
  },
  {
   "cell_type": "code",
   "execution_count": 5,
   "id": "a6820e43-04c4-4f14-95bd-c91e080e8515",
   "metadata": {
    "tags": []
   },
   "outputs": [
    {
     "ename": "TypeError",
     "evalue": "stem() got an unexpected keyword argument 'use_line_collection'",
     "output_type": "error",
     "traceback": [
      "\u001b[31m---------------------------------------------------------------------------\u001b[39m",
      "\u001b[31mTypeError\u001b[39m                                 Traceback (most recent call last)",
      "\u001b[36mCell\u001b[39m\u001b[36m \u001b[39m\u001b[32mIn[5]\u001b[39m\u001b[32m, line 14\u001b[39m\n\u001b[32m      7\u001b[39m jaccard   = intersect / (\n\u001b[32m      8\u001b[39m     indicators[\u001b[33m\"\u001b[39m\u001b[33min_oesophagus\u001b[39m\u001b[33m\"\u001b[39m].sum()\n\u001b[32m      9\u001b[39m     + indicators[\u001b[33m\"\u001b[39m\u001b[33min_oral\u001b[39m\u001b[33m\"\u001b[39m].sum()\n\u001b[32m     10\u001b[39m     - intersect\n\u001b[32m     11\u001b[39m )\n\u001b[32m     13\u001b[39m plt.figure(figsize=(FIG_W, \u001b[32m1.4\u001b[39m))       \u001b[38;5;66;03m# FIG_W = 3.54 from helper cell\u001b[39;00m\n\u001b[32m---> \u001b[39m\u001b[32m14\u001b[39m \u001b[43mplt\u001b[49m\u001b[43m.\u001b[49m\u001b[43mstem\u001b[49m\u001b[43m(\u001b[49m\u001b[43m[\u001b[49m\u001b[32;43m0\u001b[39;49m\u001b[43m]\u001b[49m\u001b[43m,\u001b[49m\u001b[43m \u001b[49m\u001b[43m[\u001b[49m\u001b[43mjaccard\u001b[49m\u001b[43m]\u001b[49m\u001b[43m,\u001b[49m\u001b[43m \u001b[49m\u001b[43mbasefmt\u001b[49m\u001b[43m=\u001b[49m\u001b[33;43m\"\u001b[39;49m\u001b[33;43m \u001b[39;49m\u001b[33;43m\"\u001b[39;49m\u001b[43m,\u001b[49m\u001b[43m \u001b[49m\u001b[43muse_line_collection\u001b[49m\u001b[43m=\u001b[49m\u001b[38;5;28;43;01mTrue\u001b[39;49;00m\u001b[43m)\u001b[49m\n\u001b[32m     15\u001b[39m plt.xlim(-\u001b[32m0.5\u001b[39m, \u001b[32m0.5\u001b[39m); plt.xticks([])\n\u001b[32m     16\u001b[39m plt.ylabel(\u001b[33m\"\u001b[39m\u001b[33mJaccard index\u001b[39m\u001b[33m\"\u001b[39m); plt.title(\u001b[33m\"\u001b[39m\u001b[33mOesophagus ∩ Oral\u001b[39m\u001b[33m\"\u001b[39m)\n",
      "\u001b[31mTypeError\u001b[39m: stem() got an unexpected keyword argument 'use_line_collection'"
     ]
    },
    {
     "data": {
      "text/plain": [
       "<Figure size 354x140 with 0 Axes>"
      ]
     },
     "metadata": {},
     "output_type": "display_data"
    }
   ],
   "source": [
    "# --- lollipop plot of species overlap (Figure 3·2 B) -----------------\n",
    "import matplotlib.pyplot as plt\n",
    "import pathlib, numpy as np\n",
    "\n",
    "# re-use the Boolean indicators already loaded\n",
    "intersect = (indicators[\"in_oesophagus\"] & indicators[\"in_oral\"]).sum()\n",
    "jaccard   = intersect / (\n",
    "    indicators[\"in_oesophagus\"].sum()\n",
    "    + indicators[\"in_oral\"].sum()\n",
    "    - intersect\n",
    ")\n",
    "\n",
    "plt.figure(figsize=(FIG_W, 1.4))       # FIG_W = 3.54 from helper cell\n",
    "plt.stem([0], [jaccard], basefmt=\" \", use_line_collection=True)\n",
    "plt.xlim(-0.5, 0.5); plt.xticks([])\n",
    "plt.ylabel(\"Jaccard index\"); plt.title(\"Oesophagus ∩ Oral\")\n",
    "plt.tight_layout()\n",
    "\n",
    "out = pathlib.Path(\"fig3_2B_lollipop\")\n",
    "plt.savefig(out.with_suffix(\".pdf\")); plt.savefig(out.with_suffix(\".svg\"))\n",
    "plt.close()\n",
    "print(f\"✓ {out.name}.* saved  (Jaccard ≈ {jaccard:.3f})\")\n"
   ]
  },
  {
   "cell_type": "code",
   "execution_count": 6,
   "id": "9af0df73-a141-492b-81ce-2e4bbb498d90",
   "metadata": {
    "tags": []
   },
   "outputs": [
    {
     "name": "stdout",
     "output_type": "stream",
     "text": [
      "✓ fig3_2B_lollipop.* saved  (Jaccard ≈ 1.000)\n"
     ]
    }
   ],
   "source": [
    "# --- lollipop plot of species overlap (Figure 3·2 B) -----------------\n",
    "import matplotlib.pyplot as plt\n",
    "import pathlib\n",
    "\n",
    "# indicators is already defined from the UpSet cell\n",
    "intersect = (indicators[\"in_oesophagus\"] & indicators[\"in_oral\"]).sum()\n",
    "jaccard   = intersect / (\n",
    "    indicators[\"in_oesophagus\"].sum()\n",
    "    + indicators[\"in_oral\"].sum()\n",
    "    - intersect\n",
    ")\n",
    "\n",
    "plt.figure(figsize=(FIG_W, 1.4))      # FIG_W = 3.54 from helper cell\n",
    "plt.stem([0], [jaccard], basefmt=\" \") # remove use_line_collection for old MPL\n",
    "plt.xlim(-0.5, 0.5); plt.xticks([])\n",
    "plt.ylabel(\"Jaccard index\"); plt.title(\"Oesophagus ∩ Oral\")\n",
    "plt.tight_layout()\n",
    "\n",
    "out = pathlib.Path(\"fig3_2B_lollipop\")\n",
    "plt.savefig(out.with_suffix(\".pdf\")); plt.savefig(out.with_suffix(\".svg\"))\n",
    "plt.close()\n",
    "print(f\"✓ {out.name}.* saved  (Jaccard ≈ {jaccard:.3f})\")\n"
   ]
  },
  {
   "cell_type": "code",
   "execution_count": 7,
   "id": "2d1d8725-9b08-4058-95cf-2020e1996996",
   "metadata": {
    "tags": []
   },
   "outputs": [
    {
     "ename": "ModuleNotFoundError",
     "evalue": "No module named 'sklearn'",
     "output_type": "error",
     "traceback": [
      "\u001b[31m---------------------------------------------------------------------------\u001b[39m",
      "\u001b[31mModuleNotFoundError\u001b[39m                       Traceback (most recent call last)",
      "\u001b[36mCell\u001b[39m\u001b[36m \u001b[39m\u001b[32mIn[7]\u001b[39m\u001b[32m, line 6\u001b[39m\n\u001b[32m      3\u001b[39m \u001b[38;5;66;03m# ----------------------------\u001b[39;00m\n\u001b[32m      5\u001b[39m \u001b[38;5;28;01mimport\u001b[39;00m\u001b[38;5;250m \u001b[39m\u001b[34;01mpandas\u001b[39;00m\u001b[38;5;250m \u001b[39m\u001b[38;5;28;01mas\u001b[39;00m\u001b[38;5;250m \u001b[39m\u001b[34;01mpd\u001b[39;00m,\u001b[38;5;250m \u001b[39m\u001b[34;01mseaborn\u001b[39;00m\u001b[38;5;250m \u001b[39m\u001b[38;5;28;01mas\u001b[39;00m\u001b[38;5;250m \u001b[39m\u001b[34;01msns\u001b[39;00m,\u001b[38;5;250m \u001b[39m\u001b[34;01mmatplotlib\u001b[39;00m\u001b[34;01m.\u001b[39;00m\u001b[34;01mpyplot\u001b[39;00m\u001b[38;5;250m \u001b[39m\u001b[38;5;28;01mas\u001b[39;00m\u001b[38;5;250m \u001b[39m\u001b[34;01mplt\u001b[39;00m,\u001b[38;5;250m \u001b[39m\u001b[34;01mpathlib\u001b[39;00m\n\u001b[32m----> \u001b[39m\u001b[32m6\u001b[39m \u001b[38;5;28;01mfrom\u001b[39;00m\u001b[38;5;250m \u001b[39m\u001b[34;01msklearn\u001b[39;00m\u001b[34;01m.\u001b[39;00m\u001b[34;01mpreprocessing\u001b[39;00m\u001b[38;5;250m \u001b[39m\u001b[38;5;28;01mimport\u001b[39;00m StandardScaler\n\u001b[32m      7\u001b[39m \u001b[38;5;28;01mfrom\u001b[39;00m\u001b[38;5;250m \u001b[39m\u001b[34;01msklearn\u001b[39;00m\u001b[34;01m.\u001b[39;00m\u001b[34;01mdecomposition\u001b[39;00m\u001b[38;5;250m \u001b[39m\u001b[38;5;28;01mimport\u001b[39;00m PCA\n\u001b[32m      9\u001b[39m FIG_W = \u001b[32m3.54\u001b[39m  \u001b[38;5;66;03m# 90 mm\u001b[39;00m\n",
      "\u001b[31mModuleNotFoundError\u001b[39m: No module named 'sklearn'"
     ]
    }
   ],
   "source": [
    "# ---------- CONFIG ----------\n",
    "module_matrix = \"/full/path/to/your/module_matrix.tsv\"   # ← edit\n",
    "# ----------------------------\n",
    "\n",
    "import pandas as pd, seaborn as sns, matplotlib.pyplot as plt, pathlib\n",
    "from sklearn.preprocessing import StandardScaler\n",
    "from sklearn.decomposition import PCA\n",
    "\n",
    "FIG_W = 3.54  # 90 mm\n",
    "\n",
    "mat = pd.read_csv(module_matrix, sep=\"\\t\", index_col=0)\n",
    "\n",
    "# --- heat-map (top-50 variable modules) ---\n",
    "top50 = mat.var().nlargest(50).index\n",
    "plt.figure(figsize=(FIG_W, 4.5))\n",
    "sns.heatmap(mat[top50], cmap=\"viridis\", cbar_kws={\"label\":\"Completeness\"})\n",
    "plt.ylabel(\"MAG\"); plt.xlabel(\"KEGG module (top 50 var)\")\n",
    "plt.tight_layout()\n",
    "plt.savefig(\"fig3_3A_heatmap.pdf\"); plt.savefig(\"fig3_3A_heatmap.svg\")\n",
    "plt.close(); print(\"✓ fig3_3A_heatmap.* saved\")\n",
    "\n",
    "# --- simple PCoA (PCA on scaled data) ---\n",
    "X = StandardScaler().fit_transform(mat)\n",
    "pca = PCA(n_components=2).fit_transform(X)\n",
    "plt.figure(figsize=(FIG_W, 3))\n",
    "plt.scatter(pca[:,0], pca[:,1], s=30)\n",
    "plt.xlabel(\"PC1\"); plt.ylabel(\"PC2\")\n",
    "plt.tight_layout()\n",
    "plt.savefig(\"fig3_3C_pcoa.pdf\"); plt.savefig(\"fig3_3C_pcoa.svg\")\n",
    "plt.close(); print(\"✓ fig3_3C_pcoa.* saved\")\n"
   ]
  },
  {
   "cell_type": "code",
   "execution_count": 8,
   "id": "ea49f92f-6a70-4232-b0d4-e8d6a3537820",
   "metadata": {
    "tags": []
   },
   "outputs": [
    {
     "ename": "ModuleNotFoundError",
     "evalue": "No module named 'sklearn'",
     "output_type": "error",
     "traceback": [
      "\u001b[31m---------------------------------------------------------------------------\u001b[39m",
      "\u001b[31mModuleNotFoundError\u001b[39m                       Traceback (most recent call last)",
      "\u001b[36mCell\u001b[39m\u001b[36m \u001b[39m\u001b[32mIn[8]\u001b[39m\u001b[32m, line 6\u001b[39m\n\u001b[32m      3\u001b[39m \u001b[38;5;66;03m# ----------------------------\u001b[39;00m\n\u001b[32m      5\u001b[39m \u001b[38;5;28;01mimport\u001b[39;00m\u001b[38;5;250m \u001b[39m\u001b[34;01mpandas\u001b[39;00m\u001b[38;5;250m \u001b[39m\u001b[38;5;28;01mas\u001b[39;00m\u001b[38;5;250m \u001b[39m\u001b[34;01mpd\u001b[39;00m,\u001b[38;5;250m \u001b[39m\u001b[34;01mseaborn\u001b[39;00m\u001b[38;5;250m \u001b[39m\u001b[38;5;28;01mas\u001b[39;00m\u001b[38;5;250m \u001b[39m\u001b[34;01msns\u001b[39;00m,\u001b[38;5;250m \u001b[39m\u001b[34;01mmatplotlib\u001b[39;00m\u001b[34;01m.\u001b[39;00m\u001b[34;01mpyplot\u001b[39;00m\u001b[38;5;250m \u001b[39m\u001b[38;5;28;01mas\u001b[39;00m\u001b[38;5;250m \u001b[39m\u001b[34;01mplt\u001b[39;00m,\u001b[38;5;250m \u001b[39m\u001b[34;01mpathlib\u001b[39;00m\n\u001b[32m----> \u001b[39m\u001b[32m6\u001b[39m \u001b[38;5;28;01mfrom\u001b[39;00m\u001b[38;5;250m \u001b[39m\u001b[34;01msklearn\u001b[39;00m\u001b[34;01m.\u001b[39;00m\u001b[34;01mpreprocessing\u001b[39;00m\u001b[38;5;250m \u001b[39m\u001b[38;5;28;01mimport\u001b[39;00m StandardScaler\n\u001b[32m      7\u001b[39m \u001b[38;5;28;01mfrom\u001b[39;00m\u001b[38;5;250m \u001b[39m\u001b[34;01msklearn\u001b[39;00m\u001b[34;01m.\u001b[39;00m\u001b[34;01mdecomposition\u001b[39;00m\u001b[38;5;250m \u001b[39m\u001b[38;5;28;01mimport\u001b[39;00m PCA\n\u001b[32m      9\u001b[39m FIG_W = \u001b[32m3.54\u001b[39m  \u001b[38;5;66;03m# 90 mm\u001b[39;00m\n",
      "\u001b[31mModuleNotFoundError\u001b[39m: No module named 'sklearn'"
     ]
    }
   ],
   "source": [
    "# ---------- CONFIG ----------\n",
    "module_matrix = \"/full/path/to/your/module_matrix.tsv\"   # ← edit\n",
    "# ----------------------------\n",
    "\n",
    "import pandas as pd, seaborn as sns, matplotlib.pyplot as plt, pathlib\n",
    "from sklearn.preprocessing import StandardScaler\n",
    "from sklearn.decomposition import PCA\n",
    "\n",
    "FIG_W = 3.54  # 90 mm\n",
    "\n",
    "mat = pd.read_csv(module_matrix, sep=\"\\t\", index_col=0)\n",
    "\n",
    "# --- heat-map (top-50 variable modules) ---\n",
    "top50 = mat.var().nlargest(50).index\n",
    "plt.figure(figsize=(FIG_W, 4.5))\n",
    "sns.heatmap(mat[top50], cmap=\"viridis\", cbar_kws={\"label\":\"Completeness\"})\n",
    "plt.ylabel(\"MAG\"); plt.xlabel(\"KEGG module (top 50 var)\")\n",
    "plt.tight_layout()\n",
    "plt.savefig(\"fig3_3A_heatmap.pdf\"); plt.savefig(\"fig3_3A_heatmap.svg\")\n",
    "plt.close(); print(\"✓ fig3_3A_heatmap.* saved\")\n",
    "\n",
    "# --- simple PCoA (PCA on scaled data) ---\n",
    "X = StandardScaler().fit_transform(mat)\n",
    "pca = PCA(n_components=2).fit_transform(X)\n",
    "plt.figure(figsize=(FIG_W, 3))\n",
    "plt.scatter(pca[:,0], pca[:,1], s=30)\n",
    "plt.xlabel(\"PC1\"); plt.ylabel(\"PC2\")\n",
    "plt.tight_layout()\n",
    "plt.savefig(\"fig3_3C_pcoa.pdf\"); plt.savefig(\"fig3_3C_pcoa.svg\")\n",
    "plt.close(); print(\"✓ fig3_3C_pcoa.* saved\")\n"
   ]
  },
  {
   "cell_type": "code",
   "execution_count": 9,
   "id": "eeba0f7b-d4c4-4a97-a69c-aff09f875c6f",
   "metadata": {
    "tags": []
   },
   "outputs": [
    {
     "ename": "FileNotFoundError",
     "evalue": "[Errno 2] No such file or directory: '/full/path/to/your/module_matrix.tsv'",
     "output_type": "error",
     "traceback": [
      "\u001b[31m---------------------------------------------------------------------------\u001b[39m",
      "\u001b[31mFileNotFoundError\u001b[39m                         Traceback (most recent call last)",
      "\u001b[36mCell\u001b[39m\u001b[36m \u001b[39m\u001b[32mIn[9]\u001b[39m\u001b[32m, line 22\u001b[39m\n\u001b[32m     19\u001b[39m FIG_W = \u001b[32m3.54\u001b[39m   \u001b[38;5;66;03m# 90 mm journal column width\u001b[39;00m\n\u001b[32m     21\u001b[39m \u001b[38;5;66;03m# 3 ─ Load the module-completeness matrix\u001b[39;00m\n\u001b[32m---> \u001b[39m\u001b[32m22\u001b[39m mat = \u001b[43mpd\u001b[49m\u001b[43m.\u001b[49m\u001b[43mread_csv\u001b[49m\u001b[43m(\u001b[49m\u001b[43mmodule_matrix\u001b[49m\u001b[43m,\u001b[49m\u001b[43m \u001b[49m\u001b[43msep\u001b[49m\u001b[43m=\u001b[49m\u001b[33;43m\"\u001b[39;49m\u001b[38;5;130;43;01m\\t\u001b[39;49;00m\u001b[33;43m\"\u001b[39;49m\u001b[43m,\u001b[49m\u001b[43m \u001b[49m\u001b[43mindex_col\u001b[49m\u001b[43m=\u001b[49m\u001b[32;43m0\u001b[39;49m\u001b[43m)\u001b[49m\n\u001b[32m     24\u001b[39m \u001b[38;5;66;03m# 4 ─ Heat-map (top-50 most variable modules)\u001b[39;00m\n\u001b[32m     25\u001b[39m top50 = mat.var().nlargest(\u001b[32m50\u001b[39m).index\n",
      "\u001b[36mFile \u001b[39m\u001b[32m~/my_prokka_env/lib/python3.13/site-packages/pandas/io/parsers/readers.py:1026\u001b[39m, in \u001b[36mread_csv\u001b[39m\u001b[34m(filepath_or_buffer, sep, delimiter, header, names, index_col, usecols, dtype, engine, converters, true_values, false_values, skipinitialspace, skiprows, skipfooter, nrows, na_values, keep_default_na, na_filter, verbose, skip_blank_lines, parse_dates, infer_datetime_format, keep_date_col, date_parser, date_format, dayfirst, cache_dates, iterator, chunksize, compression, thousands, decimal, lineterminator, quotechar, quoting, doublequote, escapechar, comment, encoding, encoding_errors, dialect, on_bad_lines, delim_whitespace, low_memory, memory_map, float_precision, storage_options, dtype_backend)\u001b[39m\n\u001b[32m   1013\u001b[39m kwds_defaults = _refine_defaults_read(\n\u001b[32m   1014\u001b[39m     dialect,\n\u001b[32m   1015\u001b[39m     delimiter,\n\u001b[32m   (...)\u001b[39m\u001b[32m   1022\u001b[39m     dtype_backend=dtype_backend,\n\u001b[32m   1023\u001b[39m )\n\u001b[32m   1024\u001b[39m kwds.update(kwds_defaults)\n\u001b[32m-> \u001b[39m\u001b[32m1026\u001b[39m \u001b[38;5;28;01mreturn\u001b[39;00m \u001b[43m_read\u001b[49m\u001b[43m(\u001b[49m\u001b[43mfilepath_or_buffer\u001b[49m\u001b[43m,\u001b[49m\u001b[43m \u001b[49m\u001b[43mkwds\u001b[49m\u001b[43m)\u001b[49m\n",
      "\u001b[36mFile \u001b[39m\u001b[32m~/my_prokka_env/lib/python3.13/site-packages/pandas/io/parsers/readers.py:620\u001b[39m, in \u001b[36m_read\u001b[39m\u001b[34m(filepath_or_buffer, kwds)\u001b[39m\n\u001b[32m    617\u001b[39m _validate_names(kwds.get(\u001b[33m\"\u001b[39m\u001b[33mnames\u001b[39m\u001b[33m\"\u001b[39m, \u001b[38;5;28;01mNone\u001b[39;00m))\n\u001b[32m    619\u001b[39m \u001b[38;5;66;03m# Create the parser.\u001b[39;00m\n\u001b[32m--> \u001b[39m\u001b[32m620\u001b[39m parser = \u001b[43mTextFileReader\u001b[49m\u001b[43m(\u001b[49m\u001b[43mfilepath_or_buffer\u001b[49m\u001b[43m,\u001b[49m\u001b[43m \u001b[49m\u001b[43m*\u001b[49m\u001b[43m*\u001b[49m\u001b[43mkwds\u001b[49m\u001b[43m)\u001b[49m\n\u001b[32m    622\u001b[39m \u001b[38;5;28;01mif\u001b[39;00m chunksize \u001b[38;5;129;01mor\u001b[39;00m iterator:\n\u001b[32m    623\u001b[39m     \u001b[38;5;28;01mreturn\u001b[39;00m parser\n",
      "\u001b[36mFile \u001b[39m\u001b[32m~/my_prokka_env/lib/python3.13/site-packages/pandas/io/parsers/readers.py:1620\u001b[39m, in \u001b[36mTextFileReader.__init__\u001b[39m\u001b[34m(self, f, engine, **kwds)\u001b[39m\n\u001b[32m   1617\u001b[39m     \u001b[38;5;28mself\u001b[39m.options[\u001b[33m\"\u001b[39m\u001b[33mhas_index_names\u001b[39m\u001b[33m\"\u001b[39m] = kwds[\u001b[33m\"\u001b[39m\u001b[33mhas_index_names\u001b[39m\u001b[33m\"\u001b[39m]\n\u001b[32m   1619\u001b[39m \u001b[38;5;28mself\u001b[39m.handles: IOHandles | \u001b[38;5;28;01mNone\u001b[39;00m = \u001b[38;5;28;01mNone\u001b[39;00m\n\u001b[32m-> \u001b[39m\u001b[32m1620\u001b[39m \u001b[38;5;28mself\u001b[39m._engine = \u001b[38;5;28;43mself\u001b[39;49m\u001b[43m.\u001b[49m\u001b[43m_make_engine\u001b[49m\u001b[43m(\u001b[49m\u001b[43mf\u001b[49m\u001b[43m,\u001b[49m\u001b[43m \u001b[49m\u001b[38;5;28;43mself\u001b[39;49m\u001b[43m.\u001b[49m\u001b[43mengine\u001b[49m\u001b[43m)\u001b[49m\n",
      "\u001b[36mFile \u001b[39m\u001b[32m~/my_prokka_env/lib/python3.13/site-packages/pandas/io/parsers/readers.py:1880\u001b[39m, in \u001b[36mTextFileReader._make_engine\u001b[39m\u001b[34m(self, f, engine)\u001b[39m\n\u001b[32m   1878\u001b[39m     \u001b[38;5;28;01mif\u001b[39;00m \u001b[33m\"\u001b[39m\u001b[33mb\u001b[39m\u001b[33m\"\u001b[39m \u001b[38;5;129;01mnot\u001b[39;00m \u001b[38;5;129;01min\u001b[39;00m mode:\n\u001b[32m   1879\u001b[39m         mode += \u001b[33m\"\u001b[39m\u001b[33mb\u001b[39m\u001b[33m\"\u001b[39m\n\u001b[32m-> \u001b[39m\u001b[32m1880\u001b[39m \u001b[38;5;28mself\u001b[39m.handles = \u001b[43mget_handle\u001b[49m\u001b[43m(\u001b[49m\n\u001b[32m   1881\u001b[39m \u001b[43m    \u001b[49m\u001b[43mf\u001b[49m\u001b[43m,\u001b[49m\n\u001b[32m   1882\u001b[39m \u001b[43m    \u001b[49m\u001b[43mmode\u001b[49m\u001b[43m,\u001b[49m\n\u001b[32m   1883\u001b[39m \u001b[43m    \u001b[49m\u001b[43mencoding\u001b[49m\u001b[43m=\u001b[49m\u001b[38;5;28;43mself\u001b[39;49m\u001b[43m.\u001b[49m\u001b[43moptions\u001b[49m\u001b[43m.\u001b[49m\u001b[43mget\u001b[49m\u001b[43m(\u001b[49m\u001b[33;43m\"\u001b[39;49m\u001b[33;43mencoding\u001b[39;49m\u001b[33;43m\"\u001b[39;49m\u001b[43m,\u001b[49m\u001b[43m \u001b[49m\u001b[38;5;28;43;01mNone\u001b[39;49;00m\u001b[43m)\u001b[49m\u001b[43m,\u001b[49m\n\u001b[32m   1884\u001b[39m \u001b[43m    \u001b[49m\u001b[43mcompression\u001b[49m\u001b[43m=\u001b[49m\u001b[38;5;28;43mself\u001b[39;49m\u001b[43m.\u001b[49m\u001b[43moptions\u001b[49m\u001b[43m.\u001b[49m\u001b[43mget\u001b[49m\u001b[43m(\u001b[49m\u001b[33;43m\"\u001b[39;49m\u001b[33;43mcompression\u001b[39;49m\u001b[33;43m\"\u001b[39;49m\u001b[43m,\u001b[49m\u001b[43m \u001b[49m\u001b[38;5;28;43;01mNone\u001b[39;49;00m\u001b[43m)\u001b[49m\u001b[43m,\u001b[49m\n\u001b[32m   1885\u001b[39m \u001b[43m    \u001b[49m\u001b[43mmemory_map\u001b[49m\u001b[43m=\u001b[49m\u001b[38;5;28;43mself\u001b[39;49m\u001b[43m.\u001b[49m\u001b[43moptions\u001b[49m\u001b[43m.\u001b[49m\u001b[43mget\u001b[49m\u001b[43m(\u001b[49m\u001b[33;43m\"\u001b[39;49m\u001b[33;43mmemory_map\u001b[39;49m\u001b[33;43m\"\u001b[39;49m\u001b[43m,\u001b[49m\u001b[43m \u001b[49m\u001b[38;5;28;43;01mFalse\u001b[39;49;00m\u001b[43m)\u001b[49m\u001b[43m,\u001b[49m\n\u001b[32m   1886\u001b[39m \u001b[43m    \u001b[49m\u001b[43mis_text\u001b[49m\u001b[43m=\u001b[49m\u001b[43mis_text\u001b[49m\u001b[43m,\u001b[49m\n\u001b[32m   1887\u001b[39m \u001b[43m    \u001b[49m\u001b[43merrors\u001b[49m\u001b[43m=\u001b[49m\u001b[38;5;28;43mself\u001b[39;49m\u001b[43m.\u001b[49m\u001b[43moptions\u001b[49m\u001b[43m.\u001b[49m\u001b[43mget\u001b[49m\u001b[43m(\u001b[49m\u001b[33;43m\"\u001b[39;49m\u001b[33;43mencoding_errors\u001b[39;49m\u001b[33;43m\"\u001b[39;49m\u001b[43m,\u001b[49m\u001b[43m \u001b[49m\u001b[33;43m\"\u001b[39;49m\u001b[33;43mstrict\u001b[39;49m\u001b[33;43m\"\u001b[39;49m\u001b[43m)\u001b[49m\u001b[43m,\u001b[49m\n\u001b[32m   1888\u001b[39m \u001b[43m    \u001b[49m\u001b[43mstorage_options\u001b[49m\u001b[43m=\u001b[49m\u001b[38;5;28;43mself\u001b[39;49m\u001b[43m.\u001b[49m\u001b[43moptions\u001b[49m\u001b[43m.\u001b[49m\u001b[43mget\u001b[49m\u001b[43m(\u001b[49m\u001b[33;43m\"\u001b[39;49m\u001b[33;43mstorage_options\u001b[39;49m\u001b[33;43m\"\u001b[39;49m\u001b[43m,\u001b[49m\u001b[43m \u001b[49m\u001b[38;5;28;43;01mNone\u001b[39;49;00m\u001b[43m)\u001b[49m\u001b[43m,\u001b[49m\n\u001b[32m   1889\u001b[39m \u001b[43m\u001b[49m\u001b[43m)\u001b[49m\n\u001b[32m   1890\u001b[39m \u001b[38;5;28;01massert\u001b[39;00m \u001b[38;5;28mself\u001b[39m.handles \u001b[38;5;129;01mis\u001b[39;00m \u001b[38;5;129;01mnot\u001b[39;00m \u001b[38;5;28;01mNone\u001b[39;00m\n\u001b[32m   1891\u001b[39m f = \u001b[38;5;28mself\u001b[39m.handles.handle\n",
      "\u001b[36mFile \u001b[39m\u001b[32m~/my_prokka_env/lib/python3.13/site-packages/pandas/io/common.py:873\u001b[39m, in \u001b[36mget_handle\u001b[39m\u001b[34m(path_or_buf, mode, encoding, compression, memory_map, is_text, errors, storage_options)\u001b[39m\n\u001b[32m    868\u001b[39m \u001b[38;5;28;01melif\u001b[39;00m \u001b[38;5;28misinstance\u001b[39m(handle, \u001b[38;5;28mstr\u001b[39m):\n\u001b[32m    869\u001b[39m     \u001b[38;5;66;03m# Check whether the filename is to be opened in binary mode.\u001b[39;00m\n\u001b[32m    870\u001b[39m     \u001b[38;5;66;03m# Binary mode does not support 'encoding' and 'newline'.\u001b[39;00m\n\u001b[32m    871\u001b[39m     \u001b[38;5;28;01mif\u001b[39;00m ioargs.encoding \u001b[38;5;129;01mand\u001b[39;00m \u001b[33m\"\u001b[39m\u001b[33mb\u001b[39m\u001b[33m\"\u001b[39m \u001b[38;5;129;01mnot\u001b[39;00m \u001b[38;5;129;01min\u001b[39;00m ioargs.mode:\n\u001b[32m    872\u001b[39m         \u001b[38;5;66;03m# Encoding\u001b[39;00m\n\u001b[32m--> \u001b[39m\u001b[32m873\u001b[39m         handle = \u001b[38;5;28;43mopen\u001b[39;49m\u001b[43m(\u001b[49m\n\u001b[32m    874\u001b[39m \u001b[43m            \u001b[49m\u001b[43mhandle\u001b[49m\u001b[43m,\u001b[49m\n\u001b[32m    875\u001b[39m \u001b[43m            \u001b[49m\u001b[43mioargs\u001b[49m\u001b[43m.\u001b[49m\u001b[43mmode\u001b[49m\u001b[43m,\u001b[49m\n\u001b[32m    876\u001b[39m \u001b[43m            \u001b[49m\u001b[43mencoding\u001b[49m\u001b[43m=\u001b[49m\u001b[43mioargs\u001b[49m\u001b[43m.\u001b[49m\u001b[43mencoding\u001b[49m\u001b[43m,\u001b[49m\n\u001b[32m    877\u001b[39m \u001b[43m            \u001b[49m\u001b[43merrors\u001b[49m\u001b[43m=\u001b[49m\u001b[43merrors\u001b[49m\u001b[43m,\u001b[49m\n\u001b[32m    878\u001b[39m \u001b[43m            \u001b[49m\u001b[43mnewline\u001b[49m\u001b[43m=\u001b[49m\u001b[33;43m\"\u001b[39;49m\u001b[33;43m\"\u001b[39;49m\u001b[43m,\u001b[49m\n\u001b[32m    879\u001b[39m \u001b[43m        \u001b[49m\u001b[43m)\u001b[49m\n\u001b[32m    880\u001b[39m     \u001b[38;5;28;01melse\u001b[39;00m:\n\u001b[32m    881\u001b[39m         \u001b[38;5;66;03m# Binary mode\u001b[39;00m\n\u001b[32m    882\u001b[39m         handle = \u001b[38;5;28mopen\u001b[39m(handle, ioargs.mode)\n",
      "\u001b[31mFileNotFoundError\u001b[39m: [Errno 2] No such file or directory: '/full/path/to/your/module_matrix.tsv'"
     ]
    }
   ],
   "source": [
    "# ═════════════════  LAST-STEP ONE-CELL  (Fig 3·3 A & C)  ═════════════════\n",
    "# Path to your DRAM/METABOLIC module matrix (rows = MAGs, cols = KEGG modules)\n",
    "module_matrix = \"/full/path/to/your/module_matrix.tsv\"           # ← edit here\n",
    "# (If you do not have it yet, skip this cell and finish later.)\n",
    "\n",
    "# 1 ─ Install any missing libraries right inside this kernel\n",
    "import subprocess, sys, importlib\n",
    "for pkg in [\"scikit-learn\", \"seaborn\"]:\n",
    "    try:\n",
    "        importlib.import_module(pkg.replace(\"-\", \"_\"))\n",
    "    except ModuleNotFoundError:\n",
    "        subprocess.check_call([sys.executable, \"-m\", \"pip\", \"install\", \"--quiet\", pkg])\n",
    "\n",
    "# 2 ─ Imports (now guaranteed to work)\n",
    "import pandas as pd, seaborn as sns, matplotlib.pyplot as plt, pathlib\n",
    "from sklearn.preprocessing import StandardScaler\n",
    "from sklearn.decomposition import PCA\n",
    "\n",
    "FIG_W = 3.54   # 90 mm journal column width\n",
    "\n",
    "# 3 ─ Load the module-completeness matrix\n",
    "mat = pd.read_csv(module_matrix, sep=\"\\t\", index_col=0)\n",
    "\n",
    "# 4 ─ Heat-map (top-50 most variable modules)\n",
    "top50 = mat.var().nlargest(50).index\n",
    "plt.figure(figsize=(FIG_W, 4.5))\n",
    "sns.heatmap(mat[top50], cmap=\"viridis\", cbar_kws={\"label\": \"Completeness\"})\n",
    "plt.ylabel(\"MAG\"); plt.xlabel(\"KEGG module (top 50 var)\")\n",
    "plt.tight_layout()\n",
    "plt.savefig(\"fig3_3A_heatmap.pdf\"); plt.savefig(\"fig3_3A_heatmap.svg\")\n",
    "plt.close()\n",
    "print(\"✓ fig3_3A_heatmap.* saved\")\n",
    "\n",
    "# 5 ─ Simple PCoA (PCA) scatter\n",
    "X = StandardScaler().fit_transform(mat)\n",
    "pc1, pc2 = PCA(n_components=2).fit_transform(X).T\n",
    "plt.figure(figsize=(FIG_W, 3))\n",
    "plt.scatter(pc1, pc2, s=30)\n",
    "plt.xlabel(\"PC1\"); plt.ylabel(\"PC2\")\n",
    "plt.tight_layout()\n",
    "plt.savefig(\"fig3_3C_pcoa.pdf\"); plt.savefig(\"fig3_3C_pcoa.svg\")\n",
    "plt.close()\n",
    "print(\"✓ fig3_3C_pcoa.* saved\")\n",
    "# ════════════════════════════════════════════════════════════════════════\n"
   ]
  },
  {
   "cell_type": "code",
   "execution_count": null,
   "id": "3c8eebb2-5efb-4850-90f0-6d0e1f02b9e8",
   "metadata": {},
   "outputs": [],
   "source": []
  }
 ],
 "metadata": {
  "kernelspec": {
   "display_name": "Python [conda env:my_prokka_env]",
   "language": "python",
   "name": "conda-env-my_prokka_env-py"
  },
  "language_info": {
   "codemirror_mode": {
    "name": "ipython",
    "version": 3
   },
   "file_extension": ".py",
   "mimetype": "text/x-python",
   "name": "python",
   "nbconvert_exporter": "python",
   "pygments_lexer": "ipython3",
   "version": "3.13.2"
  }
 },
 "nbformat": 4,
 "nbformat_minor": 5
}
