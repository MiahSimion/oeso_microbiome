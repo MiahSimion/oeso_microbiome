{
 "cells": [
  {
   "cell_type": "code",
   "execution_count": 1,
   "id": "bc8551aa-3ed1-4660-a768-b2c9b7288aa9",
   "metadata": {
    "tags": []
   },
   "outputs": [
    {
     "ename": "NameError",
     "evalue": "name 'glob' is not defined",
     "output_type": "error",
     "traceback": [
      "\u001b[31m---------------------------------------------------------------------------\u001b[39m",
      "\u001b[31mNameError\u001b[39m                                 Traceback (most recent call last)",
      "\u001b[36mCell\u001b[39m\u001b[36m \u001b[39m\u001b[32mIn[1]\u001b[39m\u001b[32m, line 11\u001b[39m\n\u001b[32m      9\u001b[39m cov_hits = []\n\u001b[32m     10\u001b[39m \u001b[38;5;28;01mfor\u001b[39;00m pat \u001b[38;5;129;01min\u001b[39;00m coverage_patterns:\n\u001b[32m---> \u001b[39m\u001b[32m11\u001b[39m     cov_hits += \u001b[43mglob\u001b[49m.glob(os.path.join(\u001b[33m\"\u001b[39m\u001b[33m/home/jovyan\u001b[39m\u001b[33m\"\u001b[39m, pat), recursive=\u001b[38;5;28;01mTrue\u001b[39;00m)\n\u001b[32m     13\u001b[39m \u001b[38;5;28mprint\u001b[39m(\u001b[33m\"\u001b[39m\u001b[33mCoverage hits:\u001b[39m\u001b[33m\"\u001b[39m, \u001b[38;5;28mlen\u001b[39m(cov_hits))\n\u001b[32m     14\u001b[39m pprint([textwrap.shorten(p, width=\u001b[32m120\u001b[39m) \u001b[38;5;28;01mfor\u001b[39;00m p \u001b[38;5;129;01min\u001b[39;00m cov_hits][:\u001b[32m20\u001b[39m])\n",
      "\u001b[31mNameError\u001b[39m: name 'glob' is not defined"
     ]
    }
   ],
   "source": [
    "coverage_patterns = [\n",
    "    \"**/*coverm*.tsv\",\n",
    "    \"**/*coverage*.tsv\",\n",
    "    \"**/*depth*.txt\",\n",
    "    \"**/*abundance_mag*.tsv\",\n",
    "    \"**/*orf*counts*.tsv\",      # added because you have orf_counts_per_MAG.tsv\n",
    "]\n",
    "\n",
    "cov_hits = []\n",
    "for pat in coverage_patterns:\n",
    "    cov_hits += glob.glob(os.path.join(\"/home/jovyan\", pat), recursive=True)\n",
    "\n",
    "print(\"Coverage hits:\", len(cov_hits))\n",
    "pprint([textwrap.shorten(p, width=120) for p in cov_hits][:20])\n"
   ]
  },
  {
   "cell_type": "code",
   "execution_count": 2,
   "id": "2f67b5a0-b70c-4334-a2e8-71db2b9f7d60",
   "metadata": {
    "tags": []
   },
   "outputs": [
    {
     "name": "stdout",
     "output_type": "stream",
     "text": [
      "Helpers loaded. Working in: /home/jovyan\n"
     ]
    }
   ],
   "source": [
    "# ──────────  SETUP — run this ONCE after starting the kernel  ──────────\n",
    "import glob, os, pathlib, textwrap, pandas as pd\n",
    "from pprint import pprint\n",
    "\n",
    "print(\"Helpers loaded. Working in:\", pathlib.Path.cwd())\n",
    "# ───────────────────────────────────────────────────────────────────────\n"
   ]
  },
  {
   "cell_type": "code",
   "execution_count": null,
   "id": "6f990df7-2f22-4c6d-85ba-b53d4564878d",
   "metadata": {
    "tags": []
   },
   "outputs": [],
   "source": [
    "# ❶ coverage outputs\n",
    "coverage_patterns = [\n",
    "    \"**/*coverm*.tsv\",\n",
    "    \"**/*coverage*.tsv\",\n",
    "    \"**/*depth*.txt\",\n",
    "    \"**/*abundance_mag*.tsv\",\n",
    "    \"**/*orf*counts*.tsv\",   # you already have orf_counts_per_MAG.tsv\n",
    "]\n",
    "\n",
    "cov_hits = []\n",
    "for pat in coverage_patterns:\n",
    "    cov_hits += glob.glob(os.path.join(\"/home/jovyan\", pat), recursive=True)\n",
    "\n",
    "print(\"Coverage hits:\", len(cov_hits))\n",
    "pprint([textwrap.shorten(p, width=120) for p in cov_hits][:20])\n",
    "\n",
    "# ❷ GTDB taxonomy file\n",
    "tax_hits = glob.glob(os.path.join(\"/home/jovyan\", \"**/*gtdb*tax*.tsv\"), recursive=True)\n",
    "print(\"\\nGTDB hits:\", len(tax_hits))\n",
    "pprint([textwrap.shorten(p, width=120) for p in tax_hits])\n"
   ]
  },
  {
   "cell_type": "code",
   "execution_count": null,
   "id": "25319e83-b5f4-410b-be8e-6a17f3c94595",
   "metadata": {},
   "outputs": [],
   "source": []
  }
 ],
 "metadata": {
  "kernelspec": {
   "display_name": "Python [conda env:my_prokka_env]",
   "language": "python",
   "name": "conda-env-my_prokka_env-py"
  },
  "language_info": {
   "codemirror_mode": {
    "name": "ipython",
    "version": 3
   },
   "file_extension": ".py",
   "mimetype": "text/x-python",
   "name": "python",
   "nbconvert_exporter": "python",
   "pygments_lexer": "ipython3",
   "version": "3.13.2"
  }
 },
 "nbformat": 4,
 "nbformat_minor": 5
}
