{
 "cells": [
  {
   "cell_type": "code",
   "execution_count": 1,
   "id": "b4d1a634-ccc2-48c0-b3d7-0ba7b636a533",
   "metadata": {
    "tags": []
   },
   "outputs": [
    {
     "name": "stdout",
     "output_type": "stream",
     "text": [
      "matplotlib-inline         0.1.6              pyhd8ed1ab_0    conda-forge\n"
     ]
    }
   ],
   "source": [
    "!conda list | grep pandas\n",
    "!conda list | grep matplotlib\n",
    "!conda list | grep seaborn"
   ]
  },
  {
   "cell_type": "code",
   "execution_count": 1,
   "id": "654e13b0-ea50-409d-b343-39c3636c8caf",
   "metadata": {
    "tags": []
   },
   "outputs": [
    {
     "name": "stdout",
     "output_type": "stream",
     "text": [
      "pandas                    2.2.3            py39h3b40f6f_2    conda-forge\n",
      "matplotlib-base           3.9.4            py39h16632d1_0    conda-forge\n",
      "matplotlib-inline         0.1.7              pyhd8ed1ab_1    conda-forge\n"
     ]
    }
   ],
   "source": [
    "!conda list | grep pandas\n",
    "!conda list | grep matplotlib\n",
    "!conda list | grep seaborn"
   ]
  },
  {
   "cell_type": "code",
   "execution_count": 2,
   "id": "5664c2ae-d6a4-488b-81a4-08b2baeb0059",
   "metadata": {
    "tags": []
   },
   "outputs": [
    {
     "ename": "ModuleNotFoundError",
     "evalue": "No module named 'seaborn'",
     "output_type": "error",
     "traceback": [
      "\u001b[0;31m---------------------------------------------------------------------------\u001b[0m",
      "\u001b[0;31mModuleNotFoundError\u001b[0m                       Traceback (most recent call last)",
      "Cell \u001b[0;32mIn[2], line 4\u001b[0m\n\u001b[1;32m      2\u001b[0m \u001b[38;5;28;01mimport\u001b[39;00m\u001b[38;5;250m \u001b[39m\u001b[38;5;21;01mpandas\u001b[39;00m\u001b[38;5;250m \u001b[39m\u001b[38;5;28;01mas\u001b[39;00m\u001b[38;5;250m \u001b[39m\u001b[38;5;21;01mpd\u001b[39;00m\n\u001b[1;32m      3\u001b[0m \u001b[38;5;28;01mimport\u001b[39;00m\u001b[38;5;250m \u001b[39m\u001b[38;5;21;01mmatplotlib\u001b[39;00m\u001b[38;5;21;01m.\u001b[39;00m\u001b[38;5;21;01mpyplot\u001b[39;00m\u001b[38;5;250m \u001b[39m\u001b[38;5;28;01mas\u001b[39;00m\u001b[38;5;250m \u001b[39m\u001b[38;5;21;01mplt\u001b[39;00m\n\u001b[0;32m----> 4\u001b[0m \u001b[38;5;28;01mimport\u001b[39;00m\u001b[38;5;250m \u001b[39m\u001b[38;5;21;01mseaborn\u001b[39;00m\u001b[38;5;250m \u001b[39m\u001b[38;5;28;01mas\u001b[39;00m\u001b[38;5;250m \u001b[39m\u001b[38;5;21;01msns\u001b[39;00m\n\u001b[1;32m      6\u001b[0m \u001b[38;5;66;03m# Directory containing DRAM outputs from Prokka\u001b[39;00m\n\u001b[1;32m      7\u001b[0m dram_dir \u001b[38;5;241m=\u001b[39m \u001b[38;5;124m\"\u001b[39m\u001b[38;5;124m/home/jovyan/shared-team/dram_output_prokka\u001b[39m\u001b[38;5;124m\"\u001b[39m\n",
      "\u001b[0;31mModuleNotFoundError\u001b[0m: No module named 'seaborn'"
     ]
    }
   ],
   "source": [
    "import os\n",
    "import pandas as pd\n",
    "import matplotlib.pyplot as plt\n",
    "import seaborn as sns\n",
    "\n",
    "# Directory containing DRAM outputs from Prokka\n",
    "dram_dir = \"/home/jovyan/shared-team/dram_output_prokka\"\n",
    "\n",
    "# List all subdirectories (each bin has its own folder)\n",
    "bin_dirs = [d for d in os.listdir(dram_dir) if os.path.isdir(os.path.join(dram_dir, d))]\n",
    "\n",
    "combined_df = pd.DataFrame()\n",
    "\n",
    "for bin_name in bin_dirs:\n",
    "    annotations_path = os.path.join(dram_dir, bin_name, \"annotations.tsv\")\n",
    "    if os.path.exists(annotations_path):\n",
    "        # Read the annotations file (assuming tab-delimited; adjust separator if needed)\n",
    "        df = pd.read_csv(annotations_path, sep=\"\\t\")\n",
    "        df['Bin'] = bin_name  # add a column with the bin name\n",
    "        combined_df = pd.concat([combined_df, df], ignore_index=True)\n",
    "    else:\n",
    "        print(f\"Warning: {annotations_path} not found for bin {bin_name}\")\n",
    "\n",
    "# Save the combined table for record-keeping\n",
    "combined_output = os.path.join(dram_dir, \"combined_annotations.csv\")\n",
    "combined_df.to_csv(combined_output, index=False)\n",
    "print(\"Combined DRAM annotations saved to:\", combined_output)\n",
    "\n",
    "# For example, let's see how frequently each pathway is annotated across bins.\n",
    "# Adjust the column name if your file uses a different header; here I assume it's \"Pathway\".\n",
    "if 'Pathway' in combined_df.columns:\n",
    "    pathway_counts = combined_df['Pathway'].value_counts()\n",
    "    print(\"Pathway counts across bins:\")\n",
    "    print(pathway_counts)\n",
    "\n",
    "    # Plot a bar chart of the top 10 most frequent pathways:\n",
    "    plt.figure(figsize=(10,6))\n",
    "    pathway_counts.head(10).plot(kind='bar')\n",
    "    plt.xlabel(\"Pathway\")\n",
    "    plt.ylabel(\"Count\")\n",
    "    plt.title(\"Top 10 Pathways Across Bins\")\n",
    "    plt.tight_layout()\n",
    "    plt.show()\n",
    "\n",
    "    # Create a pivot table for a heatmap: rows = pathways, columns = bins\n",
    "    pivot = pd.pivot_table(combined_df, index='Pathway', columns='Bin', aggfunc='size', fill_value=0)\n",
    "    plt.figure(figsize=(12,8))\n",
    "    sns.heatmap(pivot, cmap=\"viridis\", annot=True, fmt=\"d\")\n",
    "    plt.title(\"Presence of Pathways Across Bins\")\n",
    "    plt.xlabel(\"Bin\")\n",
    "    plt.ylabel(\"Pathway\")\n",
    "    plt.tight_layout()\n",
    "    plt.show()\n",
    "else:\n",
    "    print(\"Column 'Pathway' not found in the combined DataFrame. Please check the file format and column names.\")"
   ]
  },
  {
   "cell_type": "code",
   "execution_count": 1,
   "id": "d7880912-39dd-4916-905f-d70ce9930f3f",
   "metadata": {
    "tags": []
   },
   "outputs": [
    {
     "name": "stdout",
     "output_type": "stream",
     "text": [
      "pandas                    2.2.3            py39h3b40f6f_2    conda-forge\n",
      "matplotlib-base           3.9.4            py39h16632d1_0    conda-forge\n",
      "matplotlib-inline         0.1.7              pyhd8ed1ab_1    conda-forge\n"
     ]
    }
   ],
   "source": [
    "!conda list | grep pandas\n",
    "!conda list | grep matplotlib\n",
    "!conda list | grep seaborn"
   ]
  },
  {
   "cell_type": "code",
   "execution_count": 2,
   "id": "de1dae31-6821-46b8-b955-3e6e89eafeb9",
   "metadata": {
    "tags": []
   },
   "outputs": [
    {
     "name": "stdout",
     "output_type": "stream",
     "text": [
      "Collecting package metadata (current_repodata.json): done\n",
      "Solving environment: done\n",
      "\n",
      "\n",
      "==> WARNING: A newer version of conda exists. <==\n",
      "  current version: 23.1.0\n",
      "  latest version: 25.1.1\n",
      "\n",
      "Please update conda by running\n",
      "\n",
      "    $ conda update -n base -c conda-forge conda\n",
      "\n",
      "Or to minimize the number of packages updated during conda update use\n",
      "\n",
      "     conda install conda=25.1.1\n",
      "\n",
      "\n",
      "\n",
      "## Package Plan ##\n",
      "\n",
      "  environment location: /shared/team/conda/mihaelasimion2.pallen-group/checkm_env\n",
      "\n",
      "  added / updated specs:\n",
      "    - seaborn\n",
      "\n",
      "\n",
      "The following packages will be downloaded:\n",
      "\n",
      "    package                    |            build\n",
      "    ---------------------------|-----------------\n",
      "    patsy-1.0.1                |     pyhd8ed1ab_1         182 KB  conda-forge\n",
      "    seaborn-0.13.2             |       hd8ed1ab_3           7 KB  conda-forge\n",
      "    seaborn-base-0.13.2        |     pyhd8ed1ab_3         223 KB  conda-forge\n",
      "    statsmodels-0.14.4         |   py39hf3d9206_0        10.4 MB  conda-forge\n",
      "    ------------------------------------------------------------\n",
      "                                           Total:        10.8 MB\n",
      "\n",
      "The following NEW packages will be INSTALLED:\n",
      "\n",
      "  patsy              conda-forge/noarch::patsy-1.0.1-pyhd8ed1ab_1 \n",
      "  seaborn            conda-forge/noarch::seaborn-0.13.2-hd8ed1ab_3 \n",
      "  seaborn-base       conda-forge/noarch::seaborn-base-0.13.2-pyhd8ed1ab_3 \n",
      "  statsmodels        conda-forge/linux-64::statsmodels-0.14.4-py39hf3d9206_0 \n",
      "\n",
      "\n",
      "\n",
      "Downloading and Extracting Packages\n",
      "statsmodels-0.14.4   | 10.4 MB   |                                       |   0% \n",
      "patsy-1.0.1          | 182 KB    |                                       |   0% \u001b[A\n",
      "\n",
      "seaborn-base-0.13.2  | 223 KB    |                                       |   0% \u001b[A\u001b[A\n",
      "\n",
      "\n",
      "seaborn-0.13.2       | 7 KB      |                                       |   0% \u001b[A\u001b[A\u001b[A\n",
      "\n",
      "\n",
      "seaborn-0.13.2       | 7 KB      | ##################################### | 100% \u001b[A\u001b[A\u001b[A\n",
      "statsmodels-0.14.4   | 10.4 MB   |                                       |   0% \u001b[A\n",
      "\n",
      "seaborn-base-0.13.2  | 223 KB    | ##6                                   |   7% \u001b[A\u001b[A\n",
      "\n",
      "\n",
      "seaborn-0.13.2       | 7 KB      | ##################################### | 100% \u001b[A\u001b[A\u001b[A\n",
      "patsy-1.0.1          | 182 KB    | ##################################### | 100% \u001b[A\n",
      "statsmodels-0.14.4   | 10.4 MB   | #################3                    |  47% \u001b[A\n",
      "\n",
      "seaborn-base-0.13.2  | 223 KB    | ##################################### | 100% \u001b[A\u001b[A\n",
      "\n",
      "                                                                                \u001b[A\u001b[A\n",
      "                                                                                \u001b[A\n",
      "\n",
      "                                                                                \u001b[A\u001b[A\n",
      "\n",
      "\n",
      "                                                                                \u001b[A\u001b[A\u001b[A\n",
      "Preparing transaction: done\n",
      "Verifying transaction: done\n",
      "Executing transaction: done\n"
     ]
    }
   ],
   "source": [
    "!conda install -c conda-forge seaborn -y"
   ]
  },
  {
   "cell_type": "code",
   "execution_count": 3,
   "id": "e73a0f5a-c4c5-4148-9c9e-3011cfb6d80b",
   "metadata": {
    "tags": []
   },
   "outputs": [
    {
     "name": "stdout",
     "output_type": "stream",
     "text": [
      "pandas                    2.2.3            py39h3b40f6f_2    conda-forge\n",
      "matplotlib-base           3.9.4            py39h16632d1_0    conda-forge\n",
      "matplotlib-inline         0.1.7              pyhd8ed1ab_1    conda-forge\n",
      "seaborn                   0.13.2               hd8ed1ab_3    conda-forge\n",
      "seaborn-base              0.13.2             pyhd8ed1ab_3    conda-forge\n"
     ]
    }
   ],
   "source": [
    "!conda list | grep pandas\n",
    "!conda list | grep matplotlib\n",
    "!conda list | grep seaborn"
   ]
  },
  {
   "cell_type": "code",
   "execution_count": 4,
   "id": "a8c84be2-5ba5-4632-897f-36739788654a",
   "metadata": {
    "tags": []
   },
   "outputs": [
    {
     "name": "stdout",
     "output_type": "stream",
     "text": [
      "Combined DRAM annotations saved to: /home/jovyan/shared-team/dram_output_prokka/combined_annotations.csv\n",
      "Column 'Pathway' not found in the combined DataFrame. Please check the file format and column names.\n"
     ]
    }
   ],
   "source": [
    "import os\n",
    "import pandas as pd\n",
    "import matplotlib.pyplot as plt\n",
    "import seaborn as sns\n",
    "\n",
    "# Directory containing DRAM outputs from Prokka\n",
    "dram_dir = \"/home/jovyan/shared-team/dram_output_prokka\"\n",
    "\n",
    "# List all subdirectories (each bin has its own folder)\n",
    "bin_dirs = [d for d in os.listdir(dram_dir) if os.path.isdir(os.path.join(dram_dir, d))]\n",
    "\n",
    "combined_df = pd.DataFrame()\n",
    "\n",
    "for bin_name in bin_dirs:\n",
    "    annotations_path = os.path.join(dram_dir, bin_name, \"annotations.tsv\")\n",
    "    if os.path.exists(annotations_path):\n",
    "        # Read the annotations file (assuming tab-delimited; adjust separator if needed)\n",
    "        df = pd.read_csv(annotations_path, sep=\"\\t\")\n",
    "        df['Bin'] = bin_name  # add a column with the bin name\n",
    "        combined_df = pd.concat([combined_df, df], ignore_index=True)\n",
    "    else:\n",
    "        print(f\"Warning: {annotations_path} not found for bin {bin_name}\")\n",
    "\n",
    "# Save the combined table for record-keeping\n",
    "combined_output = os.path.join(dram_dir, \"combined_annotations.csv\")\n",
    "combined_df.to_csv(combined_output, index=False)\n",
    "print(\"Combined DRAM annotations saved to:\", combined_output)\n",
    "\n",
    "# For example, let's see how frequently each pathway is annotated across bins.\n",
    "# Adjust the column name if your file uses a different header; here I assume it's \"Pathway\".\n",
    "if 'Pathway' in combined_df.columns:\n",
    "    pathway_counts = combined_df['Pathway'].value_counts()\n",
    "    print(\"Pathway counts across bins:\")\n",
    "    print(pathway_counts)\n",
    "\n",
    "    # Plot a bar chart of the top 10 most frequent pathways:\n",
    "    plt.figure(figsize=(10,6))\n",
    "    pathway_counts.head(10).plot(kind='bar')\n",
    "    plt.xlabel(\"Pathway\")\n",
    "    plt.ylabel(\"Count\")\n",
    "    plt.title(\"Top 10 Pathways Across Bins\")\n",
    "    plt.tight_layout()\n",
    "    plt.show()\n",
    "\n",
    "    # Create a pivot table for a heatmap: rows = pathways, columns = bins\n",
    "    pivot = pd.pivot_table(combined_df, index='Pathway', columns='Bin', aggfunc='size', fill_value=0)\n",
    "    plt.figure(figsize=(12,8))\n",
    "    sns.heatmap(pivot, cmap=\"viridis\", annot=True, fmt=\"d\")\n",
    "    plt.title(\"Presence of Pathways Across Bins\")\n",
    "    plt.xlabel(\"Bin\")\n",
    "    plt.ylabel(\"Pathway\")\n",
    "    plt.tight_layout()\n",
    "    plt.show()\n",
    "else:\n",
    "    print(\"Column 'Pathway' not found in the combined DataFrame. Please check the file format and column names.\")"
   ]
  },
  {
   "cell_type": "code",
   "execution_count": null,
   "id": "61f33351-2fa5-4c4f-bec1-3b8c91e643f4",
   "metadata": {},
   "outputs": [],
   "source": []
  }
 ],
 "metadata": {
  "kernelspec": {
   "display_name": "Python [conda env:checkm_env]",
   "language": "python",
   "name": "conda-env-checkm_env-py"
  },
  "language_info": {
   "codemirror_mode": {
    "name": "ipython",
    "version": 3
   },
   "file_extension": ".py",
   "mimetype": "text/x-python",
   "name": "python",
   "nbconvert_exporter": "python",
   "pygments_lexer": "ipython3",
   "version": "3.9.21"
  }
 },
 "nbformat": 4,
 "nbformat_minor": 5
}
