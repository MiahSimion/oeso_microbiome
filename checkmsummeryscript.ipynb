{
 "cells": [
  {
   "cell_type": "code",
   "execution_count": 1,
   "id": "a7e39f98-5098-4a4c-9aed-9ae81ac178e0",
   "metadata": {
    "tags": []
   },
   "outputs": [
    {
     "ename": "ModuleNotFoundError",
     "evalue": "No module named 'pandas'",
     "output_type": "error",
     "traceback": [
      "\u001b[0;31m---------------------------------------------------------------------------\u001b[0m",
      "\u001b[0;31mModuleNotFoundError\u001b[0m                       Traceback (most recent call last)",
      "Cell \u001b[0;32mIn[1], line 1\u001b[0m\n\u001b[0;32m----> 1\u001b[0m \u001b[38;5;28;01mimport\u001b[39;00m\u001b[38;5;250m \u001b[39m\u001b[38;5;21;01mpandas\u001b[39;00m\u001b[38;5;250m \u001b[39m\u001b[38;5;28;01mas\u001b[39;00m\u001b[38;5;250m \u001b[39m\u001b[38;5;21;01mpd\u001b[39;00m\n\u001b[1;32m      2\u001b[0m \u001b[38;5;28;01mimport\u001b[39;00m\u001b[38;5;250m \u001b[39m\u001b[38;5;21;01mmatplotlib\u001b[39;00m\u001b[38;5;21;01m.\u001b[39;00m\u001b[38;5;21;01mpyplot\u001b[39;00m\u001b[38;5;250m \u001b[39m\u001b[38;5;28;01mas\u001b[39;00m\u001b[38;5;250m \u001b[39m\u001b[38;5;21;01mplt\u001b[39;00m\n\u001b[1;32m      4\u001b[0m \u001b[38;5;66;03m# Load CheckM output\u001b[39;00m\n",
      "\u001b[0;31mModuleNotFoundError\u001b[0m: No module named 'pandas'"
     ]
    }
   ],
   "source": [
    "import pandas as pd\n",
    "import matplotlib.pyplot as plt\n",
    "\n",
    "# Load CheckM output\n",
    "df = pd.read_csv(\"checkm_summary.tsv\", sep=\"\\t\")\n",
    "\n",
    "# Scatter plot\n",
    "plt.figure(figsize=(8,6))\n",
    "plt.scatter(df[\"Completeness\"], df[\"Contamination\"], alpha=0.7)\n",
    "plt.xlabel(\"Completeness (%)\")\n",
    "plt.ylabel(\"Contamination (%)\")\n",
    "plt.title(\"CheckM: Completeness vs. Contamination\")\n",
    "plt.axhline(10, color=\"red\", linestyle=\"--\")  # Contamination threshold\n",
    "plt.axvline(90, color=\"green\", linestyle=\"--\")  # Completeness threshold\n",
    "plt.grid(True)\n",
    "plt.show()"
   ]
  },
  {
   "cell_type": "code",
   "execution_count": null,
   "id": "470becd0-6b36-4576-9d87-e6e2d72d1d4f",
   "metadata": {
    "tags": []
   },
   "outputs": [],
   "source": [
    "# Check if prokka, checkm, interproscan commands are on PATH\n",
    "!which prokka\n",
    "!which checkm\n",
    "!which interproscan\n"
   ]
  },
  {
   "cell_type": "code",
   "execution_count": null,
   "id": "9add17d5-2fbf-4ae1-a429-8b807148b3a8",
   "metadata": {
    "tags": []
   },
   "outputs": [],
   "source": [
    "!which checkm"
   ]
  },
  {
   "cell_type": "code",
   "execution_count": null,
   "id": "88b2057c-8202-4f9b-ab09-371c83bbc5d6",
   "metadata": {
    "tags": []
   },
   "outputs": [],
   "source": [
    "!which interproscan"
   ]
  },
  {
   "cell_type": "code",
   "execution_count": null,
   "id": "70794874-df29-4853-ac99-13bad0072f53",
   "metadata": {
    "tags": []
   },
   "outputs": [],
   "source": []
  },
  {
   "cell_type": "code",
   "execution_count": null,
   "id": "8074b1a7-6cae-4446-bd73-767c29d4612c",
   "metadata": {
    "tags": []
   },
   "outputs": [],
   "source": [
    "import pandas as pd\n",
    "\n",
    "summary_file = \"/home/jovyan/shared-team/checkM_output/lineage_summary.txt\"\n",
    "\n",
    "# CheckM usually puts a few lines of text before the table, so skip those lines.\n",
    "df = pd.read_csv(summary_file, sep=\"\\t\", skiprows=3)\n",
    "\n",
    "df.head()  # Inspect the top rows\n"
   ]
  },
  {
   "cell_type": "code",
   "execution_count": null,
   "id": "de4bbd57-fc2f-402c-9762-465d4d430aa0",
   "metadata": {
    "tags": []
   },
   "outputs": [],
   "source": [
    "!checkm qa \\\n",
    "  /home/jovyan/shared-team/checkM_output/lineage.ms \\\n",
    "  /home/jovyan/shared-team/checkM_output \\\n",
    "  -o 2 \\\n",
    "  -t 8 \\\n",
    "  > /home/jovyan/shared-team/checkM_output/lineage_summary.txt\n"
   ]
  },
  {
   "cell_type": "code",
   "execution_count": 2,
   "id": "86898360-aa10-48ca-b169-678902452517",
   "metadata": {
    "tags": []
   },
   "outputs": [
    {
     "name": "stdout",
     "output_type": "stream",
     "text": [
      "import-im6.q16: unable to open X server `' @ error/import.c/ImportImageCommand/346.\n"
     ]
    },
    {
     "ename": "NameError",
     "evalue": "name 'pd' is not defined",
     "output_type": "error",
     "traceback": [
      "\u001b[0;31m---------------------------------------------------------------------------\u001b[0m",
      "\u001b[0;31mNameError\u001b[0m                                 Traceback (most recent call last)",
      "Cell \u001b[0;32mIn[2], line 6\u001b[0m\n\u001b[1;32m      3\u001b[0m summary_file \u001b[38;5;241m=\u001b[39m \u001b[38;5;124m\"\u001b[39m\u001b[38;5;124m/home/jovyan/shared-team/checkM_output/lineage_summary.txt\u001b[39m\u001b[38;5;124m\"\u001b[39m\n\u001b[1;32m      5\u001b[0m \u001b[38;5;66;03m# Typically skip the first ~3 lines of text\u001b[39;00m\n\u001b[0;32m----> 6\u001b[0m df \u001b[38;5;241m=\u001b[39m \u001b[43mpd\u001b[49m\u001b[38;5;241m.\u001b[39mread_csv(summary_file, sep\u001b[38;5;241m=\u001b[39m\u001b[38;5;124m\"\u001b[39m\u001b[38;5;130;01m\\t\u001b[39;00m\u001b[38;5;124m\"\u001b[39m, skiprows\u001b[38;5;241m=\u001b[39m\u001b[38;5;241m3\u001b[39m)\n\u001b[1;32m      8\u001b[0m df\u001b[38;5;241m.\u001b[39mhead()\n",
      "\u001b[0;31mNameError\u001b[0m: name 'pd' is not defined"
     ]
    }
   ],
   "source": [
    "!import pandas as pd\n",
    "\n",
    "summary_file = \"/home/jovyan/shared-team/checkM_output/lineage_summary.txt\"\n",
    "\n",
    "# Typically skip the first ~3 lines of text\n",
    "df = pd.read_csv(summary_file, sep=\"\\t\", skiprows=3)\n",
    "\n",
    "df.head()\n"
   ]
  },
  {
   "cell_type": "code",
   "execution_count": 3,
   "id": "e1f5c39a-cfe8-4ca2-9a8e-fd2254a80a65",
   "metadata": {
    "tags": []
   },
   "outputs": [
    {
     "ename": "ModuleNotFoundError",
     "evalue": "No module named 'pandas'",
     "output_type": "error",
     "traceback": [
      "\u001b[0;31m---------------------------------------------------------------------------\u001b[0m",
      "\u001b[0;31mModuleNotFoundError\u001b[0m                       Traceback (most recent call last)",
      "Cell \u001b[0;32mIn[3], line 1\u001b[0m\n\u001b[0;32m----> 1\u001b[0m \u001b[38;5;28;01mimport\u001b[39;00m\u001b[38;5;250m \u001b[39m\u001b[38;5;21;01mpandas\u001b[39;00m\u001b[38;5;250m \u001b[39m\u001b[38;5;28;01mas\u001b[39;00m\u001b[38;5;250m \u001b[39m\u001b[38;5;21;01mpd\u001b[39;00m\n",
      "\u001b[0;31mModuleNotFoundError\u001b[0m: No module named 'pandas'"
     ]
    }
   ],
   "source": [
    "import pandas as pd\n"
   ]
  },
  {
   "cell_type": "code",
   "execution_count": 4,
   "id": "df593ed3-e2d9-43e1-91cf-73d6864e1f17",
   "metadata": {
    "tags": []
   },
   "outputs": [
    {
     "name": "stdout",
     "output_type": "stream",
     "text": [
      "/shared/team/conda/mihaelasimion2.pallen-group/checkm/bin/prodigal\n"
     ]
    }
   ],
   "source": [
    "!which prodigal"
   ]
  },
  {
   "cell_type": "code",
   "execution_count": 5,
   "id": "9aa8be9e-b06f-4f4c-b2d4-41fdfa4b0461",
   "metadata": {
    "tags": []
   },
   "outputs": [
    {
     "name": "stdout",
     "output_type": "stream",
     "text": [
      "/shared/team/conda/mihaelasimion2.pallen-group/checkm/bin/hmmsearch\n"
     ]
    }
   ],
   "source": [
    "!which hmmsearch"
   ]
  },
  {
   "cell_type": "code",
   "execution_count": 6,
   "id": "0e2a8caf-6582-4388-970b-77f22c40daec",
   "metadata": {
    "tags": []
   },
   "outputs": [
    {
     "name": "stdout",
     "output_type": "stream",
     "text": [
      "/shared/team/conda/mihaelasimion2.pallen-group/checkm/bin/pplacer\n"
     ]
    }
   ],
   "source": [
    "!which pplacer"
   ]
  },
  {
   "cell_type": "code",
   "execution_count": null,
   "id": "39cb008f-c1a5-49a8-b038-92705ce68b21",
   "metadata": {},
   "outputs": [],
   "source": []
  }
 ],
 "metadata": {
  "kernelspec": {
   "display_name": "Python [conda env:checkm]",
   "language": "python",
   "name": "conda-env-checkm-py"
  },
  "language_info": {
   "codemirror_mode": {
    "name": "ipython",
    "version": 3
   },
   "file_extension": ".py",
   "mimetype": "text/x-python",
   "name": "python",
   "nbconvert_exporter": "python",
   "pygments_lexer": "ipython3",
   "version": "3.9.21"
  }
 },
 "nbformat": 4,
 "nbformat_minor": 5
}
