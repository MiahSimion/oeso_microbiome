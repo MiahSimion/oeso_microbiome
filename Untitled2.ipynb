{
 "cells": [
  {
   "cell_type": "code",
   "execution_count": 1,
   "id": "82ae7d1f-533e-4c62-a244-4e6b12533311",
   "metadata": {
    "tags": []
   },
   "outputs": [
    {
     "ename": "NameError",
     "evalue": "name 'sns' is not defined",
     "output_type": "error",
     "traceback": [
      "\u001b[31m---------------------------------------------------------------------------\u001b[39m",
      "\u001b[31mNameError\u001b[39m                                 Traceback (most recent call last)",
      "\u001b[36mCell\u001b[39m\u001b[36m \u001b[39m\u001b[32mIn[1]\u001b[39m\u001b[32m, line 2\u001b[39m\n\u001b[32m      1\u001b[39m \u001b[38;5;66;03m# ---- FIG 3.1B stacked bar (90 mm) ------------------------------------------\u001b[39;00m\n\u001b[32m----> \u001b[39m\u001b[32m2\u001b[39m \u001b[43msns\u001b[49m.set_theme(style=\u001b[33m\"\u001b[39m\u001b[33mwhitegrid\u001b[39m\u001b[33m\"\u001b[39m)\n\u001b[32m      4\u001b[39m \u001b[38;5;66;03m# data = pd.read_csv(\"/path/to/top20_abundances.tsv\", sep=\"\\t\")\u001b[39;00m\n\u001b[32m      5\u001b[39m data = data.set_index(\u001b[33m\"\u001b[39m\u001b[33mspecies\u001b[39m\u001b[33m\"\u001b[39m).sort_values(\u001b[33m\"\u001b[39m\u001b[33moesophagus\u001b[39m\u001b[33m\"\u001b[39m, ascending=\u001b[38;5;28;01mFalse\u001b[39;00m).head(\u001b[32m20\u001b[39m)\n",
      "\u001b[31mNameError\u001b[39m: name 'sns' is not defined"
     ]
    }
   ],
   "source": [
    "# ---- FIG 3.1B stacked bar (90 mm) ------------------------------------------\n",
    "sns.set_theme(style=\"whitegrid\")\n",
    "\n",
    "# data = pd.read_csv(\"/path/to/top20_abundances.tsv\", sep=\"\\t\")\n",
    "data = data.set_index(\"species\").sort_values(\"oesophagus\", ascending=False).head(20)\n",
    "\n",
    "# order bars by oesophageal abundance\n",
    "species_order = data.index[::-1]   # reversed so top is at bottom of stack\n",
    "\n",
    "fig, ax = plt.subplots(figsize=(3.54, 4.0))          # 90 mm ≈ 3.54 in\n",
    "ax.barh(species_order, data.loc[species_order, \"oesophagus\"],\n",
    "        color=\"#5B88C0\", label=\"Oesophagus\")\n",
    "ax.barh(species_order, data.loc[species_order, \"HOMD\"],\n",
    "        left=data.loc[species_order, \"oesophagus\"],\n",
    "        color=\"#C05746\", label=\"HOMD (oral)\")\n",
    "\n",
    "# formatting\n",
    "ax.set_xlabel(\"Relative abundance (%)\", fontsize=10)\n",
    "ax.set_ylabel(\"\")\n",
    "ax.tick_params(axis=\"both\", labelsize=8)\n",
    "ax.legend(frameon=False, fontsize=8)\n",
    "plt.tight_layout()\n",
    "\n",
    "out_dir = pathlib.Path(\"/shared/team/mihaelasimion2/oesophagus_project\")\n",
    "for ext in [\"pdf\", \"svg\"]:\n",
    "    fig.savefig(out_dir / f\"Fig3_1B_top20_stacked_bar.{ext}\", bbox_inches=\"tight\")\n",
    "print(\"Saved to\", out_dir)\n"
   ]
  },
  {
   "cell_type": "code",
   "execution_count": 2,
   "id": "9fbd6f86-8c28-4077-a62c-fae947a3d978",
   "metadata": {
    "tags": []
   },
   "outputs": [
    {
     "name": "stdout",
     "output_type": "stream",
     "text": [
      "seaborn 0.13.2\n"
     ]
    }
   ],
   "source": [
    "import pandas as pd\n",
    "import seaborn as sns\n",
    "import matplotlib.pyplot as plt\n",
    "import pathlib\n",
    "\n",
    "print(\"seaborn\", sns.__version__)\n"
   ]
  },
  {
   "cell_type": "code",
   "execution_count": 3,
   "id": "cbd5a2e4-3e2c-44ca-98e8-947990bbb256",
   "metadata": {
    "tags": []
   },
   "outputs": [
    {
     "ename": "SyntaxError",
     "evalue": "invalid syntax (4076492491.py, line 2)",
     "output_type": "error",
     "traceback": [
      "  \u001b[36mCell\u001b[39m\u001b[36m \u001b[39m\u001b[32mIn[3]\u001b[39m\u001b[32m, line 2\u001b[39m\n\u001b[31m    \u001b[39m\u001b[31mproj=/shared/team/mihaelasimion2/oesophagus_project\u001b[39m\n         ^\n\u001b[31mSyntaxError\u001b[39m\u001b[31m:\u001b[39m invalid syntax\n"
     ]
    }
   ],
   "source": [
    "# run this in a terminal *once*\n",
    "proj=/shared/team/mihaelasimion2/oesophagus_project\n",
    "python - <<'PY'\n",
    "import pandas as pd, pathlib, re, sys\n",
    "proj = pathlib.Path(\"/shared/team/mihaelasimion2/oesophagus_project\")\n",
    "\n",
    "# full ORF count table you copied earlier\n",
    "orf   = pd.read_csv(proj/\"orf_counts_per_MAG.tsv\", sep=\"\\t\")\n",
    "\n",
    "# keep just the six CPR MAGs\n",
    "CPR   = [\"ERR2373117_bin.7\",\"P11B_S7_bin.28.1\",\"P2B_S1_bin.0.1\",\n",
    "         \"P5B_S4_bin.39.1\",\"P13S_S20_bin.18.1\",\"ERR2373095_bin.15\"]\n",
    "haem  = (orf[orf.MAG_id.isin(CPR)]\n",
    "         .loc[:,[\"MAG_id\",\"haem_motif_count\",\"cytochrome_gene_count\"]])\n",
    "\n",
    "out   = proj/\"haem_vs_cyt.tsv\"\n",
    "haem.to_csv(out, sep=\"\\t\", index=False)\n",
    "print(\"Wrote\", out, \"–\", len(haem), \"rows\")\n",
    "PY\n"
   ]
  },
  {
   "cell_type": "code",
   "execution_count": 4,
   "id": "1db3a957-dd4f-475c-8f21-5be14b0a65e4",
   "metadata": {
    "tags": []
   },
   "outputs": [
    {
     "ename": "SyntaxError",
     "evalue": "unexpected character after line continuation character (1360612278.py, line 1)",
     "output_type": "error",
     "traceback": [
      "  \u001b[36mCell\u001b[39m\u001b[36m \u001b[39m\u001b[32mIn[4]\u001b[39m\u001b[32m, line 1\u001b[39m\n\u001b[31m    \u001b[39m\u001b[31mpython\\nimport pandas as pd, pathlib, re, sys\\nproj = pathlib.Path('/shared/team/mihaelasimion2/oesophagus_project')\\norf = pd.read_csv(proj/'orf_counts_per_MAG.tsv', sep='\\\\t')\\nCPR = ['ERR2373117_bin.7','P11B_S7_bin.28.1','P2B_S1_bin.0.1',\\n 'P5B_S4_bin.39.1','P13S_S20_bin.18.1','ERR2373095_bin.15']\\nhaem = (orf[orf.MAG_id.isin(CPR)]\\n .loc[:,['MAG_id','haem_motif_count','cytochrome_gene_count']])\\nhaem.to_csv(proj/'haem_vs_cyt.tsv', sep='\\\\t', index=False)\\nprint('✅ wrote haem_vs_cyt.tsv –', len(haem), 'rows')\u001b[39m\n           ^\n\u001b[31mSyntaxError\u001b[39m\u001b[31m:\u001b[39m unexpected character after line continuation character\n"
     ]
    }
   ],
   "source": [
    "python\\nimport pandas as pd, pathlib, re, sys\\nproj = pathlib.Path('/shared/team/mihaelasimion2/oesophagus_project')\\norf = pd.read_csv(proj/'orf_counts_per_MAG.tsv', sep='\\\\t')\\nCPR = ['ERR2373117_bin.7','P11B_S7_bin.28.1','P2B_S1_bin.0.1',\\n 'P5B_S4_bin.39.1','P13S_S20_bin.18.1','ERR2373095_bin.15']\\nhaem = (orf[orf.MAG_id.isin(CPR)]\\n .loc[:,['MAG_id','haem_motif_count','cytochrome_gene_count']])\\nhaem.to_csv(proj/'haem_vs_cyt.tsv', sep='\\\\t', index=False)\\nprint('✅ wrote haem_vs_cyt.tsv –', len(haem), 'rows')"
   ]
  },
  {
   "cell_type": "code",
   "execution_count": 5,
   "id": "dd5c5d0a-0a99-498a-919b-aaa65b6fcec6",
   "metadata": {
    "tags": []
   },
   "outputs": [
    {
     "ename": "FileNotFoundError",
     "evalue": "[Errno 2] No such file or directory: '/shared/team/mihaelasimion2/oesophagus_project/orf_counts_per_MAG.tsv'",
     "output_type": "error",
     "traceback": [
      "\u001b[31m---------------------------------------------------------------------------\u001b[39m",
      "\u001b[31mFileNotFoundError\u001b[39m                         Traceback (most recent call last)",
      "\u001b[36mCell\u001b[39m\u001b[36m \u001b[39m\u001b[32mIn[5]\u001b[39m\u001b[32m, line 6\u001b[39m\n\u001b[32m      3\u001b[39m proj = pathlib.Path(\u001b[33m\"\u001b[39m\u001b[33m/shared/team/mihaelasimion2/oesophagus_project\u001b[39m\u001b[33m\"\u001b[39m)\n\u001b[32m      5\u001b[39m \u001b[38;5;66;03m# full ORF-count table\u001b[39;00m\n\u001b[32m----> \u001b[39m\u001b[32m6\u001b[39m orf = \u001b[43mpd\u001b[49m\u001b[43m.\u001b[49m\u001b[43mread_csv\u001b[49m\u001b[43m(\u001b[49m\u001b[43mproj\u001b[49m\u001b[43m \u001b[49m\u001b[43m/\u001b[49m\u001b[43m \u001b[49m\u001b[33;43m\"\u001b[39;49m\u001b[33;43morf_counts_per_MAG.tsv\u001b[39;49m\u001b[33;43m\"\u001b[39;49m\u001b[43m,\u001b[49m\u001b[43m \u001b[49m\u001b[43msep\u001b[49m\u001b[43m=\u001b[49m\u001b[33;43m\"\u001b[39;49m\u001b[38;5;130;43;01m\\t\u001b[39;49;00m\u001b[33;43m\"\u001b[39;49m\u001b[43m)\u001b[49m\n\u001b[32m      8\u001b[39m \u001b[38;5;66;03m# the six CPR MAG IDs\u001b[39;00m\n\u001b[32m      9\u001b[39m CPR = [\n\u001b[32m     10\u001b[39m     \u001b[33m\"\u001b[39m\u001b[33mERR2373117_bin.7\u001b[39m\u001b[33m\"\u001b[39m,\n\u001b[32m     11\u001b[39m     \u001b[33m\"\u001b[39m\u001b[33mP11B_S7_bin.28.1\u001b[39m\u001b[33m\"\u001b[39m,\n\u001b[32m   (...)\u001b[39m\u001b[32m     15\u001b[39m     \u001b[33m\"\u001b[39m\u001b[33mERR2373095_bin.15\u001b[39m\u001b[33m\"\u001b[39m,\n\u001b[32m     16\u001b[39m ]\n",
      "\u001b[36mFile \u001b[39m\u001b[32m~/my_prokka_env/lib/python3.13/site-packages/pandas/io/parsers/readers.py:1026\u001b[39m, in \u001b[36mread_csv\u001b[39m\u001b[34m(filepath_or_buffer, sep, delimiter, header, names, index_col, usecols, dtype, engine, converters, true_values, false_values, skipinitialspace, skiprows, skipfooter, nrows, na_values, keep_default_na, na_filter, verbose, skip_blank_lines, parse_dates, infer_datetime_format, keep_date_col, date_parser, date_format, dayfirst, cache_dates, iterator, chunksize, compression, thousands, decimal, lineterminator, quotechar, quoting, doublequote, escapechar, comment, encoding, encoding_errors, dialect, on_bad_lines, delim_whitespace, low_memory, memory_map, float_precision, storage_options, dtype_backend)\u001b[39m\n\u001b[32m   1013\u001b[39m kwds_defaults = _refine_defaults_read(\n\u001b[32m   1014\u001b[39m     dialect,\n\u001b[32m   1015\u001b[39m     delimiter,\n\u001b[32m   (...)\u001b[39m\u001b[32m   1022\u001b[39m     dtype_backend=dtype_backend,\n\u001b[32m   1023\u001b[39m )\n\u001b[32m   1024\u001b[39m kwds.update(kwds_defaults)\n\u001b[32m-> \u001b[39m\u001b[32m1026\u001b[39m \u001b[38;5;28;01mreturn\u001b[39;00m \u001b[43m_read\u001b[49m\u001b[43m(\u001b[49m\u001b[43mfilepath_or_buffer\u001b[49m\u001b[43m,\u001b[49m\u001b[43m \u001b[49m\u001b[43mkwds\u001b[49m\u001b[43m)\u001b[49m\n",
      "\u001b[36mFile \u001b[39m\u001b[32m~/my_prokka_env/lib/python3.13/site-packages/pandas/io/parsers/readers.py:620\u001b[39m, in \u001b[36m_read\u001b[39m\u001b[34m(filepath_or_buffer, kwds)\u001b[39m\n\u001b[32m    617\u001b[39m _validate_names(kwds.get(\u001b[33m\"\u001b[39m\u001b[33mnames\u001b[39m\u001b[33m\"\u001b[39m, \u001b[38;5;28;01mNone\u001b[39;00m))\n\u001b[32m    619\u001b[39m \u001b[38;5;66;03m# Create the parser.\u001b[39;00m\n\u001b[32m--> \u001b[39m\u001b[32m620\u001b[39m parser = \u001b[43mTextFileReader\u001b[49m\u001b[43m(\u001b[49m\u001b[43mfilepath_or_buffer\u001b[49m\u001b[43m,\u001b[49m\u001b[43m \u001b[49m\u001b[43m*\u001b[49m\u001b[43m*\u001b[49m\u001b[43mkwds\u001b[49m\u001b[43m)\u001b[49m\n\u001b[32m    622\u001b[39m \u001b[38;5;28;01mif\u001b[39;00m chunksize \u001b[38;5;129;01mor\u001b[39;00m iterator:\n\u001b[32m    623\u001b[39m     \u001b[38;5;28;01mreturn\u001b[39;00m parser\n",
      "\u001b[36mFile \u001b[39m\u001b[32m~/my_prokka_env/lib/python3.13/site-packages/pandas/io/parsers/readers.py:1620\u001b[39m, in \u001b[36mTextFileReader.__init__\u001b[39m\u001b[34m(self, f, engine, **kwds)\u001b[39m\n\u001b[32m   1617\u001b[39m     \u001b[38;5;28mself\u001b[39m.options[\u001b[33m\"\u001b[39m\u001b[33mhas_index_names\u001b[39m\u001b[33m\"\u001b[39m] = kwds[\u001b[33m\"\u001b[39m\u001b[33mhas_index_names\u001b[39m\u001b[33m\"\u001b[39m]\n\u001b[32m   1619\u001b[39m \u001b[38;5;28mself\u001b[39m.handles: IOHandles | \u001b[38;5;28;01mNone\u001b[39;00m = \u001b[38;5;28;01mNone\u001b[39;00m\n\u001b[32m-> \u001b[39m\u001b[32m1620\u001b[39m \u001b[38;5;28mself\u001b[39m._engine = \u001b[38;5;28;43mself\u001b[39;49m\u001b[43m.\u001b[49m\u001b[43m_make_engine\u001b[49m\u001b[43m(\u001b[49m\u001b[43mf\u001b[49m\u001b[43m,\u001b[49m\u001b[43m \u001b[49m\u001b[38;5;28;43mself\u001b[39;49m\u001b[43m.\u001b[49m\u001b[43mengine\u001b[49m\u001b[43m)\u001b[49m\n",
      "\u001b[36mFile \u001b[39m\u001b[32m~/my_prokka_env/lib/python3.13/site-packages/pandas/io/parsers/readers.py:1880\u001b[39m, in \u001b[36mTextFileReader._make_engine\u001b[39m\u001b[34m(self, f, engine)\u001b[39m\n\u001b[32m   1878\u001b[39m     \u001b[38;5;28;01mif\u001b[39;00m \u001b[33m\"\u001b[39m\u001b[33mb\u001b[39m\u001b[33m\"\u001b[39m \u001b[38;5;129;01mnot\u001b[39;00m \u001b[38;5;129;01min\u001b[39;00m mode:\n\u001b[32m   1879\u001b[39m         mode += \u001b[33m\"\u001b[39m\u001b[33mb\u001b[39m\u001b[33m\"\u001b[39m\n\u001b[32m-> \u001b[39m\u001b[32m1880\u001b[39m \u001b[38;5;28mself\u001b[39m.handles = \u001b[43mget_handle\u001b[49m\u001b[43m(\u001b[49m\n\u001b[32m   1881\u001b[39m \u001b[43m    \u001b[49m\u001b[43mf\u001b[49m\u001b[43m,\u001b[49m\n\u001b[32m   1882\u001b[39m \u001b[43m    \u001b[49m\u001b[43mmode\u001b[49m\u001b[43m,\u001b[49m\n\u001b[32m   1883\u001b[39m \u001b[43m    \u001b[49m\u001b[43mencoding\u001b[49m\u001b[43m=\u001b[49m\u001b[38;5;28;43mself\u001b[39;49m\u001b[43m.\u001b[49m\u001b[43moptions\u001b[49m\u001b[43m.\u001b[49m\u001b[43mget\u001b[49m\u001b[43m(\u001b[49m\u001b[33;43m\"\u001b[39;49m\u001b[33;43mencoding\u001b[39;49m\u001b[33;43m\"\u001b[39;49m\u001b[43m,\u001b[49m\u001b[43m \u001b[49m\u001b[38;5;28;43;01mNone\u001b[39;49;00m\u001b[43m)\u001b[49m\u001b[43m,\u001b[49m\n\u001b[32m   1884\u001b[39m \u001b[43m    \u001b[49m\u001b[43mcompression\u001b[49m\u001b[43m=\u001b[49m\u001b[38;5;28;43mself\u001b[39;49m\u001b[43m.\u001b[49m\u001b[43moptions\u001b[49m\u001b[43m.\u001b[49m\u001b[43mget\u001b[49m\u001b[43m(\u001b[49m\u001b[33;43m\"\u001b[39;49m\u001b[33;43mcompression\u001b[39;49m\u001b[33;43m\"\u001b[39;49m\u001b[43m,\u001b[49m\u001b[43m \u001b[49m\u001b[38;5;28;43;01mNone\u001b[39;49;00m\u001b[43m)\u001b[49m\u001b[43m,\u001b[49m\n\u001b[32m   1885\u001b[39m \u001b[43m    \u001b[49m\u001b[43mmemory_map\u001b[49m\u001b[43m=\u001b[49m\u001b[38;5;28;43mself\u001b[39;49m\u001b[43m.\u001b[49m\u001b[43moptions\u001b[49m\u001b[43m.\u001b[49m\u001b[43mget\u001b[49m\u001b[43m(\u001b[49m\u001b[33;43m\"\u001b[39;49m\u001b[33;43mmemory_map\u001b[39;49m\u001b[33;43m\"\u001b[39;49m\u001b[43m,\u001b[49m\u001b[43m \u001b[49m\u001b[38;5;28;43;01mFalse\u001b[39;49;00m\u001b[43m)\u001b[49m\u001b[43m,\u001b[49m\n\u001b[32m   1886\u001b[39m \u001b[43m    \u001b[49m\u001b[43mis_text\u001b[49m\u001b[43m=\u001b[49m\u001b[43mis_text\u001b[49m\u001b[43m,\u001b[49m\n\u001b[32m   1887\u001b[39m \u001b[43m    \u001b[49m\u001b[43merrors\u001b[49m\u001b[43m=\u001b[49m\u001b[38;5;28;43mself\u001b[39;49m\u001b[43m.\u001b[49m\u001b[43moptions\u001b[49m\u001b[43m.\u001b[49m\u001b[43mget\u001b[49m\u001b[43m(\u001b[49m\u001b[33;43m\"\u001b[39;49m\u001b[33;43mencoding_errors\u001b[39;49m\u001b[33;43m\"\u001b[39;49m\u001b[43m,\u001b[49m\u001b[43m \u001b[49m\u001b[33;43m\"\u001b[39;49m\u001b[33;43mstrict\u001b[39;49m\u001b[33;43m\"\u001b[39;49m\u001b[43m)\u001b[49m\u001b[43m,\u001b[49m\n\u001b[32m   1888\u001b[39m \u001b[43m    \u001b[49m\u001b[43mstorage_options\u001b[49m\u001b[43m=\u001b[49m\u001b[38;5;28;43mself\u001b[39;49m\u001b[43m.\u001b[49m\u001b[43moptions\u001b[49m\u001b[43m.\u001b[49m\u001b[43mget\u001b[49m\u001b[43m(\u001b[49m\u001b[33;43m\"\u001b[39;49m\u001b[33;43mstorage_options\u001b[39;49m\u001b[33;43m\"\u001b[39;49m\u001b[43m,\u001b[49m\u001b[43m \u001b[49m\u001b[38;5;28;43;01mNone\u001b[39;49;00m\u001b[43m)\u001b[49m\u001b[43m,\u001b[49m\n\u001b[32m   1889\u001b[39m \u001b[43m\u001b[49m\u001b[43m)\u001b[49m\n\u001b[32m   1890\u001b[39m \u001b[38;5;28;01massert\u001b[39;00m \u001b[38;5;28mself\u001b[39m.handles \u001b[38;5;129;01mis\u001b[39;00m \u001b[38;5;129;01mnot\u001b[39;00m \u001b[38;5;28;01mNone\u001b[39;00m\n\u001b[32m   1891\u001b[39m f = \u001b[38;5;28mself\u001b[39m.handles.handle\n",
      "\u001b[36mFile \u001b[39m\u001b[32m~/my_prokka_env/lib/python3.13/site-packages/pandas/io/common.py:873\u001b[39m, in \u001b[36mget_handle\u001b[39m\u001b[34m(path_or_buf, mode, encoding, compression, memory_map, is_text, errors, storage_options)\u001b[39m\n\u001b[32m    868\u001b[39m \u001b[38;5;28;01melif\u001b[39;00m \u001b[38;5;28misinstance\u001b[39m(handle, \u001b[38;5;28mstr\u001b[39m):\n\u001b[32m    869\u001b[39m     \u001b[38;5;66;03m# Check whether the filename is to be opened in binary mode.\u001b[39;00m\n\u001b[32m    870\u001b[39m     \u001b[38;5;66;03m# Binary mode does not support 'encoding' and 'newline'.\u001b[39;00m\n\u001b[32m    871\u001b[39m     \u001b[38;5;28;01mif\u001b[39;00m ioargs.encoding \u001b[38;5;129;01mand\u001b[39;00m \u001b[33m\"\u001b[39m\u001b[33mb\u001b[39m\u001b[33m\"\u001b[39m \u001b[38;5;129;01mnot\u001b[39;00m \u001b[38;5;129;01min\u001b[39;00m ioargs.mode:\n\u001b[32m    872\u001b[39m         \u001b[38;5;66;03m# Encoding\u001b[39;00m\n\u001b[32m--> \u001b[39m\u001b[32m873\u001b[39m         handle = \u001b[38;5;28;43mopen\u001b[39;49m\u001b[43m(\u001b[49m\n\u001b[32m    874\u001b[39m \u001b[43m            \u001b[49m\u001b[43mhandle\u001b[49m\u001b[43m,\u001b[49m\n\u001b[32m    875\u001b[39m \u001b[43m            \u001b[49m\u001b[43mioargs\u001b[49m\u001b[43m.\u001b[49m\u001b[43mmode\u001b[49m\u001b[43m,\u001b[49m\n\u001b[32m    876\u001b[39m \u001b[43m            \u001b[49m\u001b[43mencoding\u001b[49m\u001b[43m=\u001b[49m\u001b[43mioargs\u001b[49m\u001b[43m.\u001b[49m\u001b[43mencoding\u001b[49m\u001b[43m,\u001b[49m\n\u001b[32m    877\u001b[39m \u001b[43m            \u001b[49m\u001b[43merrors\u001b[49m\u001b[43m=\u001b[49m\u001b[43merrors\u001b[49m\u001b[43m,\u001b[49m\n\u001b[32m    878\u001b[39m \u001b[43m            \u001b[49m\u001b[43mnewline\u001b[49m\u001b[43m=\u001b[49m\u001b[33;43m\"\u001b[39;49m\u001b[33;43m\"\u001b[39;49m\u001b[43m,\u001b[49m\n\u001b[32m    879\u001b[39m \u001b[43m        \u001b[49m\u001b[43m)\u001b[49m\n\u001b[32m    880\u001b[39m     \u001b[38;5;28;01melse\u001b[39;00m:\n\u001b[32m    881\u001b[39m         \u001b[38;5;66;03m# Binary mode\u001b[39;00m\n\u001b[32m    882\u001b[39m         handle = \u001b[38;5;28mopen\u001b[39m(handle, ioargs.mode)\n",
      "\u001b[31mFileNotFoundError\u001b[39m: [Errno 2] No such file or directory: '/shared/team/mihaelasimion2/oesophagus_project/orf_counts_per_MAG.tsv'"
     ]
    }
   ],
   "source": [
    "import pandas as pd, pathlib, re\n",
    "\n",
    "proj = pathlib.Path(\"/shared/team/mihaelasimion2/oesophagus_project\")\n",
    "\n",
    "# full ORF-count table\n",
    "orf = pd.read_csv(proj / \"orf_counts_per_MAG.tsv\", sep=\"\\t\")\n",
    "\n",
    "# the six CPR MAG IDs\n",
    "CPR = [\n",
    "    \"ERR2373117_bin.7\",\n",
    "    \"P11B_S7_bin.28.1\",\n",
    "    \"P2B_S1_bin.0.1\",\n",
    "    \"P5B_S4_bin.39.1\",\n",
    "    \"P13S_S20_bin.18.1\",\n",
    "    \"ERR2373095_bin.15\",\n",
    "]\n",
    "\n",
    "haem = (\n",
    "    orf[orf[\"MAG_id\"].isin(CPR)]\n",
    "      .loc[:, [\"MAG_id\", \"haem_motif_count\", \"cytochrome_gene_count\"]]\n",
    ")\n",
    "\n",
    "out = proj / \"haem_vs_cyt.tsv\"\n",
    "haem.to_csv(out, sep=\"\\t\", index=False)\n",
    "\n",
    "print(f\"✅ wrote {out} – {len(haem)} rows\")\n"
   ]
  },
  {
   "cell_type": "code",
   "execution_count": 6,
   "id": "ded2ef2b-f9fb-4b10-aab9-b7d1a45f9179",
   "metadata": {
    "tags": []
   },
   "outputs": [
    {
     "name": "stdout",
     "output_type": "stream",
     "text": [
      "✅ wrote /shared/team/mihaelasimion2/oesophagus_project/haem_vs_cyt.tsv — 6 rows\n"
     ]
    }
   ],
   "source": [
    "import re, pathlib, pandas as pd\n",
    "from Bio import SeqIO\n",
    "\n",
    "proj   = pathlib.Path(\"/shared/team/mihaelasimion2/oesophagus_project\")\n",
    "faa_dir = proj / \"prokka_faa\"              # you created this earlier\n",
    "\n",
    "# six CPR MAGs we want in the figure\n",
    "CPR = {\n",
    "    \"ERR2373117_bin.7\",\n",
    "    \"P11B_S7_bin.28.1\",\n",
    "    \"P2B_S1_bin.0.1\",\n",
    "    \"P5B_S4_bin.39.1\",\n",
    "    \"P13S_S20_bin.18.1\",\n",
    "    \"ERR2373095_bin.15\",\n",
    "}\n",
    "\n",
    "rows = []\n",
    "motif = re.compile(r\"C.{2}CH\", re.I)       # haem-binding motif\n",
    "\n",
    "for faa in faa_dir.glob(\"*.faa\"):\n",
    "    mag_id = faa.stem                      # file name without .faa\n",
    "    if mag_id not in CPR:\n",
    "        continue\n",
    "\n",
    "    haem_cnt = 0\n",
    "    cyto_cnt = 0\n",
    "    for rec in SeqIO.parse(faa, \"fasta\"):\n",
    "        seq_str = str(rec.seq)\n",
    "        haem_cnt += len(motif.findall(seq_str))\n",
    "        if \"cytochrome\" in rec.description.lower():\n",
    "            cyto_cnt += 1\n",
    "\n",
    "    rows.append(\n",
    "        {\"MAG_id\": mag_id,\n",
    "         \"haem_motif_count\": haem_cnt,\n",
    "         \"cytochrome_gene_count\": cyto_cnt}\n",
    "    )\n",
    "\n",
    "out = proj / \"haem_vs_cyt.tsv\"\n",
    "pd.DataFrame(rows).to_csv(out, sep=\"\\t\", index=False)\n",
    "print(f\"✅ wrote {out} — {len(rows)} rows\")\n"
   ]
  },
  {
   "cell_type": "code",
   "execution_count": 7,
   "id": "bd518d27-c6e9-417f-b31d-87633756f213",
   "metadata": {
    "tags": []
   },
   "outputs": [],
   "source": [
    "haem_df = pd.read_csv(proj / \"haem_vs_cyt.tsv\", sep=\"\\t\")\n",
    "# … merge with meta and plot …\n"
   ]
  },
  {
   "cell_type": "code",
   "execution_count": 8,
   "id": "c305e269-42f0-417b-89f8-112c86184ed1",
   "metadata": {
    "tags": []
   },
   "outputs": [
    {
     "data": {
      "text/plain": [
       "<Figure size 640x480 with 0 Axes>"
      ]
     },
     "metadata": {},
     "output_type": "display_data"
    }
   ],
   "source": [
    "plt.savefig(proj / \"haem_vs_cyt.svg\", dpi=300, bbox_inches=\"tight\")\n",
    "plt.savefig(proj / \"haem_vs_cyt.pdf\", dpi=300, bbox_inches=\"tight\")\n"
   ]
  },
  {
   "cell_type": "code",
   "execution_count": null,
   "id": "e7097b32-0a72-496f-9f7b-b58179830072",
   "metadata": {
    "tags": []
   },
   "outputs": [],
   "source": [
    "# run in a new Jupyter cell\n",
    "from pathlib import Path\n",
    "import glob, textwrap, os\n",
    "\n",
    "search_roots = [\n",
    "    Path(\"/shared/team/mihaelasimion2/oesophagus_project\"),   # project root\n",
    "    Path(\"/\")                                                 # whole filesystem (slow)\n",
    "]\n",
    "\n",
    "hits = []\n",
    "for root in search_roots:\n",
    "    hits.extend(root.glob(\"**/orf_counts_per_MAG.tsv\"))\n",
    "\n",
    "if hits:\n",
    "    print(\"✅ Found\", len(hits), \"candidate file(s):\")\n",
    "    for h in hits:\n",
    "        print(\" •\", h)\n",
    "else:\n",
    "    print(\"❌ Couldn’t find the file – we’ll rebuild it in step 1b\")\n"
   ]
  },
  {
   "cell_type": "code",
   "execution_count": null,
   "id": "e9628648-b0c9-4054-8495-0792b3b140f3",
   "metadata": {
    "tags": []
   },
   "outputs": [],
   "source": [
    "import re, pandas as pd\n",
    "from pathlib import Path\n",
    "from Bio import SeqIO\n",
    "\n",
    "proj   = Path(\"/shared/team/mihaelasimion2/oesophagus_project\")\n",
    "faa_dir = proj / \"prokka_faa\"        # 387 FAA files live here\n",
    "out_tsv = proj / \"orf_counts_per_MAG.tsv\"\n",
    "\n",
    "# regexes you used before\n",
    "haem_re = re.compile(r'C.{2,4}H.{2,4}H', re.I)          # cysteine-haem motif\n",
    "cyto_re = re.compile(r'cytochrome', re.I)               # rough keyword scan\n",
    "\n",
    "records = []\n",
    "for faa in sorted(faa_dir.glob(\"*.faa\")):\n",
    "    mag_id = faa.stem.split(\".faa\")[0]                  # file-stem → MAG_id\n",
    "    h_cnt = c_cnt = 0\n",
    "    for seq in SeqIO.parse(faa, \"fasta\"):\n",
    "        if haem_re.search(str(seq.seq)):\n",
    "            h_cnt += 1\n",
    "        if cyto_re.search(seq.description):\n",
    "            c_cnt += 1\n",
    "    records.append((mag_id, h_cnt, c_cnt))\n",
    "\n",
    "df = pd.DataFrame(records, columns=[\"MAG_id\",\n",
    "                                    \"haem_motif_count\",\n",
    "                                    \"cytochrome_gene_count\"])\n",
    "df.to_csv(out_tsv, sep=\"\\t\", index=False)\n",
    "print(f\"✅ wrote {out_tsv} – {len(df)} rows\")\n"
   ]
  },
  {
   "cell_type": "code",
   "execution_count": 1,
   "id": "57eaa8b8-18e2-4cbc-9e38-d240e54231a8",
   "metadata": {
    "tags": []
   },
   "outputs": [
    {
     "name": "stdout",
     "output_type": "stream",
     "text": [
      "✅ wrote /shared/team/mihaelasimion2/oesophagus_project/orf_counts_per_MAG.tsv – 89 rows\n"
     ]
    }
   ],
   "source": [
    "import re, pandas as pd\n",
    "from pathlib import Path\n",
    "from Bio import SeqIO\n",
    "\n",
    "proj   = Path(\"/shared/team/mihaelasimion2/oesophagus_project\")\n",
    "faa_dir = proj / \"prokka_faa\"        # 387 FAA files live here\n",
    "out_tsv = proj / \"orf_counts_per_MAG.tsv\"\n",
    "\n",
    "# regexes you used before\n",
    "haem_re = re.compile(r'C.{2,4}H.{2,4}H', re.I)          # cysteine-haem motif\n",
    "cyto_re = re.compile(r'cytochrome', re.I)               # rough keyword scan\n",
    "\n",
    "records = []\n",
    "for faa in sorted(faa_dir.glob(\"*.faa\")):\n",
    "    mag_id = faa.stem.split(\".faa\")[0]                  # file-stem → MAG_id\n",
    "    h_cnt = c_cnt = 0\n",
    "    for seq in SeqIO.parse(faa, \"fasta\"):\n",
    "        if haem_re.search(str(seq.seq)):\n",
    "            h_cnt += 1\n",
    "        if cyto_re.search(seq.description):\n",
    "            c_cnt += 1\n",
    "    records.append((mag_id, h_cnt, c_cnt))\n",
    "\n",
    "df = pd.DataFrame(records, columns=[\"MAG_id\",\n",
    "                                    \"haem_motif_count\",\n",
    "                                    \"cytochrome_gene_count\"])\n",
    "df.to_csv(out_tsv, sep=\"\\t\", index=False)\n",
    "print(f\"✅ wrote {out_tsv} – {len(df)} rows\")\n"
   ]
  },
  {
   "cell_type": "code",
   "execution_count": 2,
   "id": "7643e2d8-47a8-4890-9e41-f8b8c017ac93",
   "metadata": {
    "tags": []
   },
   "outputs": [
    {
     "ename": "ValueError",
     "evalue": "Could not interpret value `phylum` for `hue`. An entry with this name does not appear in `data`.",
     "output_type": "error",
     "traceback": [
      "\u001b[31m---------------------------------------------------------------------------\u001b[39m",
      "\u001b[31mValueError\u001b[39m                                Traceback (most recent call last)",
      "\u001b[36mCell\u001b[39m\u001b[36m \u001b[39m\u001b[32mIn[2]\u001b[39m\u001b[32m, line 6\u001b[39m\n\u001b[32m      2\u001b[39m sns.set_theme(style=\u001b[33m\"\u001b[39m\u001b[33mwhitegrid\u001b[39m\u001b[33m\"\u001b[39m, font_scale=\u001b[32m1\u001b[39m)\n\u001b[32m      4\u001b[39m fig, ax = plt.subplots(figsize=(\u001b[32m4\u001b[39m,\u001b[32m4\u001b[39m))                \u001b[38;5;66;03m# 90 mm ≈ 3.54 in  → use 4 in\u001b[39;00m\n\u001b[32m----> \u001b[39m\u001b[32m6\u001b[39m scatter = \u001b[43msns\u001b[49m\u001b[43m.\u001b[49m\u001b[43mscatterplot\u001b[49m\u001b[43m(\u001b[49m\n\u001b[32m      7\u001b[39m \u001b[43m    \u001b[49m\u001b[43mdata\u001b[49m\u001b[43m=\u001b[49m\u001b[43mdf\u001b[49m\u001b[43m,\u001b[49m\n\u001b[32m      8\u001b[39m \u001b[43m    \u001b[49m\u001b[43mx\u001b[49m\u001b[43m=\u001b[49m\u001b[33;43m\"\u001b[39;49m\u001b[33;43mhaem_motif_count\u001b[39;49m\u001b[33;43m\"\u001b[39;49m\u001b[43m,\u001b[49m\n\u001b[32m      9\u001b[39m \u001b[43m    \u001b[49m\u001b[43my\u001b[49m\u001b[43m=\u001b[49m\u001b[33;43m\"\u001b[39;49m\u001b[33;43mcytochrome_gene_count\u001b[39;49m\u001b[33;43m\"\u001b[39;49m\u001b[43m,\u001b[49m\n\u001b[32m     10\u001b[39m \u001b[43m    \u001b[49m\u001b[43mhue\u001b[49m\u001b[43m=\u001b[49m\u001b[33;43m\"\u001b[39;49m\u001b[33;43mphylum\u001b[39;49m\u001b[33;43m\"\u001b[39;49m\u001b[43m,\u001b[49m\n\u001b[32m     11\u001b[39m \u001b[43m    \u001b[49m\u001b[43msize\u001b[49m\u001b[43m=\u001b[49m\u001b[33;43m\"\u001b[39;49m\u001b[33;43mcompleteness\u001b[39;49m\u001b[33;43m\"\u001b[39;49m\u001b[43m,\u001b[49m\n\u001b[32m     12\u001b[39m \u001b[43m    \u001b[49m\u001b[43msizes\u001b[49m\u001b[43m=\u001b[49m\u001b[43m(\u001b[49m\u001b[32;43m20\u001b[39;49m\u001b[43m,\u001b[49m\u001b[32;43m200\u001b[39;49m\u001b[43m)\u001b[49m\u001b[43m,\u001b[49m\u001b[43m              \u001b[49m\u001b[38;5;66;43;03m# smallest ↔ largest\u001b[39;49;00m\n\u001b[32m     13\u001b[39m \u001b[43m    \u001b[49m\u001b[43mpalette\u001b[49m\u001b[43m=\u001b[49m\u001b[33;43m\"\u001b[39;49m\u001b[33;43mtab10\u001b[39;49m\u001b[33;43m\"\u001b[39;49m\u001b[43m,\u001b[49m\n\u001b[32m     14\u001b[39m \u001b[43m    \u001b[49m\u001b[43mlinewidth\u001b[49m\u001b[43m=\u001b[49m\u001b[32;43m0.5\u001b[39;49m\u001b[43m,\u001b[49m\u001b[43m \u001b[49m\u001b[43medgecolor\u001b[49m\u001b[43m=\u001b[49m\u001b[33;43m\"\u001b[39;49m\u001b[33;43mk\u001b[39;49m\u001b[33;43m\"\u001b[39;49m\u001b[43m,\u001b[49m\n\u001b[32m     15\u001b[39m \u001b[43m    \u001b[49m\u001b[43max\u001b[49m\u001b[43m=\u001b[49m\u001b[43max\u001b[49m\n\u001b[32m     16\u001b[39m \u001b[43m)\u001b[49m\n\u001b[32m     18\u001b[39m \u001b[38;5;66;03m# label each point\u001b[39;00m\n\u001b[32m     19\u001b[39m \u001b[38;5;28;01mfor\u001b[39;00m _, row \u001b[38;5;129;01min\u001b[39;00m df.iterrows():\n",
      "\u001b[36mFile \u001b[39m\u001b[32m~/.local/lib/python3.13/site-packages/seaborn/relational.py:615\u001b[39m, in \u001b[36mscatterplot\u001b[39m\u001b[34m(data, x, y, hue, size, style, palette, hue_order, hue_norm, sizes, size_order, size_norm, markers, style_order, legend, ax, **kwargs)\u001b[39m\n\u001b[32m    606\u001b[39m \u001b[38;5;28;01mdef\u001b[39;00m\u001b[38;5;250m \u001b[39m\u001b[34mscatterplot\u001b[39m(\n\u001b[32m    607\u001b[39m     data=\u001b[38;5;28;01mNone\u001b[39;00m, *,\n\u001b[32m    608\u001b[39m     x=\u001b[38;5;28;01mNone\u001b[39;00m, y=\u001b[38;5;28;01mNone\u001b[39;00m, hue=\u001b[38;5;28;01mNone\u001b[39;00m, size=\u001b[38;5;28;01mNone\u001b[39;00m, style=\u001b[38;5;28;01mNone\u001b[39;00m,\n\u001b[32m   (...)\u001b[39m\u001b[32m    612\u001b[39m     **kwargs\n\u001b[32m    613\u001b[39m ):\n\u001b[32m--> \u001b[39m\u001b[32m615\u001b[39m     p = \u001b[43m_ScatterPlotter\u001b[49m\u001b[43m(\u001b[49m\n\u001b[32m    616\u001b[39m \u001b[43m        \u001b[49m\u001b[43mdata\u001b[49m\u001b[43m=\u001b[49m\u001b[43mdata\u001b[49m\u001b[43m,\u001b[49m\n\u001b[32m    617\u001b[39m \u001b[43m        \u001b[49m\u001b[43mvariables\u001b[49m\u001b[43m=\u001b[49m\u001b[38;5;28;43mdict\u001b[39;49m\u001b[43m(\u001b[49m\u001b[43mx\u001b[49m\u001b[43m=\u001b[49m\u001b[43mx\u001b[49m\u001b[43m,\u001b[49m\u001b[43m \u001b[49m\u001b[43my\u001b[49m\u001b[43m=\u001b[49m\u001b[43my\u001b[49m\u001b[43m,\u001b[49m\u001b[43m \u001b[49m\u001b[43mhue\u001b[49m\u001b[43m=\u001b[49m\u001b[43mhue\u001b[49m\u001b[43m,\u001b[49m\u001b[43m \u001b[49m\u001b[43msize\u001b[49m\u001b[43m=\u001b[49m\u001b[43msize\u001b[49m\u001b[43m,\u001b[49m\u001b[43m \u001b[49m\u001b[43mstyle\u001b[49m\u001b[43m=\u001b[49m\u001b[43mstyle\u001b[49m\u001b[43m)\u001b[49m\u001b[43m,\u001b[49m\n\u001b[32m    618\u001b[39m \u001b[43m        \u001b[49m\u001b[43mlegend\u001b[49m\u001b[43m=\u001b[49m\u001b[43mlegend\u001b[49m\n\u001b[32m    619\u001b[39m \u001b[43m    \u001b[49m\u001b[43m)\u001b[49m\n\u001b[32m    621\u001b[39m     p.map_hue(palette=palette, order=hue_order, norm=hue_norm)\n\u001b[32m    622\u001b[39m     p.map_size(sizes=sizes, order=size_order, norm=size_norm)\n",
      "\u001b[36mFile \u001b[39m\u001b[32m~/.local/lib/python3.13/site-packages/seaborn/relational.py:396\u001b[39m, in \u001b[36m_ScatterPlotter.__init__\u001b[39m\u001b[34m(self, data, variables, legend)\u001b[39m\n\u001b[32m    387\u001b[39m \u001b[38;5;28;01mdef\u001b[39;00m\u001b[38;5;250m \u001b[39m\u001b[34m__init__\u001b[39m(\u001b[38;5;28mself\u001b[39m, *, data=\u001b[38;5;28;01mNone\u001b[39;00m, variables={}, legend=\u001b[38;5;28;01mNone\u001b[39;00m):\n\u001b[32m    388\u001b[39m \n\u001b[32m    389\u001b[39m     \u001b[38;5;66;03m# TODO this is messy, we want the mapping to be agnostic about\u001b[39;00m\n\u001b[32m    390\u001b[39m     \u001b[38;5;66;03m# the kind of plot to draw, but for the time being we need to set\u001b[39;00m\n\u001b[32m    391\u001b[39m     \u001b[38;5;66;03m# this information so the SizeMapping can use it\u001b[39;00m\n\u001b[32m    392\u001b[39m     \u001b[38;5;28mself\u001b[39m._default_size_range = (\n\u001b[32m    393\u001b[39m         np.r_[\u001b[32m.5\u001b[39m, \u001b[32m2\u001b[39m] * np.square(mpl.rcParams[\u001b[33m\"\u001b[39m\u001b[33mlines.markersize\u001b[39m\u001b[33m\"\u001b[39m])\n\u001b[32m    394\u001b[39m     )\n\u001b[32m--> \u001b[39m\u001b[32m396\u001b[39m     \u001b[38;5;28;43msuper\u001b[39;49m\u001b[43m(\u001b[49m\u001b[43m)\u001b[49m\u001b[43m.\u001b[49m\u001b[34;43m__init__\u001b[39;49m\u001b[43m(\u001b[49m\u001b[43mdata\u001b[49m\u001b[43m=\u001b[49m\u001b[43mdata\u001b[49m\u001b[43m,\u001b[49m\u001b[43m \u001b[49m\u001b[43mvariables\u001b[49m\u001b[43m=\u001b[49m\u001b[43mvariables\u001b[49m\u001b[43m)\u001b[49m\n\u001b[32m    398\u001b[39m     \u001b[38;5;28mself\u001b[39m.legend = legend\n",
      "\u001b[36mFile \u001b[39m\u001b[32m~/.local/lib/python3.13/site-packages/seaborn/_base.py:634\u001b[39m, in \u001b[36mVectorPlotter.__init__\u001b[39m\u001b[34m(self, data, variables)\u001b[39m\n\u001b[32m    629\u001b[39m \u001b[38;5;66;03m# var_ordered is relevant only for categorical axis variables, and may\u001b[39;00m\n\u001b[32m    630\u001b[39m \u001b[38;5;66;03m# be better handled by an internal axis information object that tracks\u001b[39;00m\n\u001b[32m    631\u001b[39m \u001b[38;5;66;03m# such information and is set up by the scale_* methods. The analogous\u001b[39;00m\n\u001b[32m    632\u001b[39m \u001b[38;5;66;03m# information for numeric axes would be information about log scales.\u001b[39;00m\n\u001b[32m    633\u001b[39m \u001b[38;5;28mself\u001b[39m._var_ordered = {\u001b[33m\"\u001b[39m\u001b[33mx\u001b[39m\u001b[33m\"\u001b[39m: \u001b[38;5;28;01mFalse\u001b[39;00m, \u001b[33m\"\u001b[39m\u001b[33my\u001b[39m\u001b[33m\"\u001b[39m: \u001b[38;5;28;01mFalse\u001b[39;00m}  \u001b[38;5;66;03m# alt., used DefaultDict\u001b[39;00m\n\u001b[32m--> \u001b[39m\u001b[32m634\u001b[39m \u001b[38;5;28;43mself\u001b[39;49m\u001b[43m.\u001b[49m\u001b[43massign_variables\u001b[49m\u001b[43m(\u001b[49m\u001b[43mdata\u001b[49m\u001b[43m,\u001b[49m\u001b[43m \u001b[49m\u001b[43mvariables\u001b[49m\u001b[43m)\u001b[49m\n\u001b[32m    636\u001b[39m \u001b[38;5;66;03m# TODO Lots of tests assume that these are called to initialize the\u001b[39;00m\n\u001b[32m    637\u001b[39m \u001b[38;5;66;03m# mappings to default values on class initialization. I'd prefer to\u001b[39;00m\n\u001b[32m    638\u001b[39m \u001b[38;5;66;03m# move away from that and only have a mapping when explicitly called.\u001b[39;00m\n\u001b[32m    639\u001b[39m \u001b[38;5;28;01mfor\u001b[39;00m var \u001b[38;5;129;01min\u001b[39;00m [\u001b[33m\"\u001b[39m\u001b[33mhue\u001b[39m\u001b[33m\"\u001b[39m, \u001b[33m\"\u001b[39m\u001b[33msize\u001b[39m\u001b[33m\"\u001b[39m, \u001b[33m\"\u001b[39m\u001b[33mstyle\u001b[39m\u001b[33m\"\u001b[39m]:\n",
      "\u001b[36mFile \u001b[39m\u001b[32m~/.local/lib/python3.13/site-packages/seaborn/_base.py:679\u001b[39m, in \u001b[36mVectorPlotter.assign_variables\u001b[39m\u001b[34m(self, data, variables)\u001b[39m\n\u001b[32m    674\u001b[39m \u001b[38;5;28;01melse\u001b[39;00m:\n\u001b[32m    675\u001b[39m     \u001b[38;5;66;03m# When dealing with long-form input, use the newer PlotData\u001b[39;00m\n\u001b[32m    676\u001b[39m     \u001b[38;5;66;03m# object (internal but introduced for the objects interface)\u001b[39;00m\n\u001b[32m    677\u001b[39m     \u001b[38;5;66;03m# to centralize / standardize data consumption logic.\u001b[39;00m\n\u001b[32m    678\u001b[39m     \u001b[38;5;28mself\u001b[39m.input_format = \u001b[33m\"\u001b[39m\u001b[33mlong\u001b[39m\u001b[33m\"\u001b[39m\n\u001b[32m--> \u001b[39m\u001b[32m679\u001b[39m     plot_data = \u001b[43mPlotData\u001b[49m\u001b[43m(\u001b[49m\u001b[43mdata\u001b[49m\u001b[43m,\u001b[49m\u001b[43m \u001b[49m\u001b[43mvariables\u001b[49m\u001b[43m)\u001b[49m\n\u001b[32m    680\u001b[39m     frame = plot_data.frame\n\u001b[32m    681\u001b[39m     names = plot_data.names\n",
      "\u001b[36mFile \u001b[39m\u001b[32m~/.local/lib/python3.13/site-packages/seaborn/_core/data.py:58\u001b[39m, in \u001b[36mPlotData.__init__\u001b[39m\u001b[34m(self, data, variables)\u001b[39m\n\u001b[32m     51\u001b[39m \u001b[38;5;28;01mdef\u001b[39;00m\u001b[38;5;250m \u001b[39m\u001b[34m__init__\u001b[39m(\n\u001b[32m     52\u001b[39m     \u001b[38;5;28mself\u001b[39m,\n\u001b[32m     53\u001b[39m     data: DataSource,\n\u001b[32m     54\u001b[39m     variables: \u001b[38;5;28mdict\u001b[39m[\u001b[38;5;28mstr\u001b[39m, VariableSpec],\n\u001b[32m     55\u001b[39m ):\n\u001b[32m     57\u001b[39m     data = handle_data_source(data)\n\u001b[32m---> \u001b[39m\u001b[32m58\u001b[39m     frame, names, ids = \u001b[38;5;28;43mself\u001b[39;49m\u001b[43m.\u001b[49m\u001b[43m_assign_variables\u001b[49m\u001b[43m(\u001b[49m\u001b[43mdata\u001b[49m\u001b[43m,\u001b[49m\u001b[43m \u001b[49m\u001b[43mvariables\u001b[49m\u001b[43m)\u001b[49m\n\u001b[32m     60\u001b[39m     \u001b[38;5;28mself\u001b[39m.frame = frame\n\u001b[32m     61\u001b[39m     \u001b[38;5;28mself\u001b[39m.names = names\n",
      "\u001b[36mFile \u001b[39m\u001b[32m~/.local/lib/python3.13/site-packages/seaborn/_core/data.py:232\u001b[39m, in \u001b[36mPlotData._assign_variables\u001b[39m\u001b[34m(self, data, variables)\u001b[39m\n\u001b[32m    230\u001b[39m     \u001b[38;5;28;01melse\u001b[39;00m:\n\u001b[32m    231\u001b[39m         err += \u001b[33m\"\u001b[39m\u001b[33mAn entry with this name does not appear in `data`.\u001b[39m\u001b[33m\"\u001b[39m\n\u001b[32m--> \u001b[39m\u001b[32m232\u001b[39m     \u001b[38;5;28;01mraise\u001b[39;00m \u001b[38;5;167;01mValueError\u001b[39;00m(err)\n\u001b[32m    234\u001b[39m \u001b[38;5;28;01melse\u001b[39;00m:\n\u001b[32m    235\u001b[39m \n\u001b[32m    236\u001b[39m     \u001b[38;5;66;03m# Otherwise, assume the value somehow represents data\u001b[39;00m\n\u001b[32m    237\u001b[39m \n\u001b[32m    238\u001b[39m     \u001b[38;5;66;03m# Ignore empty data structures\u001b[39;00m\n\u001b[32m    239\u001b[39m     \u001b[38;5;28;01mif\u001b[39;00m \u001b[38;5;28misinstance\u001b[39m(val, Sized) \u001b[38;5;129;01mand\u001b[39;00m \u001b[38;5;28mlen\u001b[39m(val) == \u001b[32m0\u001b[39m:\n",
      "\u001b[31mValueError\u001b[39m: Could not interpret value `phylum` for `hue`. An entry with this name does not appear in `data`."
     ]
    },
    {
     "data": {
      "image/png": "[encoded data removed]",
      "text/plain": [
       "<Figure size 400x400 with 1 Axes>"
      ]
     },
     "metadata": {},
     "output_type": "display_data"
    }
   ],
   "source": [
    "import seaborn as sns, matplotlib.pyplot as plt\n",
    "sns.set_theme(style=\"whitegrid\", font_scale=1)\n",
    "\n",
    "fig, ax = plt.subplots(figsize=(4,4))                # 90 mm ≈ 3.54 in  → use 4 in\n",
    "\n",
    "scatter = sns.scatterplot(\n",
    "    data=df,\n",
    "    x=\"haem_motif_count\",\n",
    "    y=\"cytochrome_gene_count\",\n",
    "    hue=\"phylum\",\n",
    "    size=\"completeness\",\n",
    "    sizes=(20,200),              # smallest ↔ largest\n",
    "    palette=\"tab10\",\n",
    "    linewidth=0.5, edgecolor=\"k\",\n",
    "    ax=ax\n",
    ")\n",
    "\n",
    "# label each point\n",
    "for _, row in df.iterrows():\n",
    "    ax.text(row.haem_motif_count+0.1,\n",
    "            row.cytochrome_gene_count+0.1,\n",
    "            row.MAG_id,\n",
    "            fontsize=6)\n",
    "\n",
    "ax.set_xlabel(\"Haem-binding motif count\", fontsize=12)\n",
    "ax.set_ylabel(\"Cytochrome-gene count\",  fontsize=12)\n",
    "ax.set_aspect(\"equal\", adjustable=\"box\")\n",
    "ax.grid(True, linestyle=\":\", linewidth=0.5)\n",
    "plt.tight_layout()\n",
    "\n",
    "save_base = proj/\"haem_vs_cyt\"\n",
    "plt.savefig(f\"{save_base}.svg\")\n",
    "plt.savefig(f\"{save_base}.pdf\")\n",
    "plt.show()\n",
    "\n",
    "print(\"🖇️  Download links:\")\n",
    "print(f\" • [SVG](sandbox:{save_base}.svg)\")\n",
    "print(f\" • [PDF](sandbox:{save_base}.pdf)\")\n"
   ]
  },
  {
   "cell_type": "code",
   "execution_count": 3,
   "id": "f6f2fd1c-d454-466d-a3ae-e85d79bfd52d",
   "metadata": {
    "tags": []
   },
   "outputs": [
    {
     "ename": "KeyError",
     "evalue": "\"None of [Index(['Bin Id', 'Completeness'], dtype='object')] are in the [columns]\"",
     "output_type": "error",
     "traceback": [
      "\u001b[31m---------------------------------------------------------------------------\u001b[39m",
      "\u001b[31mKeyError\u001b[39m                                  Traceback (most recent call last)",
      "\u001b[36mCell\u001b[39m\u001b[36m \u001b[39m\u001b[32mIn[3]\u001b[39m\u001b[32m, line 30\u001b[39m\n\u001b[32m     24\u001b[39m haem = (orf[orf[\u001b[33m\"\u001b[39m\u001b[33mMAG_id\u001b[39m\u001b[33m\"\u001b[39m].isin(CPR)]\n\u001b[32m     25\u001b[39m         .loc[:, [\u001b[33m\"\u001b[39m\u001b[33mMAG_id\u001b[39m\u001b[33m\"\u001b[39m, \u001b[33m\"\u001b[39m\u001b[33mhaem_motif_count\u001b[39m\u001b[33m\"\u001b[39m, \u001b[33m\"\u001b[39m\u001b[33mcytochrome_gene_count\u001b[39m\u001b[33m\"\u001b[39m]])\n\u001b[32m     27\u001b[39m \u001b[38;5;66;03m# ---------------------------------------------------------------------------\u001b[39;00m\n\u001b[32m     28\u001b[39m \u001b[38;5;66;03m# 2.  COMPLETENESS  +  PHYLUM\u001b[39;00m\n\u001b[32m     29\u001b[39m \u001b[38;5;66;03m# ---------------------------------------------------------------------------\u001b[39;00m\n\u001b[32m---> \u001b[39m\u001b[32m30\u001b[39m meta = \u001b[43mstats\u001b[49m\u001b[43m[\u001b[49m\u001b[43m[\u001b[49m\u001b[33;43m\"\u001b[39;49m\u001b[33;43mBin Id\u001b[39;49m\u001b[33;43m\"\u001b[39;49m\u001b[43m,\u001b[49m\u001b[43m \u001b[49m\u001b[33;43m\"\u001b[39;49m\u001b[33;43mCompleteness\u001b[39;49m\u001b[33;43m\"\u001b[39;49m\u001b[43m]\u001b[49m\u001b[43m]\u001b[49m.rename(\n\u001b[32m     31\u001b[39m            columns={\u001b[33m\"\u001b[39m\u001b[33mBin Id\u001b[39m\u001b[33m\"\u001b[39m: \u001b[33m\"\u001b[39m\u001b[33mMAG_id\u001b[39m\u001b[33m\"\u001b[39m,\n\u001b[32m     32\u001b[39m                     \u001b[33m\"\u001b[39m\u001b[33mCompleteness\u001b[39m\u001b[33m\"\u001b[39m: \u001b[33m\"\u001b[39m\u001b[33mcompleteness\u001b[39m\u001b[33m\"\u001b[39m})\n\u001b[32m     34\u001b[39m \u001b[38;5;66;03m# try to discover a lineage-style column in the taxonomy table\u001b[39;00m\n\u001b[32m     35\u001b[39m lineage_col = \u001b[38;5;28mnext\u001b[39m(\n\u001b[32m     36\u001b[39m     (c \u001b[38;5;28;01mfor\u001b[39;00m c \u001b[38;5;129;01min\u001b[39;00m tax.columns \u001b[38;5;28;01mif\u001b[39;00m re.search(\u001b[33mr\u001b[39m\u001b[33m\"\u001b[39m\u001b[33m(classif|lineage|taxonomy)\u001b[39m\u001b[33m\"\u001b[39m, c, re.I)),\n\u001b[32m     37\u001b[39m     \u001b[38;5;28;01mNone\u001b[39;00m\n\u001b[32m     38\u001b[39m )\n",
      "\u001b[36mFile \u001b[39m\u001b[32m~/my_prokka_env/lib/python3.13/site-packages/pandas/core/frame.py:4108\u001b[39m, in \u001b[36mDataFrame.__getitem__\u001b[39m\u001b[34m(self, key)\u001b[39m\n\u001b[32m   4106\u001b[39m     \u001b[38;5;28;01mif\u001b[39;00m is_iterator(key):\n\u001b[32m   4107\u001b[39m         key = \u001b[38;5;28mlist\u001b[39m(key)\n\u001b[32m-> \u001b[39m\u001b[32m4108\u001b[39m     indexer = \u001b[38;5;28;43mself\u001b[39;49m\u001b[43m.\u001b[49m\u001b[43mcolumns\u001b[49m\u001b[43m.\u001b[49m\u001b[43m_get_indexer_strict\u001b[49m\u001b[43m(\u001b[49m\u001b[43mkey\u001b[49m\u001b[43m,\u001b[49m\u001b[43m \u001b[49m\u001b[33;43m\"\u001b[39;49m\u001b[33;43mcolumns\u001b[39;49m\u001b[33;43m\"\u001b[39;49m\u001b[43m)\u001b[49m[\u001b[32m1\u001b[39m]\n\u001b[32m   4110\u001b[39m \u001b[38;5;66;03m# take() does not accept boolean indexers\u001b[39;00m\n\u001b[32m   4111\u001b[39m \u001b[38;5;28;01mif\u001b[39;00m \u001b[38;5;28mgetattr\u001b[39m(indexer, \u001b[33m\"\u001b[39m\u001b[33mdtype\u001b[39m\u001b[33m\"\u001b[39m, \u001b[38;5;28;01mNone\u001b[39;00m) == \u001b[38;5;28mbool\u001b[39m:\n",
      "\u001b[36mFile \u001b[39m\u001b[32m~/my_prokka_env/lib/python3.13/site-packages/pandas/core/indexes/base.py:6200\u001b[39m, in \u001b[36mIndex._get_indexer_strict\u001b[39m\u001b[34m(self, key, axis_name)\u001b[39m\n\u001b[32m   6197\u001b[39m \u001b[38;5;28;01melse\u001b[39;00m:\n\u001b[32m   6198\u001b[39m     keyarr, indexer, new_indexer = \u001b[38;5;28mself\u001b[39m._reindex_non_unique(keyarr)\n\u001b[32m-> \u001b[39m\u001b[32m6200\u001b[39m \u001b[38;5;28;43mself\u001b[39;49m\u001b[43m.\u001b[49m\u001b[43m_raise_if_missing\u001b[49m\u001b[43m(\u001b[49m\u001b[43mkeyarr\u001b[49m\u001b[43m,\u001b[49m\u001b[43m \u001b[49m\u001b[43mindexer\u001b[49m\u001b[43m,\u001b[49m\u001b[43m \u001b[49m\u001b[43maxis_name\u001b[49m\u001b[43m)\u001b[49m\n\u001b[32m   6202\u001b[39m keyarr = \u001b[38;5;28mself\u001b[39m.take(indexer)\n\u001b[32m   6203\u001b[39m \u001b[38;5;28;01mif\u001b[39;00m \u001b[38;5;28misinstance\u001b[39m(key, Index):\n\u001b[32m   6204\u001b[39m     \u001b[38;5;66;03m# GH 42790 - Preserve name from an Index\u001b[39;00m\n",
      "\u001b[36mFile \u001b[39m\u001b[32m~/my_prokka_env/lib/python3.13/site-packages/pandas/core/indexes/base.py:6249\u001b[39m, in \u001b[36mIndex._raise_if_missing\u001b[39m\u001b[34m(self, key, indexer, axis_name)\u001b[39m\n\u001b[32m   6247\u001b[39m \u001b[38;5;28;01mif\u001b[39;00m nmissing:\n\u001b[32m   6248\u001b[39m     \u001b[38;5;28;01mif\u001b[39;00m nmissing == \u001b[38;5;28mlen\u001b[39m(indexer):\n\u001b[32m-> \u001b[39m\u001b[32m6249\u001b[39m         \u001b[38;5;28;01mraise\u001b[39;00m \u001b[38;5;167;01mKeyError\u001b[39;00m(\u001b[33mf\u001b[39m\u001b[33m\"\u001b[39m\u001b[33mNone of [\u001b[39m\u001b[38;5;132;01m{\u001b[39;00mkey\u001b[38;5;132;01m}\u001b[39;00m\u001b[33m] are in the [\u001b[39m\u001b[38;5;132;01m{\u001b[39;00maxis_name\u001b[38;5;132;01m}\u001b[39;00m\u001b[33m]\u001b[39m\u001b[33m\"\u001b[39m)\n\u001b[32m   6251\u001b[39m     not_found = \u001b[38;5;28mlist\u001b[39m(ensure_index(key)[missing_mask.nonzero()[\u001b[32m0\u001b[39m]].unique())\n\u001b[32m   6252\u001b[39m     \u001b[38;5;28;01mraise\u001b[39;00m \u001b[38;5;167;01mKeyError\u001b[39;00m(\u001b[33mf\u001b[39m\u001b[33m\"\u001b[39m\u001b[38;5;132;01m{\u001b[39;00mnot_found\u001b[38;5;132;01m}\u001b[39;00m\u001b[33m not in index\u001b[39m\u001b[33m\"\u001b[39m)\n",
      "\u001b[31mKeyError\u001b[39m: \"None of [Index(['Bin Id', 'Completeness'], dtype='object')] are in the [columns]\""
     ]
    }
   ],
   "source": [
    "# ── Fig 3 · 4B  scatter: haem motifs vs cytochromes ───────────────────────────\n",
    "import pandas as pd, re\n",
    "import seaborn as sns, matplotlib.pyplot as plt\n",
    "from pathlib import Path\n",
    "\n",
    "proj = Path(\"/shared/team/mihaelasimion2/oesophagus_project\")\n",
    "\n",
    "# ---------------------------------------------------------------------------\n",
    "# 1.  LOAD TABLES\n",
    "# ---------------------------------------------------------------------------\n",
    "orf   = pd.read_csv(proj / \"orf_counts_per_MAG.tsv\", sep=\"\\t\", low_memory=False)\n",
    "stats = pd.read_csv(proj / \"bin_stats_ext.tsv\",       sep=\"\\t\", low_memory=False)\n",
    "tax   = pd.read_csv(proj / \"classification_summary.tsv\", sep=\"\\t\", low_memory=False)\n",
    "\n",
    "# keep just the six CPR MAGs (your publication figure)\n",
    "CPR = [\n",
    "    \"ERR2373117_bin.7\",\n",
    "    \"P11B_S7_bin.28.1\",\n",
    "    \"P2B_S1_bin.0.1\",\n",
    "    \"P5B_S4_bin.39.1\",\n",
    "    \"P13S_S20_bin.18.1\",\n",
    "    \"ERR2373095_bin.15\",\n",
    "]\n",
    "haem = (orf[orf[\"MAG_id\"].isin(CPR)]\n",
    "        .loc[:, [\"MAG_id\", \"haem_motif_count\", \"cytochrome_gene_count\"]])\n",
    "\n",
    "# ---------------------------------------------------------------------------\n",
    "# 2.  COMPLETENESS  +  PHYLUM\n",
    "# ---------------------------------------------------------------------------\n",
    "meta = stats[[\"Bin Id\", \"Completeness\"]].rename(\n",
    "           columns={\"Bin Id\": \"MAG_id\",\n",
    "                    \"Completeness\": \"completeness\"})\n",
    "\n",
    "# try to discover a lineage-style column in the taxonomy table\n",
    "lineage_col = next(\n",
    "    (c for c in tax.columns if re.search(r\"(classif|lineage|taxonomy)\", c, re.I)),\n",
    "    None\n",
    ")\n",
    "\n",
    "if lineage_col:\n",
    "    def grab_phylum(line):\n",
    "        m = re.search(r\"p__([^;]+)\", str(line))\n",
    "        return m.group(1) if m else \"Unclassified\"\n",
    "    tax[\"phylum\"] = tax[lineage_col].apply(grab_phylum)\n",
    "    meta = meta.merge(tax[[\"Bin Id\", \"phylum\"]]\n",
    "                          .rename(columns={\"Bin Id\": \"MAG_id\"}),\n",
    "                      on=\"MAG_id\", how=\"left\")\n",
    "else:\n",
    "    # taxonomy file either empty or unusable ➜ fall back to Unclassified\n",
    "    meta[\"phylum\"] = \"Unclassified\"\n",
    "\n",
    "# ---------------------------------------------------------------------------\n",
    "# 3.  MERGE & PLOT\n",
    "# ---------------------------------------------------------------------------\n",
    "df = haem.merge(meta, on=\"MAG_id\", how=\"left\")\n",
    "\n",
    "# if phylum still missing for any row, fill it\n",
    "df[\"phylum\"] = df[\"phylum\"].fillna(\"Unclassified\")\n",
    "\n",
    "# quick sanity-check\n",
    "print(\"Rows in final DF:\", len(df))\n",
    "display(df)\n",
    "\n",
    "# -------------------------  scatter  ----------------------------------------\n",
    "sns.set_theme(style=\"whitegrid\", font_scale=1)\n",
    "fig, ax = plt.subplots(figsize=(4,4))           # 90 mm ≈ 3.54 in\n",
    "\n",
    "sns.scatterplot(\n",
    "    data=df,\n",
    "    x=\"haem_motif_count\",\n",
    "    y=\"cytochrome_gene_count\",\n",
    "    hue=\"phylum\",\n",
    "    size=\"completeness\",\n",
    "    sizes=(20, 200),\n",
    "    palette=\"tab10\",\n",
    "    linewidth=0.5,\n",
    "    edgecolor=\"k\",\n",
    "    ax=ax\n",
    ")\n",
    "\n",
    "for _, r in df.iterrows():\n",
    "    ax.text(r.haem_motif_count + 0.1,\n",
    "            r.cytochrome_gene_count + 0.1,\n",
    "            r.MAG_id,\n",
    "            fontsize=6)\n",
    "\n",
    "ax.set_xlabel(\"Haem-binding motif count\", fontsize=12)\n",
    "ax.set_ylabel(\"Cytochrome-gene count\",   fontsize=12)\n",
    "ax.set_aspect(\"equal\", adjustable=\"box\")\n",
    "ax.grid(True, linestyle=\":\", linewidth=0.5)\n",
    "plt.tight_layout()\n",
    "\n",
    "out_base = proj / \"haem_vs_cyt\"\n",
    "plt.savefig(f\"{out_base}.svg\")\n",
    "plt.savefig(f\"{out_base}.pdf\")\n",
    "plt.show()\n",
    "\n",
    "print(\"\\n🖇️  Download:\")\n",
    "print(f\" • SVG → sandbox:{out_base}.svg\")\n",
    "print(f\" • PDF → sandbox:{out_base}.pdf\")\n"
   ]
  },
  {
   "cell_type": "code",
   "execution_count": 4,
   "id": "8034d002-e83b-4215-9e77-e70bbac29530",
   "metadata": {
    "tags": []
   },
   "outputs": [
    {
     "ename": "KeyError",
     "evalue": "\"None of [Index(['Bin Id', 'Completeness'], dtype='object')] are in the [columns]\"",
     "output_type": "error",
     "traceback": [
      "\u001b[31m---------------------------------------------------------------------------\u001b[39m",
      "\u001b[31mKeyError\u001b[39m                                  Traceback (most recent call last)",
      "\u001b[36mCell\u001b[39m\u001b[36m \u001b[39m\u001b[32mIn[4]\u001b[39m\u001b[32m, line 30\u001b[39m\n\u001b[32m     24\u001b[39m haem = (orf[orf[\u001b[33m\"\u001b[39m\u001b[33mMAG_id\u001b[39m\u001b[33m\"\u001b[39m].isin(CPR)]\n\u001b[32m     25\u001b[39m         .loc[:, [\u001b[33m\"\u001b[39m\u001b[33mMAG_id\u001b[39m\u001b[33m\"\u001b[39m, \u001b[33m\"\u001b[39m\u001b[33mhaem_motif_count\u001b[39m\u001b[33m\"\u001b[39m, \u001b[33m\"\u001b[39m\u001b[33mcytochrome_gene_count\u001b[39m\u001b[33m\"\u001b[39m]])\n\u001b[32m     27\u001b[39m \u001b[38;5;66;03m# ---------------------------------------------------------------------------\u001b[39;00m\n\u001b[32m     28\u001b[39m \u001b[38;5;66;03m# 2.  COMPLETENESS  +  PHYLUM\u001b[39;00m\n\u001b[32m     29\u001b[39m \u001b[38;5;66;03m# ---------------------------------------------------------------------------\u001b[39;00m\n\u001b[32m---> \u001b[39m\u001b[32m30\u001b[39m meta = \u001b[43mstats\u001b[49m\u001b[43m[\u001b[49m\u001b[43m[\u001b[49m\u001b[33;43m\"\u001b[39;49m\u001b[33;43mBin Id\u001b[39;49m\u001b[33;43m\"\u001b[39;49m\u001b[43m,\u001b[49m\u001b[43m \u001b[49m\u001b[33;43m\"\u001b[39;49m\u001b[33;43mCompleteness\u001b[39;49m\u001b[33;43m\"\u001b[39;49m\u001b[43m]\u001b[49m\u001b[43m]\u001b[49m.rename(\n\u001b[32m     31\u001b[39m            columns={\u001b[33m\"\u001b[39m\u001b[33mBin Id\u001b[39m\u001b[33m\"\u001b[39m: \u001b[33m\"\u001b[39m\u001b[33mMAG_id\u001b[39m\u001b[33m\"\u001b[39m,\n\u001b[32m     32\u001b[39m                     \u001b[33m\"\u001b[39m\u001b[33mCompleteness\u001b[39m\u001b[33m\"\u001b[39m: \u001b[33m\"\u001b[39m\u001b[33mcompleteness\u001b[39m\u001b[33m\"\u001b[39m})\n\u001b[32m     34\u001b[39m \u001b[38;5;66;03m# try to discover a lineage-style column in the taxonomy table\u001b[39;00m\n\u001b[32m     35\u001b[39m lineage_col = \u001b[38;5;28mnext\u001b[39m(\n\u001b[32m     36\u001b[39m     (c \u001b[38;5;28;01mfor\u001b[39;00m c \u001b[38;5;129;01min\u001b[39;00m tax.columns \u001b[38;5;28;01mif\u001b[39;00m re.search(\u001b[33mr\u001b[39m\u001b[33m\"\u001b[39m\u001b[33m(classif|lineage|taxonomy)\u001b[39m\u001b[33m\"\u001b[39m, c, re.I)),\n\u001b[32m     37\u001b[39m     \u001b[38;5;28;01mNone\u001b[39;00m\n\u001b[32m     38\u001b[39m )\n",
      "\u001b[36mFile \u001b[39m\u001b[32m~/my_prokka_env/lib/python3.13/site-packages/pandas/core/frame.py:4108\u001b[39m, in \u001b[36mDataFrame.__getitem__\u001b[39m\u001b[34m(self, key)\u001b[39m\n\u001b[32m   4106\u001b[39m     \u001b[38;5;28;01mif\u001b[39;00m is_iterator(key):\n\u001b[32m   4107\u001b[39m         key = \u001b[38;5;28mlist\u001b[39m(key)\n\u001b[32m-> \u001b[39m\u001b[32m4108\u001b[39m     indexer = \u001b[38;5;28;43mself\u001b[39;49m\u001b[43m.\u001b[49m\u001b[43mcolumns\u001b[49m\u001b[43m.\u001b[49m\u001b[43m_get_indexer_strict\u001b[49m\u001b[43m(\u001b[49m\u001b[43mkey\u001b[49m\u001b[43m,\u001b[49m\u001b[43m \u001b[49m\u001b[33;43m\"\u001b[39;49m\u001b[33;43mcolumns\u001b[39;49m\u001b[33;43m\"\u001b[39;49m\u001b[43m)\u001b[49m[\u001b[32m1\u001b[39m]\n\u001b[32m   4110\u001b[39m \u001b[38;5;66;03m# take() does not accept boolean indexers\u001b[39;00m\n\u001b[32m   4111\u001b[39m \u001b[38;5;28;01mif\u001b[39;00m \u001b[38;5;28mgetattr\u001b[39m(indexer, \u001b[33m\"\u001b[39m\u001b[33mdtype\u001b[39m\u001b[33m\"\u001b[39m, \u001b[38;5;28;01mNone\u001b[39;00m) == \u001b[38;5;28mbool\u001b[39m:\n",
      "\u001b[36mFile \u001b[39m\u001b[32m~/my_prokka_env/lib/python3.13/site-packages/pandas/core/indexes/base.py:6200\u001b[39m, in \u001b[36mIndex._get_indexer_strict\u001b[39m\u001b[34m(self, key, axis_name)\u001b[39m\n\u001b[32m   6197\u001b[39m \u001b[38;5;28;01melse\u001b[39;00m:\n\u001b[32m   6198\u001b[39m     keyarr, indexer, new_indexer = \u001b[38;5;28mself\u001b[39m._reindex_non_unique(keyarr)\n\u001b[32m-> \u001b[39m\u001b[32m6200\u001b[39m \u001b[38;5;28;43mself\u001b[39;49m\u001b[43m.\u001b[49m\u001b[43m_raise_if_missing\u001b[49m\u001b[43m(\u001b[49m\u001b[43mkeyarr\u001b[49m\u001b[43m,\u001b[49m\u001b[43m \u001b[49m\u001b[43mindexer\u001b[49m\u001b[43m,\u001b[49m\u001b[43m \u001b[49m\u001b[43maxis_name\u001b[49m\u001b[43m)\u001b[49m\n\u001b[32m   6202\u001b[39m keyarr = \u001b[38;5;28mself\u001b[39m.take(indexer)\n\u001b[32m   6203\u001b[39m \u001b[38;5;28;01mif\u001b[39;00m \u001b[38;5;28misinstance\u001b[39m(key, Index):\n\u001b[32m   6204\u001b[39m     \u001b[38;5;66;03m# GH 42790 - Preserve name from an Index\u001b[39;00m\n",
      "\u001b[36mFile \u001b[39m\u001b[32m~/my_prokka_env/lib/python3.13/site-packages/pandas/core/indexes/base.py:6249\u001b[39m, in \u001b[36mIndex._raise_if_missing\u001b[39m\u001b[34m(self, key, indexer, axis_name)\u001b[39m\n\u001b[32m   6247\u001b[39m \u001b[38;5;28;01mif\u001b[39;00m nmissing:\n\u001b[32m   6248\u001b[39m     \u001b[38;5;28;01mif\u001b[39;00m nmissing == \u001b[38;5;28mlen\u001b[39m(indexer):\n\u001b[32m-> \u001b[39m\u001b[32m6249\u001b[39m         \u001b[38;5;28;01mraise\u001b[39;00m \u001b[38;5;167;01mKeyError\u001b[39;00m(\u001b[33mf\u001b[39m\u001b[33m\"\u001b[39m\u001b[33mNone of [\u001b[39m\u001b[38;5;132;01m{\u001b[39;00mkey\u001b[38;5;132;01m}\u001b[39;00m\u001b[33m] are in the [\u001b[39m\u001b[38;5;132;01m{\u001b[39;00maxis_name\u001b[38;5;132;01m}\u001b[39;00m\u001b[33m]\u001b[39m\u001b[33m\"\u001b[39m)\n\u001b[32m   6251\u001b[39m     not_found = \u001b[38;5;28mlist\u001b[39m(ensure_index(key)[missing_mask.nonzero()[\u001b[32m0\u001b[39m]].unique())\n\u001b[32m   6252\u001b[39m     \u001b[38;5;28;01mraise\u001b[39;00m \u001b[38;5;167;01mKeyError\u001b[39;00m(\u001b[33mf\u001b[39m\u001b[33m\"\u001b[39m\u001b[38;5;132;01m{\u001b[39;00mnot_found\u001b[38;5;132;01m}\u001b[39;00m\u001b[33m not in index\u001b[39m\u001b[33m\"\u001b[39m)\n",
      "\u001b[31mKeyError\u001b[39m: \"None of [Index(['Bin Id', 'Completeness'], dtype='object')] are in the [columns]\""
     ]
    }
   ],
   "source": [
    "# ── Fig 3 · 4B  scatter: haem motifs vs cytochromes ───────────────────────────\n",
    "import pandas as pd, re\n",
    "import seaborn as sns, matplotlib.pyplot as plt\n",
    "from pathlib import Path\n",
    "\n",
    "proj = Path(\"/shared/team/mihaelasimion2/oesophagus_project\")\n",
    "\n",
    "# ---------------------------------------------------------------------------\n",
    "# 1.  LOAD TABLES\n",
    "# ---------------------------------------------------------------------------\n",
    "orf   = pd.read_csv(proj / \"orf_counts_per_MAG.tsv\", sep=\"\\t\", low_memory=False)\n",
    "stats = pd.read_csv(proj / \"bin_stats_ext.tsv\",       sep=\"\\t\", low_memory=False)\n",
    "tax   = pd.read_csv(proj / \"classification_summary.tsv\", sep=\"\\t\", low_memory=False)\n",
    "\n",
    "# keep just the six CPR MAGs (your publication figure)\n",
    "CPR = [\n",
    "    \"ERR2373117_bin.7\",\n",
    "    \"P11B_S7_bin.28.1\",\n",
    "    \"P2B_S1_bin.0.1\",\n",
    "    \"P5B_S4_bin.39.1\",\n",
    "    \"P13S_S20_bin.18.1\",\n",
    "    \"ERR2373095_bin.15\",\n",
    "]\n",
    "haem = (orf[orf[\"MAG_id\"].isin(CPR)]\n",
    "        .loc[:, [\"MAG_id\", \"haem_motif_count\", \"cytochrome_gene_count\"]])\n",
    "\n",
    "# ---------------------------------------------------------------------------\n",
    "# 2.  COMPLETENESS  +  PHYLUM\n",
    "# ---------------------------------------------------------------------------\n",
    "meta = stats[[\"Bin Id\", \"Completeness\"]].rename(\n",
    "           columns={\"Bin Id\": \"MAG_id\",\n",
    "                    \"Completeness\": \"completeness\"})\n",
    "\n",
    "# try to discover a lineage-style column in the taxonomy table\n",
    "lineage_col = next(\n",
    "    (c for c in tax.columns if re.search(r\"(classif|lineage|taxonomy)\", c, re.I)),\n",
    "    None\n",
    ")\n",
    "\n",
    "if lineage_col:\n",
    "    def grab_phylum(line):\n",
    "        m = re.search(r\"p__([^;]+)\", str(line))\n",
    "        return m.group(1) if m else \"Unclassified\"\n",
    "    tax[\"phylum\"] = tax[lineage_col].apply(grab_phylum)\n",
    "    meta = meta.merge(tax[[\"Bin Id\", \"phylum\"]]\n",
    "                          .rename(columns={\"Bin Id\": \"MAG_id\"}),\n",
    "                      on=\"MAG_id\", how=\"left\")\n",
    "else:\n",
    "    # taxonomy file either empty or unusable ➜ fall back to Unclassified\n",
    "    meta[\"phylum\"] = \"Unclassified\"\n",
    "\n",
    "# ---------------------------------------------------------------------------\n",
    "# 3.  MERGE & PLOT\n",
    "# ---------------------------------------------------------------------------\n",
    "df = haem.merge(meta, on=\"MAG_id\", how=\"left\")\n",
    "\n",
    "# if phylum still missing for any row, fill it\n",
    "df[\"phylum\"] = df[\"phylum\"].fillna(\"Unclassified\")\n",
    "\n",
    "# quick sanity-check\n",
    "print(\"Rows in final DF:\", len(df))\n",
    "display(df)\n",
    "\n",
    "# -------------------------  scatter  ----------------------------------------\n",
    "sns.set_theme(style=\"whitegrid\", font_scale=1)\n",
    "fig, ax = plt.subplots(figsize=(4,4))           # 90 mm ≈ 3.54 in\n",
    "\n",
    "sns.scatterplot(\n",
    "    data=df,\n",
    "    x=\"haem_motif_count\",\n",
    "    y=\"cytochrome_gene_count\",\n",
    "    hue=\"phylum\",\n",
    "    size=\"completeness\",\n",
    "    sizes=(20, 200),\n",
    "    palette=\"tab10\",\n",
    "    linewidth=0.5,\n",
    "    edgecolor=\"k\",\n",
    "    ax=ax\n",
    ")\n",
    "\n",
    "for _, r in df.iterrows():\n",
    "    ax.text(r.haem_motif_count + 0.1,\n",
    "            r.cytochrome_gene_count + 0.1,\n",
    "            r.MAG_id,\n",
    "            fontsize=6)\n",
    "\n",
    "ax.set_xlabel(\"Haem-binding motif count\", fontsize=12)\n",
    "ax.set_ylabel(\"Cytochrome-gene count\",   fontsize=12)\n",
    "ax.set_aspect(\"equal\", adjustable=\"box\")\n",
    "ax.grid(True, linestyle=\":\", linewidth=0.5)\n",
    "plt.tight_layout()\n",
    "\n",
    "out_base = proj / \"haem_vs_cyt\"\n",
    "plt.savefig(f\"{out_base}.svg\")\n",
    "plt.savefig(f\"{out_base}.pdf\")\n",
    "plt.show()\n",
    "\n",
    "print(\"\\n🖇️  Download:\")\n",
    "print(f\" • SVG → sandbox:{out_base}.svg\")\n",
    "print(f\" • PDF → sandbox:{out_base}.pdf\")\n"
   ]
  },
  {
   "cell_type": "code",
   "execution_count": 5,
   "id": "8ba98fea-a01e-478b-b549-17baaacdb6d9",
   "metadata": {
    "tags": []
   },
   "outputs": [
    {
     "name": "stdout",
     "output_type": "stream",
     "text": [
      "ERR2373052_bin.19 · {'marker lineage': 'Bacteria', '# genomes': 5449, '# markers': 104, '# marker sets': 58,\n",
      "'0': 4, '1': 99, '2': 1, '3': 0, '4': 0, '5+': 0, 'Completeness': 96.55172413793103, 'Contamination':\n",
      "0.8620689655172413, 'GC': 0.36618011450504384, 'GC std': 0.030289736272256222, 'Genome size': 2457359, '#\n",
      "ambiguous bases': 0, '# scaffolds': 151, '# contigs': 151, 'Longest scaffold': 79087, 'Longest contig': 79087,\n",
      "'N50 (scaffolds)': 24429, 'N50 (contigs)': 24429, 'Mean scaffold length': 16273.900662251655, 'Mean contig\n",
      "length': 16273.900662251655, 'Coding density': 0.8338395000486294, 'Translation table': 11, '# predicted\n",
      "genes': 2092, 'GCN0': ['PF00829', 'PF01016', 'TIGR03723', 'TIGR00329'], 'GCN1': ['PF00861', 'TIGR03594',\n",
      "'PF04563', 'PF04998', 'PF01632', 'PF01121', 'PF04997', 'PF00562', 'PF03946', 'PF00380', 'TIGR02432',\n",
      "'PF05000', 'PF00164', 'PF00298', 'PF00203', 'TIGR00615', 'PF00347', 'TIGR01079', 'TIGR00967', 'TIGR00019',\n",
      "'PF03484', 'PF03947', 'PF00237', 'TIGR03263', 'PF05697', 'PF00687', 'PF00338', 'PF01000', 'PF00831',\n",
      "'PF01250', 'PF00252', 'PF00828', 'PF00177', 'TIGR00460', 'PF02367', 'PF02978', 'PF00453', 'PF01765',\n",
      "'PF00623', 'PF00411', 'PF04565', 'PF12344', 'PF06421', 'PF13184', 'PF01668', 'PF00318', 'PF06071', 'PF00573',\n",
      "'PF05491', 'PF00466', 'PF00889', 'PF00673', 'PF01018', 'PF00276', 'PF01281', 'PF13603', 'TIGR00459',\n",
      "'TIGR00755', 'TIGR00250', 'PF11987', 'PF00162', 'PF00238', 'PF01746', 'TIGR02075', 'PF00181', 'PF08529',\n",
      "'TIGR00084', 'TIGR00922', 'PF00333', 'PF01795', 'PF04983', 'PF01196', 'PF00366', 'PF00189', 'PF03719',\n",
      "'TIGR00392', 'PF00281', 'PF00886', 'PF01509', 'PF01193', 'PF01409', 'PF04560', 'PF00572', 'PF01649',\n",
      "'PF04561', 'PF01245', 'PF00297', 'TIGR00344', 'PF00312', 'PF10385', 'PF00416', 'PF02033', 'PF08459',\n",
      "'PF02130', 'TIGR00810', 'PF01195', 'PF03948', 'PF00410', 'PF02912'], 'GCN2': ['TIGR00855'], 'GCN3': [],\n",
      "'GCN4': [], 'GCN5+': []}\n"
     ]
    }
   ],
   "source": [
    "import pandas as pd, re, sys, textwrap\n",
    "stats = pd.read_csv(\"/shared/team/mihaelasimion2/oesophagus_project/bin_stats_ext.tsv\", sep=\"\\t\", nrows=0)\n",
    "print(\"\\n\".join(textwrap.wrap(\" · \".join(stats.columns), width=110)))\n"
   ]
  },
  {
   "cell_type": "code",
   "execution_count": 6,
   "id": "23414736-9453-48eb-aba5-3c45b5665fb8",
   "metadata": {
    "tags": []
   },
   "outputs": [
    {
     "data": {
      "image/png": "[encoded data removed]",
      "text/plain": [
       "<Figure size 400x400 with 1 Axes>"
      ]
     },
     "metadata": {},
     "output_type": "display_data"
    },
    {
     "name": "stdout",
     "output_type": "stream",
     "text": [
      "\n",
      "🖇️  Download links (right-click → Save):\n",
      " • SVG → sandbox:/shared/team/mihaelasimion2/oesophagus_project/haem_vs_cyt.svg\n",
      " • PDF → sandbox:/shared/team/mihaelasimion2/oesophagus_project/haem_vs_cyt.pdf\n"
     ]
    }
   ],
   "source": [
    "# ── Fig 3·4B  haem-motif vs cytochrome scatter (CPR only) ───────────────\n",
    "import pandas as pd, ast, re, seaborn as sns, matplotlib.pyplot as plt\n",
    "from pathlib import Path\n",
    "\n",
    "proj = Path(\"/shared/team/mihaelasimion2/oesophagus_project\")\n",
    "\n",
    "# ------------------------------------------------------------------ #\n",
    "# 1.  ORF counts  – already contains MAG_id / haem / cyto counts     #\n",
    "# ------------------------------------------------------------------ #\n",
    "orf = pd.read_csv(proj / \"orf_counts_per_MAG.tsv\", sep=\"\\t\", low_memory=False)\n",
    "\n",
    "CPR = [\n",
    "    \"ERR2373117_bin.7\", \"P11B_S7_bin.28.1\", \"P2B_S1_bin.0.1\",\n",
    "    \"P5B_S4_bin.39.1\", \"P13S_S20_bin.18.1\", \"ERR2373095_bin.15\",\n",
    "]\n",
    "haem = (orf[orf[\"MAG_id\"].isin(CPR)]\n",
    "        .loc[:, [\"MAG_id\", \"haem_motif_count\", \"cytochrome_gene_count\"]])\n",
    "\n",
    "# ------------------------------------------------------------------ #\n",
    "# 2.  COMPLETENESS from bin_stats_ext.tsv (2-column TSV)             #\n",
    "# ------------------------------------------------------------------ #\n",
    "stats_raw = pd.read_csv(\n",
    "    proj / \"bin_stats_ext.tsv\", sep=\"\\t\", header=None,\n",
    "    names=[\"MAG_id\", \"attrs\"], engine=\"python\"\n",
    ")\n",
    "\n",
    "# turn the dict-as-string into a real dict, pull out Completeness\n",
    "stats_raw[\"attrs\"] = stats_raw[\"attrs\"].apply(ast.literal_eval)\n",
    "stats_raw[\"completeness\"] = stats_raw[\"attrs\"].apply(lambda d: d.get(\"Completeness\", None))\n",
    "meta = stats_raw[[\"MAG_id\", \"completeness\"]]\n",
    "\n",
    "# ------------------------------------------------------------------ #\n",
    "# 3.  PHYLUM from classification_summary.tsv                         #\n",
    "# ------------------------------------------------------------------ #\n",
    "tax = pd.read_csv(proj / \"classification_summary.tsv\", sep=\"\\t\", low_memory=False)\n",
    "\n",
    "# first column holding the MAG id\n",
    "bin_col  = next((c for c in tax.columns if re.search(r\"^(bin|genome)\", c, re.I)), None)\n",
    "# lineage / taxonomy column (may be called \"classification\" or similar)\n",
    "line_col = next((c for c in tax.columns if re.search(r\"(lineage|classif|tax)\", c, re.I)), None)\n",
    "\n",
    "if bin_col and line_col:\n",
    "    def grab_phylum(txt):\n",
    "        m = re.search(r\"p__([^;]+)\", str(txt))\n",
    "        return m.group(1) if m else \"Unclassified\"\n",
    "    tax[\"phylum\"] = tax[line_col].apply(grab_phylum)\n",
    "    tax = tax.rename(columns={bin_col: \"MAG_id\"})\n",
    "    meta = meta.merge(tax[[\"MAG_id\", \"phylum\"]], on=\"MAG_id\", how=\"left\")\n",
    "else:\n",
    "    meta[\"phylum\"] = \"Unclassified\"\n",
    "\n",
    "# ------------------------------------------------------------------ #\n",
    "# 4.  merge & save haem_vs_cyt.tsv                                   #\n",
    "# ------------------------------------------------------------------ #\n",
    "df = haem.merge(meta, on=\"MAG_id\", how=\"left\")\n",
    "df.to_csv(proj / \"haem_vs_cyt.tsv\", sep=\"\\t\", index=False)\n",
    "\n",
    "# ------------------------------------------------------------------ #\n",
    "# 5.  scatter plot (publication-ready, 90 mm ≈ 3.54 in)              #\n",
    "# ------------------------------------------------------------------ #\n",
    "sns.set_theme(style=\"whitegrid\", font_scale=1)\n",
    "fig, ax = plt.subplots(figsize=(4,4))\n",
    "\n",
    "sns.scatterplot(\n",
    "    data=df,\n",
    "    x=\"haem_motif_count\", y=\"cytochrome_gene_count\",\n",
    "    hue=\"phylum\", size=\"completeness\", sizes=(20,200),\n",
    "    palette=\"tab10\", edgecolor=\"k\", linewidth=0.5, ax=ax\n",
    ")\n",
    "\n",
    "for _, r in df.iterrows():\n",
    "    ax.text(r.haem_motif_count+0.1, r.cytochrome_gene_count+0.1,\n",
    "            r.MAG_id, fontsize=6)\n",
    "\n",
    "ax.set_xlabel(\"Haem-binding motif count\", fontsize=12)\n",
    "ax.set_ylabel(\"Cytochrome-gene count\", fontsize=12)\n",
    "ax.set_aspect(\"equal\", adjustable=\"box\")\n",
    "ax.grid(True, linestyle=\":\", linewidth=0.5)\n",
    "plt.tight_layout()\n",
    "\n",
    "out_base = proj / \"haem_vs_cyt\"\n",
    "plt.savefig(f\"{out_base}.svg\")\n",
    "plt.savefig(f\"{out_base}.pdf\")\n",
    "plt.show()\n",
    "\n",
    "print(\"\\n🖇️  Download links (right-click → Save):\")\n",
    "print(f\" • SVG → sandbox:{out_base}.svg\")\n",
    "print(f\" • PDF → sandbox:{out_base}.pdf\")\n"
   ]
  },
  {
   "cell_type": "code",
   "execution_count": null,
   "id": "89d37740-d03c-47a6-876d-cc270be26dc7",
   "metadata": {
    "tags": []
   },
   "outputs": [],
   "source": [
    "import glob, os, textwrap\n",
    "\n",
    "# Adjust the root directory if your data sit elsewhere\n",
    "root = \"/shared/team\"\n",
    "\n",
    "patterns = [\n",
    "    \"**/species*abund*.tsv\",\n",
    "    \"**/species*abund*.csv\",\n",
    "    \"**/*relative*abund*.tsv\",\n",
    "]\n",
    "\n",
    "hits = []\n",
    "for pat in patterns:\n",
    "    hits.extend(glob.glob(os.path.join(root, pat), recursive=True))\n",
    "\n",
    "print(\"\\n\".join(textwrap.shorten(p, width=120) for p in hits) or \"Nothing matching those patterns was found.\")\n"
   ]
  },
  {
   "cell_type": "code",
   "execution_count": null,
   "id": "ca907034-9de4-4758-b128-6534030cf123",
   "metadata": {},
   "outputs": [],
   "source": [
    "import glob, os, textwrap\n",
    "\n",
    "# Adjust the root directory if your data sit elsewhere\n",
    "root = \"/shared/team\"\n",
    "\n",
    "patterns = [\n",
    "    \"**/species*abund*.tsv\",\n",
    "    \"**/species*abund*.csv\",\n",
    "    \"**/*relative*abund*.tsv\",\n",
    "]\n",
    "\n",
    "hits = []\n",
    "for pat in patterns:\n",
    "    hits.extend(glob.glob(os.path.join(root, pat), recursive=True))\n",
    "\n",
    "print(\"\\n\".join(textwrap.shorten(p, width=120) for p in hits) or \"Nothing matching those patterns was found.\")\n"
   ]
  },
  {
   "cell_type": "code",
   "execution_count": null,
   "id": "6d835f85-664b-4063-8b8b-cec5891b2b40",
   "metadata": {
    "tags": []
   },
   "outputs": [],
   "source": [
    "import os, sys, pathlib, platform\n",
    "print(\"Python\", sys.version)\n",
    "print(\"Platform:\", platform.platform())\n",
    "print(\"Notebook is running in:\", pathlib.Path.cwd())\n"
   ]
  },
  {
   "cell_type": "code",
   "execution_count": null,
   "id": "bc1e461b-1496-4e1a-8138-645f4b50511a",
   "metadata": {
    "tags": []
   },
   "outputs": [],
   "source": [
    "# coverage search\n",
    "coverage_patterns = [\n",
    "    \"**/*coverm*tsv\",\n",
    "    \"**/*coverage*.tsv\",\n",
    "    \"**/*depth*.txt\",\n",
    "    \"**/*abundance_mag*.tsv\",\n",
    "]\n",
    "cov_hits = []\n",
    "for pat in coverage_patterns:\n",
    "    cov_hits += glob.glob(os.path.join(\"/home/jovyan\", pat), recursive=True)\n",
    "\n",
    "print(\"Coverage hits:\", len(cov_hits))\n",
    "for p in cov_hits[:20]:\n",
    "    print(\"   \", textwrap.shorten(p, width=120))\n",
    "\n",
    "# taxonomy search\n",
    "tax_hits = glob.glob(os.path.join(\"/home/jovyan\", \"**/*gtdb*tax*.tsv\"), recursive=True)\n",
    "print(\"\\nGTDB hits:\", len(tax_hits))\n",
    "for p in tax_hits:\n",
    "    print(\"   \", textwrap.shorten(p, width=120))\n"
   ]
  },
  {
   "cell_type": "code",
   "execution_count": 1,
   "id": "9cde72cb-31c5-4e21-ac02-acbccf7109f6",
   "metadata": {
    "tags": []
   },
   "outputs": [
    {
     "ename": "FileNotFoundError",
     "evalue": "[Errno 2] No such file or directory: '/home/jovyan/gtdbtk_out/gtdbtk.bac120.summary.tsv'",
     "output_type": "error",
     "traceback": [
      "\u001b[31m---------------------------------------------------------------------------\u001b[39m",
      "\u001b[31mFileNotFoundError\u001b[39m                         Traceback (most recent call last)",
      "\u001b[36mCell\u001b[39m\u001b[36m \u001b[39m\u001b[32mIn[1]\u001b[39m\u001b[32m, line 19\u001b[39m\n\u001b[32m     14\u001b[39m df.rename(columns={mag_col: \u001b[33m\"\u001b[39m\u001b[33mMAG\u001b[39m\u001b[33m\"\u001b[39m,\n\u001b[32m     15\u001b[39m                    oesophagus_col: \u001b[33m\"\u001b[39m\u001b[33moesophagus_abund\u001b[39m\u001b[33m\"\u001b[39m,\n\u001b[32m     16\u001b[39m                    oral_col: \u001b[33m\"\u001b[39m\u001b[33moral_abund\u001b[39m\u001b[33m\"\u001b[39m}, inplace=\u001b[38;5;28;01mTrue\u001b[39;00m)\n\u001b[32m     18\u001b[39m \u001b[38;5;66;03m# 2. load GTDB taxonomy → species name\u001b[39;00m\n\u001b[32m---> \u001b[39m\u001b[32m19\u001b[39m tax = \u001b[43mpd\u001b[49m\u001b[43m.\u001b[49m\u001b[43mread_csv\u001b[49m\u001b[43m(\u001b[49m\u001b[43mtaxonomy_file\u001b[49m\u001b[43m,\u001b[49m\u001b[43m \u001b[49m\u001b[43msep\u001b[49m\u001b[43m=\u001b[49m\u001b[33;43m\"\u001b[39;49m\u001b[38;5;130;43;01m\\t\u001b[39;49;00m\u001b[33;43m\"\u001b[39;49m\u001b[43m,\u001b[49m\n\u001b[32m     20\u001b[39m \u001b[43m                  \u001b[49m\u001b[43musecols\u001b[49m\u001b[43m=\u001b[49m\u001b[43m[\u001b[49m\u001b[33;43m\"\u001b[39;49m\u001b[33;43muser_genome\u001b[39;49m\u001b[33;43m\"\u001b[39;49m\u001b[43m,\u001b[49m\u001b[43m \u001b[49m\u001b[33;43m\"\u001b[39;49m\u001b[33;43mclassification\u001b[39;49m\u001b[33;43m\"\u001b[39;49m\u001b[43m]\u001b[49m\u001b[43m)\u001b[49m\n\u001b[32m     21\u001b[39m tax[\u001b[33m\"\u001b[39m\u001b[33mspecies\u001b[39m\u001b[33m\"\u001b[39m] = tax[\u001b[33m\"\u001b[39m\u001b[33mclassification\u001b[39m\u001b[33m\"\u001b[39m].str.extract(\u001b[33mr\u001b[39m\u001b[33m\"\u001b[39m\u001b[33ms__([^;]+)$\u001b[39m\u001b[33m\"\u001b[39m)\n\u001b[32m     23\u001b[39m \u001b[38;5;66;03m# 3. merge and collapse MAGs → species\u001b[39;00m\n",
      "\u001b[36mFile \u001b[39m\u001b[32m~/my_prokka_env/lib/python3.13/site-packages/pandas/io/parsers/readers.py:1026\u001b[39m, in \u001b[36mread_csv\u001b[39m\u001b[34m(filepath_or_buffer, sep, delimiter, header, names, index_col, usecols, dtype, engine, converters, true_values, false_values, skipinitialspace, skiprows, skipfooter, nrows, na_values, keep_default_na, na_filter, verbose, skip_blank_lines, parse_dates, infer_datetime_format, keep_date_col, date_parser, date_format, dayfirst, cache_dates, iterator, chunksize, compression, thousands, decimal, lineterminator, quotechar, quoting, doublequote, escapechar, comment, encoding, encoding_errors, dialect, on_bad_lines, delim_whitespace, low_memory, memory_map, float_precision, storage_options, dtype_backend)\u001b[39m\n\u001b[32m   1013\u001b[39m kwds_defaults = _refine_defaults_read(\n\u001b[32m   1014\u001b[39m     dialect,\n\u001b[32m   1015\u001b[39m     delimiter,\n\u001b[32m   (...)\u001b[39m\u001b[32m   1022\u001b[39m     dtype_backend=dtype_backend,\n\u001b[32m   1023\u001b[39m )\n\u001b[32m   1024\u001b[39m kwds.update(kwds_defaults)\n\u001b[32m-> \u001b[39m\u001b[32m1026\u001b[39m \u001b[38;5;28;01mreturn\u001b[39;00m \u001b[43m_read\u001b[49m\u001b[43m(\u001b[49m\u001b[43mfilepath_or_buffer\u001b[49m\u001b[43m,\u001b[49m\u001b[43m \u001b[49m\u001b[43mkwds\u001b[49m\u001b[43m)\u001b[49m\n",
      "\u001b[36mFile \u001b[39m\u001b[32m~/my_prokka_env/lib/python3.13/site-packages/pandas/io/parsers/readers.py:620\u001b[39m, in \u001b[36m_read\u001b[39m\u001b[34m(filepath_or_buffer, kwds)\u001b[39m\n\u001b[32m    617\u001b[39m _validate_names(kwds.get(\u001b[33m\"\u001b[39m\u001b[33mnames\u001b[39m\u001b[33m\"\u001b[39m, \u001b[38;5;28;01mNone\u001b[39;00m))\n\u001b[32m    619\u001b[39m \u001b[38;5;66;03m# Create the parser.\u001b[39;00m\n\u001b[32m--> \u001b[39m\u001b[32m620\u001b[39m parser = \u001b[43mTextFileReader\u001b[49m\u001b[43m(\u001b[49m\u001b[43mfilepath_or_buffer\u001b[49m\u001b[43m,\u001b[49m\u001b[43m \u001b[49m\u001b[43m*\u001b[49m\u001b[43m*\u001b[49m\u001b[43mkwds\u001b[49m\u001b[43m)\u001b[49m\n\u001b[32m    622\u001b[39m \u001b[38;5;28;01mif\u001b[39;00m chunksize \u001b[38;5;129;01mor\u001b[39;00m iterator:\n\u001b[32m    623\u001b[39m     \u001b[38;5;28;01mreturn\u001b[39;00m parser\n",
      "\u001b[36mFile \u001b[39m\u001b[32m~/my_prokka_env/lib/python3.13/site-packages/pandas/io/parsers/readers.py:1620\u001b[39m, in \u001b[36mTextFileReader.__init__\u001b[39m\u001b[34m(self, f, engine, **kwds)\u001b[39m\n\u001b[32m   1617\u001b[39m     \u001b[38;5;28mself\u001b[39m.options[\u001b[33m\"\u001b[39m\u001b[33mhas_index_names\u001b[39m\u001b[33m\"\u001b[39m] = kwds[\u001b[33m\"\u001b[39m\u001b[33mhas_index_names\u001b[39m\u001b[33m\"\u001b[39m]\n\u001b[32m   1619\u001b[39m \u001b[38;5;28mself\u001b[39m.handles: IOHandles | \u001b[38;5;28;01mNone\u001b[39;00m = \u001b[38;5;28;01mNone\u001b[39;00m\n\u001b[32m-> \u001b[39m\u001b[32m1620\u001b[39m \u001b[38;5;28mself\u001b[39m._engine = \u001b[38;5;28;43mself\u001b[39;49m\u001b[43m.\u001b[49m\u001b[43m_make_engine\u001b[49m\u001b[43m(\u001b[49m\u001b[43mf\u001b[49m\u001b[43m,\u001b[49m\u001b[43m \u001b[49m\u001b[38;5;28;43mself\u001b[39;49m\u001b[43m.\u001b[49m\u001b[43mengine\u001b[49m\u001b[43m)\u001b[49m\n",
      "\u001b[36mFile \u001b[39m\u001b[32m~/my_prokka_env/lib/python3.13/site-packages/pandas/io/parsers/readers.py:1880\u001b[39m, in \u001b[36mTextFileReader._make_engine\u001b[39m\u001b[34m(self, f, engine)\u001b[39m\n\u001b[32m   1878\u001b[39m     \u001b[38;5;28;01mif\u001b[39;00m \u001b[33m\"\u001b[39m\u001b[33mb\u001b[39m\u001b[33m\"\u001b[39m \u001b[38;5;129;01mnot\u001b[39;00m \u001b[38;5;129;01min\u001b[39;00m mode:\n\u001b[32m   1879\u001b[39m         mode += \u001b[33m\"\u001b[39m\u001b[33mb\u001b[39m\u001b[33m\"\u001b[39m\n\u001b[32m-> \u001b[39m\u001b[32m1880\u001b[39m \u001b[38;5;28mself\u001b[39m.handles = \u001b[43mget_handle\u001b[49m\u001b[43m(\u001b[49m\n\u001b[32m   1881\u001b[39m \u001b[43m    \u001b[49m\u001b[43mf\u001b[49m\u001b[43m,\u001b[49m\n\u001b[32m   1882\u001b[39m \u001b[43m    \u001b[49m\u001b[43mmode\u001b[49m\u001b[43m,\u001b[49m\n\u001b[32m   1883\u001b[39m \u001b[43m    \u001b[49m\u001b[43mencoding\u001b[49m\u001b[43m=\u001b[49m\u001b[38;5;28;43mself\u001b[39;49m\u001b[43m.\u001b[49m\u001b[43moptions\u001b[49m\u001b[43m.\u001b[49m\u001b[43mget\u001b[49m\u001b[43m(\u001b[49m\u001b[33;43m\"\u001b[39;49m\u001b[33;43mencoding\u001b[39;49m\u001b[33;43m\"\u001b[39;49m\u001b[43m,\u001b[49m\u001b[43m \u001b[49m\u001b[38;5;28;43;01mNone\u001b[39;49;00m\u001b[43m)\u001b[49m\u001b[43m,\u001b[49m\n\u001b[32m   1884\u001b[39m \u001b[43m    \u001b[49m\u001b[43mcompression\u001b[49m\u001b[43m=\u001b[49m\u001b[38;5;28;43mself\u001b[39;49m\u001b[43m.\u001b[49m\u001b[43moptions\u001b[49m\u001b[43m.\u001b[49m\u001b[43mget\u001b[49m\u001b[43m(\u001b[49m\u001b[33;43m\"\u001b[39;49m\u001b[33;43mcompression\u001b[39;49m\u001b[33;43m\"\u001b[39;49m\u001b[43m,\u001b[49m\u001b[43m \u001b[49m\u001b[38;5;28;43;01mNone\u001b[39;49;00m\u001b[43m)\u001b[49m\u001b[43m,\u001b[49m\n\u001b[32m   1885\u001b[39m \u001b[43m    \u001b[49m\u001b[43mmemory_map\u001b[49m\u001b[43m=\u001b[49m\u001b[38;5;28;43mself\u001b[39;49m\u001b[43m.\u001b[49m\u001b[43moptions\u001b[49m\u001b[43m.\u001b[49m\u001b[43mget\u001b[49m\u001b[43m(\u001b[49m\u001b[33;43m\"\u001b[39;49m\u001b[33;43mmemory_map\u001b[39;49m\u001b[33;43m\"\u001b[39;49m\u001b[43m,\u001b[49m\u001b[43m \u001b[49m\u001b[38;5;28;43;01mFalse\u001b[39;49;00m\u001b[43m)\u001b[49m\u001b[43m,\u001b[49m\n\u001b[32m   1886\u001b[39m \u001b[43m    \u001b[49m\u001b[43mis_text\u001b[49m\u001b[43m=\u001b[49m\u001b[43mis_text\u001b[49m\u001b[43m,\u001b[49m\n\u001b[32m   1887\u001b[39m \u001b[43m    \u001b[49m\u001b[43merrors\u001b[49m\u001b[43m=\u001b[49m\u001b[38;5;28;43mself\u001b[39;49m\u001b[43m.\u001b[49m\u001b[43moptions\u001b[49m\u001b[43m.\u001b[49m\u001b[43mget\u001b[49m\u001b[43m(\u001b[49m\u001b[33;43m\"\u001b[39;49m\u001b[33;43mencoding_errors\u001b[39;49m\u001b[33;43m\"\u001b[39;49m\u001b[43m,\u001b[49m\u001b[43m \u001b[49m\u001b[33;43m\"\u001b[39;49m\u001b[33;43mstrict\u001b[39;49m\u001b[33;43m\"\u001b[39;49m\u001b[43m)\u001b[49m\u001b[43m,\u001b[49m\n\u001b[32m   1888\u001b[39m \u001b[43m    \u001b[49m\u001b[43mstorage_options\u001b[49m\u001b[43m=\u001b[49m\u001b[38;5;28;43mself\u001b[39;49m\u001b[43m.\u001b[49m\u001b[43moptions\u001b[49m\u001b[43m.\u001b[49m\u001b[43mget\u001b[49m\u001b[43m(\u001b[49m\u001b[33;43m\"\u001b[39;49m\u001b[33;43mstorage_options\u001b[39;49m\u001b[33;43m\"\u001b[39;49m\u001b[43m,\u001b[49m\u001b[43m \u001b[49m\u001b[38;5;28;43;01mNone\u001b[39;49;00m\u001b[43m)\u001b[49m\u001b[43m,\u001b[49m\n\u001b[32m   1889\u001b[39m \u001b[43m\u001b[49m\u001b[43m)\u001b[49m\n\u001b[32m   1890\u001b[39m \u001b[38;5;28;01massert\u001b[39;00m \u001b[38;5;28mself\u001b[39m.handles \u001b[38;5;129;01mis\u001b[39;00m \u001b[38;5;129;01mnot\u001b[39;00m \u001b[38;5;28;01mNone\u001b[39;00m\n\u001b[32m   1891\u001b[39m f = \u001b[38;5;28mself\u001b[39m.handles.handle\n",
      "\u001b[36mFile \u001b[39m\u001b[32m~/my_prokka_env/lib/python3.13/site-packages/pandas/io/common.py:873\u001b[39m, in \u001b[36mget_handle\u001b[39m\u001b[34m(path_or_buf, mode, encoding, compression, memory_map, is_text, errors, storage_options)\u001b[39m\n\u001b[32m    868\u001b[39m \u001b[38;5;28;01melif\u001b[39;00m \u001b[38;5;28misinstance\u001b[39m(handle, \u001b[38;5;28mstr\u001b[39m):\n\u001b[32m    869\u001b[39m     \u001b[38;5;66;03m# Check whether the filename is to be opened in binary mode.\u001b[39;00m\n\u001b[32m    870\u001b[39m     \u001b[38;5;66;03m# Binary mode does not support 'encoding' and 'newline'.\u001b[39;00m\n\u001b[32m    871\u001b[39m     \u001b[38;5;28;01mif\u001b[39;00m ioargs.encoding \u001b[38;5;129;01mand\u001b[39;00m \u001b[33m\"\u001b[39m\u001b[33mb\u001b[39m\u001b[33m\"\u001b[39m \u001b[38;5;129;01mnot\u001b[39;00m \u001b[38;5;129;01min\u001b[39;00m ioargs.mode:\n\u001b[32m    872\u001b[39m         \u001b[38;5;66;03m# Encoding\u001b[39;00m\n\u001b[32m--> \u001b[39m\u001b[32m873\u001b[39m         handle = \u001b[38;5;28;43mopen\u001b[39;49m\u001b[43m(\u001b[49m\n\u001b[32m    874\u001b[39m \u001b[43m            \u001b[49m\u001b[43mhandle\u001b[49m\u001b[43m,\u001b[49m\n\u001b[32m    875\u001b[39m \u001b[43m            \u001b[49m\u001b[43mioargs\u001b[49m\u001b[43m.\u001b[49m\u001b[43mmode\u001b[49m\u001b[43m,\u001b[49m\n\u001b[32m    876\u001b[39m \u001b[43m            \u001b[49m\u001b[43mencoding\u001b[49m\u001b[43m=\u001b[49m\u001b[43mioargs\u001b[49m\u001b[43m.\u001b[49m\u001b[43mencoding\u001b[49m\u001b[43m,\u001b[49m\n\u001b[32m    877\u001b[39m \u001b[43m            \u001b[49m\u001b[43merrors\u001b[49m\u001b[43m=\u001b[49m\u001b[43merrors\u001b[49m\u001b[43m,\u001b[49m\n\u001b[32m    878\u001b[39m \u001b[43m            \u001b[49m\u001b[43mnewline\u001b[49m\u001b[43m=\u001b[49m\u001b[33;43m\"\u001b[39;49m\u001b[33;43m\"\u001b[39;49m\u001b[43m,\u001b[49m\n\u001b[32m    879\u001b[39m \u001b[43m        \u001b[49m\u001b[43m)\u001b[49m\n\u001b[32m    880\u001b[39m     \u001b[38;5;28;01melse\u001b[39;00m:\n\u001b[32m    881\u001b[39m         \u001b[38;5;66;03m# Binary mode\u001b[39;00m\n\u001b[32m    882\u001b[39m         handle = \u001b[38;5;28mopen\u001b[39m(handle, ioargs.mode)\n",
      "\u001b[31mFileNotFoundError\u001b[39m: [Errno 2] No such file or directory: '/home/jovyan/gtdbtk_out/gtdbtk.bac120.summary.tsv'"
     ]
    }
   ],
   "source": [
    "# ───────────────────────────  CONFIG  ────────────────────────────\n",
    "coverage_file  = \"/home/jovyan/orf_counts_per_MAG.tsv\"           # MAG-level table\n",
    "taxonomy_file  = \"/home/jovyan/gtdbtk_out/gtdbtk.bac120.summary.tsv\"\n",
    "# Rename these two if the column headers in the coverage file differ\n",
    "oesophagus_col = \"oesophagus\"    # ← column holding counts for oesophagus habitat\n",
    "oral_col       = \"oral\"          # ← column holding counts for oral/HOMD habitat\n",
    "# ──────────────────────────────────────────────────────────────────\n",
    "\n",
    "import pandas as pd, matplotlib.pyplot as plt, pathlib\n",
    "\n",
    "# 1. load MAG-level counts\n",
    "df = pd.read_csv(coverage_file, sep=\"\\t\")\n",
    "mag_col = df.columns[0]                                 # first column is MAG ID\n",
    "df.rename(columns={mag_col: \"MAG\",\n",
    "                   oesophagus_col: \"oesophagus_abund\",\n",
    "                   oral_col: \"oral_abund\"}, inplace=True)\n",
    "\n",
    "# 2. load GTDB taxonomy → species name\n",
    "tax = pd.read_csv(taxonomy_file, sep=\"\\t\",\n",
    "                  usecols=[\"user_genome\", \"classification\"])\n",
    "tax[\"species\"] = tax[\"classification\"].str.extract(r\"s__([^;]+)$\")\n",
    "\n",
    "# 3. merge and collapse MAGs → species\n",
    "merged = df.merge(tax, left_on=\"MAG\", right_on=\"user_genome\", how=\"left\")\n",
    "species_cov = (merged\n",
    "               .groupby(\"species\", as_index=False)[[\"oesophagus_abund\", \"oral_abund\"]]\n",
    "               .sum())\n",
    "\n",
    "# 4. convert to relative abundance per habitat\n",
    "species_cov[[\"oesophagus_abund\", \"oral_abund\"]] = (\n",
    "    species_cov[[\"oesophagus_abund\", \"oral_abund\"]]\n",
    "    .div(species_cov[[\"oesophagus_abund\", \"oral_abund\"]].sum())\n",
    ")\n",
    "\n",
    "# 5. pick top-20 species by mean abundance\n",
    "species_cov[\"mean\"] = species_cov[[\"oesophagus_abund\", \"oral_abund\"]].mean(axis=1)\n",
    "top20 = species_cov.nlargest(20, \"mean\").drop(columns=\"mean\")\n",
    "\n",
    "# 6. plot stacked bar (journal width 90 mm ≈ 3.54 in)\n",
    "fig_w, fig_h = 3.54, 2.5\n",
    "top20.set_index(\"species\")[[\"oesophagus_abund\", \"oral_abund\"]].T.plot(\n",
    "        kind=\"bar\", stacked=True, figsize=(fig_w, fig_h), width=0.8, legend=None)\n",
    "plt.ylabel(\"Relative abundance\")\n",
    "plt.xticks(rotation=0)\n",
    "plt.tight_layout()\n",
    "\n",
    "out_base = pathlib.Path(\"fig3_1B_top20_species\")\n",
    "plt.savefig(out_base.with_suffix(\".pdf\"))\n",
    "plt.savefig(out_base.with_suffix(\".svg\"))\n",
    "plt.close()\n",
    "print(\"✓ Figure saved as\", out_base.with_suffix(\".pdf\"), \"and .svg\")\n",
    "\n",
    "# 7. presence/absence matrix for Figure 3 · 2\n",
    "presence = (species_cov[[\"oesophagus_abund\", \"oral_abund\"]] > 0).astype(int)\n",
    "presence.columns = [\"in_oesophagus\", \"in_oral\"]\n",
    "presence.insert(0, \"species\", species_cov[\"species\"])\n",
    "presence.to_csv(\"fig3_2_presence_absence.tsv\", sep=\"\\t\", index=False)\n",
    "print(\"✓ Presence/absence table → fig3_2_presence_absence.tsv\")\n"
   ]
  },
  {
   "cell_type": "code",
   "execution_count": 2,
   "id": "5a23f36d-b0e4-4b3b-b66b-170a3d6c259a",
   "metadata": {
    "tags": []
   },
   "outputs": [
    {
     "name": "stdout",
     "output_type": "stream",
     "text": [
      "🔎  Column names in coverage file: genome, orf_count\n"
     ]
    },
    {
     "ename": "ValueError",
     "evalue": "Update oesophagus_col / oral_col above and re-run",
     "output_type": "error",
     "traceback": [
      "\u001b[31m---------------------------------------------------------------------------\u001b[39m",
      "\u001b[31mValueError\u001b[39m                                Traceback (most recent call last)",
      "\u001b[36mCell\u001b[39m\u001b[36m \u001b[39m\u001b[32mIn[2]\u001b[39m\u001b[32m, line 17\u001b[39m\n\u001b[32m     14\u001b[39m \u001b[38;5;28;01mif\u001b[39;00m oesophagus_col \u001b[38;5;129;01mnot\u001b[39;00m \u001b[38;5;129;01min\u001b[39;00m pd.read_csv(coverage_file, sep=\u001b[33m\"\u001b[39m\u001b[38;5;130;01m\\t\u001b[39;00m\u001b[33m\"\u001b[39m, nrows=\u001b[32m0\u001b[39m).columns:\n\u001b[32m     15\u001b[39m     \u001b[38;5;28mprint\u001b[39m(\u001b[33m\"\u001b[39m\u001b[33m🔎  Column names in coverage file:\u001b[39m\u001b[33m\"\u001b[39m,\n\u001b[32m     16\u001b[39m           textwrap.shorten(\u001b[33m\"\u001b[39m\u001b[33m, \u001b[39m\u001b[33m\"\u001b[39m.join(pd.read_csv(coverage_file, sep=\u001b[33m'\u001b[39m\u001b[38;5;130;01m\\t\u001b[39;00m\u001b[33m'\u001b[39m, nrows=\u001b[32m0\u001b[39m).columns), width=\u001b[32m120\u001b[39m))\n\u001b[32m---> \u001b[39m\u001b[32m17\u001b[39m     \u001b[38;5;28;01mraise\u001b[39;00m \u001b[38;5;167;01mValueError\u001b[39;00m(\u001b[33m\"\u001b[39m\u001b[33mUpdate oesophagus_col / oral_col above and re-run\u001b[39m\u001b[33m\"\u001b[39m)\n\u001b[32m     19\u001b[39m \u001b[38;5;66;03m# 1. load MAG-level counts\u001b[39;00m\n\u001b[32m     20\u001b[39m df = pd.read_csv(coverage_file, sep=\u001b[33m\"\u001b[39m\u001b[38;5;130;01m\\t\u001b[39;00m\u001b[33m\"\u001b[39m)\n",
      "\u001b[31mValueError\u001b[39m: Update oesophagus_col / oral_col above and re-run"
     ]
    }
   ],
   "source": [
    "# ───────────────────────────  CONFIG  ────────────────────────────\n",
    "coverage_file  = \"/home/jovyan/orf_counts_per_MAG.tsv\"   # MAG-level table\n",
    "taxonomy_file  = None                                   # ← leave as None\n",
    "                                                    #    (no GTDB summary available)\n",
    "# If the coverage file’s habitat columns are named differently,\n",
    "# list them here exactly as they appear in the header:\n",
    "oesophagus_col = \"oesophagus\"\n",
    "oral_col       = \"oral\"\n",
    "# ──────────────────────────────────────────────────────────────────\n",
    "\n",
    "import pandas as pd, matplotlib.pyplot as plt, pathlib, os, textwrap\n",
    "\n",
    "# 0. peek at the header if you are unsure of column names\n",
    "if oesophagus_col not in pd.read_csv(coverage_file, sep=\"\\t\", nrows=0).columns:\n",
    "    print(\"🔎  Column names in coverage file:\",\n",
    "          textwrap.shorten(\", \".join(pd.read_csv(coverage_file, sep='\\t', nrows=0).columns), width=120))\n",
    "    raise ValueError(\"Update oesophagus_col / oral_col above and re-run\")\n",
    "\n",
    "# 1. load MAG-level counts\n",
    "df = pd.read_csv(coverage_file, sep=\"\\t\")\n",
    "mag_col = df.columns[0]   # first column assumed to hold MAG IDs\n",
    "df.rename(columns={mag_col        : \"MAG\",\n",
    "                   oesophagus_col : \"oesophagus_abund\",\n",
    "                   oral_col       : \"oral_abund\"}, inplace=True)\n",
    "\n",
    "# 2. if a taxonomy file exists, merge to species names\n",
    "if taxonomy_file and os.path.exists(taxonomy_file):\n",
    "    tax = pd.read_csv(taxonomy_file, sep=\"\\t\",\n",
    "                      usecols=[\"user_genome\", \"classification\"])\n",
    "    tax[\"species\"] = tax[\"classification\"].str.extract(r\"s__([^;]+)$\")\n",
    "    merged = df.merge(tax, left_on=\"MAG\", right_on=\"user_genome\", how=\"left\")\n",
    "    merged[\"species\"].fillna(merged[\"MAG\"], inplace=True)\n",
    "else:\n",
    "    print(\"⚠️  No taxonomy file – using MAG IDs as species labels.\")\n",
    "    merged = df.copy()\n",
    "    merged[\"species\"] = merged[\"MAG\"]\n",
    "\n",
    "# 3. collapse MAGs → species\n",
    "species_cov = (\n",
    "    merged\n",
    "    .groupby(\"species\", as_index=False)[[\"oesophagus_abund\", \"oral_abund\"]]\n",
    "    .sum()\n",
    ")\n",
    "\n",
    "# 4. convert to relative abundance\n",
    "species_cov[[\"oesophagus_abund\", \"oral_abund\"]] = (\n",
    "    species_cov[[\"oesophagus_abund\", \"oral_abund\"]]\n",
    "    .div(species_cov[[\"oesophagus_abund\", \"oral_abund\"]].sum())\n",
    ")\n",
    "\n",
    "# 5. take top-20 species overall\n",
    "species_cov[\"mean\"] = species_cov[[\"oesophagus_abund\", \"oral_abund\"]].mean(axis=1)\n",
    "top20 = species_cov.nlargest(20, \"mean\").drop(columns=\"mean\")\n",
    "\n",
    "# 6. plot stacked bar (90 mm ≈ 3.54 in)\n",
    "fig_w, fig_h = 3.54, 2.5\n",
    "top20.set_index(\"species\")[[\"oesophagus_abund\", \"oral_abund\"]].T.plot(\n",
    "    kind=\"bar\", stacked=True, figsize=(fig_w, fig_h), width=0.8, legend=None)\n",
    "plt.ylabel(\"Relative abundance\")\n",
    "plt.xticks(rotation=0)\n",
    "plt.tight_layout()\n",
    "\n",
    "out_base = pathlib.Path(\"fig3_1B_top20_species\")\n",
    "plt.savefig(out_base.with_suffix(\".pdf\"))\n",
    "plt.savefig(out_base.with_suffix(\".svg\"))\n",
    "plt.close()\n",
    "print(\"✓ Figure saved as\", out_base.with_suffix(\".pdf\"), \"and .svg\")\n",
    "\n",
    "# 7. presence/absence table for Figure 3·2\n",
    "presence = (species_cov[[\"oesophagus_abund\", \"oral_abund\"]] > 0).astype(int)\n",
    "presence.columns = [\"in_oesophagus\", \"in_oral\"]\n",
    "presence.insert(0, \"species\", species_cov[\"species\"])\n",
    "presence.to_csv(\"fig3_2_presence_absence.tsv\", sep=\"\\t\", index=False)\n",
    "print(\"✓ Presence/absence table → fig3_2_presence_absence.tsv\")\n"
   ]
  },
  {
   "cell_type": "code",
   "execution_count": 3,
   "id": "e7e5ef2f-d914-46cc-abc6-b07c23fd3ea6",
   "metadata": {
    "tags": []
   },
   "outputs": [
    {
     "name": "stdout",
     "output_type": "stream",
     "text": [
      "Columns: genome, orf_count\n"
     ]
    }
   ],
   "source": [
    "import pandas as pd, textwrap\n",
    "hdr = pd.read_csv(\"/home/jovyan/orf_counts_per_MAG.tsv\", sep=\"\\t\", nrows=0).columns\n",
    "print(\"Columns:\", textwrap.fill(\", \".join(hdr), width=120))\n"
   ]
  },
  {
   "cell_type": "code",
   "execution_count": 4,
   "id": "b36ee497-ff2d-4945-b621-00a66c7701a9",
   "metadata": {
    "tags": []
   },
   "outputs": [
    {
     "name": "stdout",
     "output_type": "stream",
     "text": [
      "  File \u001b[35m\"<stdin>\"\u001b[0m, line \u001b[35m1\u001b[0m\n",
      "    \u001b[1;31m404\u001b[0m: Not Found\n",
      "    \u001b[1;31m^^^\u001b[0m\n",
      "\u001b[1;35mSyntaxError\u001b[0m: \u001b[35millegal target for annotation\u001b[0m\n"
     ]
    }
   ],
   "source": [
    "!curl -s https://gist.githubusercontent.com/pallen-examples/46c362b/raw/plot_top20.py | python - species_abundances.tsv\n"
   ]
  },
  {
   "cell_type": "code",
   "execution_count": 5,
   "id": "d2215a6b-63e2-43c0-a938-dc6b6ecc7fff",
   "metadata": {
    "tags": []
   },
   "outputs": [
    {
     "name": "stdout",
     "output_type": "stream",
     "text": [
      "✓ Saved: fig3_1B_top20_species.pdf and .svg\n",
      "✓ Presence/absence → fig3_2_presence_absence.tsv\n"
     ]
    }
   ],
   "source": [
    "# ─────────────────── TOP-20 STACKED BAR (Fig 3·1 B) ───────────────────\n",
    "# Edit the three blue lists ↓ to contain your 20 MAG IDs and abundances.\n",
    "species            = [\"MAG_001\",\"MAG_002\",\"MAG_003\",\"MAG_004\",\"MAG_005\",\n",
    "                      \"MAG_006\",\"MAG_007\",\"MAG_008\",\"MAG_009\",\"MAG_010\",\n",
    "                      \"MAG_011\",\"MAG_012\",\"MAG_013\",\"MAG_014\",\"MAG_015\",\n",
    "                      \"MAG_016\",\"MAG_017\",\"MAG_018\",\"MAG_019\",\"MAG_020\"]\n",
    "\n",
    "oesophagus_abund   = [0.12,0.10,0.09,0.08,0.07,\n",
    "                      0.06,0.05,0.04,0.03,0.02,\n",
    "                      0.02,0.02,0.02,0.02,0.02,\n",
    "                      0.02,0.02,0.02,0.02,0.02]\n",
    "\n",
    "oral_abund         = [0.03,0.05,0.01,0.02,0.08,\n",
    "                      0.07,0.06,0.05,0.04,0.03,\n",
    "                      0.02,0.02,0.02,0.02,0.02,\n",
    "                      0.02,0.02,0.02,0.02,0.02]\n",
    "# ──────────────────────────────────────────────────────────────────────\n",
    "import pandas as pd, matplotlib.pyplot as plt, pathlib\n",
    "\n",
    "# Build DataFrame\n",
    "df = pd.DataFrame(\n",
    "    {\"species\": species,\n",
    "     \"oesophagus_abund\": oesophagus_abund,\n",
    "     \"oral_abund\": oral_abund}\n",
    ")\n",
    "\n",
    "# Normalise so each habitat sums to 1 (just in case)\n",
    "df[[\"oesophagus_abund\",\"oral_abund\"]] = (\n",
    "    df[[\"oesophagus_abund\",\"oral_abund\"]]\n",
    "    .div(df[[\"oesophagus_abund\",\"oral_abund\"]].sum())\n",
    ")\n",
    "\n",
    "# Plot (journal width 90 mm ≈ 3.54 in)\n",
    "fig_w, fig_h = 3.54, 2.5\n",
    "df.set_index(\"species\")[[\"oesophagus_abund\",\"oral_abund\"]].T.plot(\n",
    "    kind=\"bar\", stacked=True, figsize=(fig_w, fig_h), width=0.8, legend=None\n",
    ")\n",
    "plt.ylabel(\"Relative abundance\")\n",
    "plt.xticks(rotation=0)\n",
    "plt.tight_layout()\n",
    "\n",
    "# Save outputs\n",
    "out_base = pathlib.Path(\"fig3_1B_top20_species\")\n",
    "plt.savefig(out_base.with_suffix(\".pdf\"))\n",
    "plt.savefig(out_base.with_suffix(\".svg\"))\n",
    "plt.close()\n",
    "print(\"✓ Saved:\", out_base.with_suffix('.pdf'), \"and .svg\")\n",
    "\n",
    "# Presence/absence table for Fig 3·2\n",
    "presence = (df[[\"oesophagus_abund\",\"oral_abund\"]] > 0).astype(int)\n",
    "presence.columns = [\"in_oesophagus\",\"in_oral\"]\n",
    "presence.insert(0,\"species\",df[\"species\"])\n",
    "presence.to_csv(\"fig3_2_presence_absence.tsv\", sep=\"\\t\", index=False)\n",
    "print(\"✓ Presence/absence → fig3_2_presence_absence.tsv\")\n"
   ]
  },
  {
   "cell_type": "code",
   "execution_count": 1,
   "id": "fc4c4710-703f-4b29-a46e-9e638eeedf6c",
   "metadata": {},
   "outputs": [
    {
     "ename": "SyntaxError",
     "evalue": "invalid syntax (3415515104.py, line 1)",
     "output_type": "error",
     "traceback": [
      "  \u001b[36mCell\u001b[39m\u001b[36m \u001b[39m\u001b[32mIn[1]\u001b[39m\u001b[32m, line 1\u001b[39m\n\u001b[31m    \u001b[39m\u001b[31mconda activate cpr_analysis\u001b[39m\n          ^\n\u001b[31mSyntaxError\u001b[39m\u001b[31m:\u001b[39m invalid syntax\n"
     ]
    }
   ],
   "source": [
    "conda activate cpr_analysis\n",
    "python - <<'PY'\n",
    "import sys; print(\"Python\", sys.version.split()[0])\n",
    "for lib in (\"pandas\",\"numpy\",\"matplotlib\",\"seaborn\",\"scipy\",\"skbio\",\"biopython\"):\n",
    "    try: print(lib, __import__(lib).__version__)\n",
    "    except ImportError: print(lib, \"not installed\")\n",
    "PY\n"
   ]
  },
  {
   "cell_type": "code",
   "execution_count": null,
   "id": "49ad9ae2-be31-4720-aacd-52521aa18f35",
   "metadata": {},
   "outputs": [],
   "source": []
  }
 ],
 "metadata": {
  "kernelspec": {
   "display_name": "Python [conda env:my_prokka_env]",
   "language": "python",
   "name": "conda-env-my_prokka_env-py"
  },
  "language_info": {
   "codemirror_mode": {
    "name": "ipython",
    "version": 3
   },
   "file_extension": ".py",
   "mimetype": "text/x-python",
   "name": "python",
   "nbconvert_exporter": "python",
   "pygments_lexer": "ipython3",
   "version": "3.13.2"
  }
 },
 "nbformat": 4,
 "nbformat_minor": 5
}
