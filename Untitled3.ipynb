{
 "cells": [
  {
   "cell_type": "code",
   "execution_count": 1,
   "id": "3bb22cb1-9f05-4f41-ba10-b59b82c8ca11",
   "metadata": {
    "tags": []
   },
   "outputs": [
    {
     "name": "stdout",
     "output_type": "stream",
     "text": [
      "Python 3.13.2 | packaged by conda-forge | (main, Feb 17 2025, 14:10:22) [GCC 13.3.0]\n",
      "Platform: Linux-5.15.0-1077-kvm-x86_64-with-glibc2.35\n",
      "Notebook is running in: /home/jovyan\n"
     ]
    }
   ],
   "source": [
    "import os, sys, pathlib, platform\n",
    "print(\"Python\", sys.version)\n",
    "print(\"Platform:\", platform.platform())\n",
    "print(\"Notebook is running in:\", pathlib.Path.cwd())\n"
   ]
  },
  {
   "cell_type": "code",
   "execution_count": 2,
   "id": "3cc7a731-900c-48ad-8c16-bcfe10472bf7",
   "metadata": {
    "tags": []
   },
   "outputs": [
    {
     "name": "stdout",
     "output_type": "stream",
     "text": [
      "\n",
      "📂  Contents of /home/jovyan:\n",
      "    .bash_history\n",
      "    .bash_history-00319.tmp\n",
      "    .bashrc\n",
      "    .cache\n",
      "    .conda\n",
      "    .condarc\n",
      "    .config\n",
      "    .ipynb_checkpoints\n",
      "    .ipython\n",
      "    .jupyter\n",
      "    .local\n",
      "    .parallel\n",
      "    .s3cfg\n",
      "    .wget-hsts\n",
      "    .~my_config.yaml\n",
      "    CPR_MAGs_master\n",
      "    CPR_Microbiome_Analysis\n",
      "    CheckM.ipynb\n",
      "    DRAM\n",
      "    DRAM_ANALYSIS\n",
      "    DRAM_data\n",
      "    DRAMoutputsript.ipynb\n",
      "    MAGs\n",
      "    MAGsprokkaScript.ipynb\n",
      "    Microbiome\n",
      "    R\n",
      "    Untitled.ipynb\n",
      "    Untitled1.ipynb\n",
      "    Untitled2.ipynb\n",
      "    Untitled3.ipynb\n",
      "    acmi-5-558.v3-s001.xls\n",
      "    checkm_data\n",
      "    checkm_summary.tsvn\n",
      "    checkm_summary.txtncheckm\n",
      "    checkmsummeryscript.ipynb\n",
      "    env_checks.py\n",
      "    env_checks.py.save\n",
      "    environment.yaml\n",
      "    fig2-1_checkm_quality.png\n",
      "    haem_vs_cyt.tsv\n",
      "    interproscan script.ipynb\n",
      "    my_prokka_env\n",
      "    orf_counts_per_MAG.tsv\n",
      "    phylophlan_medium.cfg\n",
      "    phylophlan_out\n",
      "    projects\n",
      "    run_dram_prokka.sh\n",
      "    run_dram_prokka_debug.sh\n",
      "    run_emapper.sh\n",
      "    shared-team\n",
      "    tmp\n",
      "    top20_legend.tsv\n",
      "\n",
      "📂  Contents of /shared:\n",
      "    public\n",
      "    team\n",
      "\n",
      "📂  Contents of /home/jovyan:\n",
      "    .bash_history\n",
      "    .bash_history-00319.tmp\n",
      "    .bashrc\n",
      "    .cache\n",
      "    .conda\n",
      "    .condarc\n",
      "    .config\n",
      "    .ipynb_checkpoints\n",
      "    .ipython\n",
      "    .jupyter\n",
      "    .local\n",
      "    .parallel\n",
      "    .s3cfg\n",
      "    .wget-hsts\n",
      "    .~my_config.yaml\n",
      "    CPR_MAGs_master\n",
      "    CPR_Microbiome_Analysis\n",
      "    CheckM.ipynb\n",
      "    DRAM\n",
      "    DRAM_ANALYSIS\n",
      "    DRAM_data\n",
      "    DRAMoutputsript.ipynb\n",
      "    MAGs\n",
      "    MAGsprokkaScript.ipynb\n",
      "    Microbiome\n",
      "    R\n",
      "    Untitled.ipynb\n",
      "    Untitled1.ipynb\n",
      "    Untitled2.ipynb\n",
      "    Untitled3.ipynb\n",
      "    acmi-5-558.v3-s001.xls\n",
      "    checkm_data\n",
      "    checkm_summary.tsvn\n",
      "    checkm_summary.txtncheckm\n",
      "    checkmsummeryscript.ipynb\n",
      "    env_checks.py\n",
      "    env_checks.py.save\n",
      "    environment.yaml\n",
      "    fig2-1_checkm_quality.png\n",
      "    haem_vs_cyt.tsv\n",
      "    interproscan script.ipynb\n",
      "    my_prokka_env\n",
      "    orf_counts_per_MAG.tsv\n",
      "    phylophlan_medium.cfg\n",
      "    phylophlan_out\n",
      "    projects\n",
      "    run_dram_prokka.sh\n",
      "    run_dram_prokka_debug.sh\n",
      "    run_emapper.sh\n",
      "    shared-team\n",
      "    tmp\n",
      "    top20_legend.tsv\n"
     ]
    }
   ],
   "source": [
    "import os, textwrap\n",
    "\n",
    "root_candidates = [\n",
    "    pathlib.Path.cwd(),                # current directory\n",
    "    pathlib.Path(\"/shared\"),           # common shared mount\n",
    "    pathlib.Path(\"/mnt/data\"),         # Kaggle / Colab style\n",
    "    pathlib.Path.home(),               # your own home\n",
    "]\n",
    "\n",
    "for p in root_candidates:\n",
    "    if p.exists():\n",
    "        print(f\"\\n📂  Contents of {p}:\")\n",
    "        for child in sorted(p.iterdir()):\n",
    "            print(\"   \", child.name)\n"
   ]
  },
  {
   "cell_type": "code",
   "execution_count": 3,
   "id": "5e3a3406-2985-4de3-8b26-03edd2b3855c",
   "metadata": {
    "tags": []
   },
   "outputs": [
    {
     "name": "stdout",
     "output_type": "stream",
     "text": [
      "No files matching those patterns were found under /home/username/esoph_microbiome_project\n"
     ]
    }
   ],
   "source": [
    "import glob, os, textwrap, pathlib\n",
    "root = \"/home/username/esoph_microbiome_project\"   # ← update this\n",
    "\n",
    "patterns = [\n",
    "    \"**/species*abund*.tsv\",\n",
    "    \"**/species*abund*.csv\",\n",
    "    \"**/*relative*abund*.tsv\",\n",
    "]\n",
    "\n",
    "hits = []\n",
    "for pat in patterns:\n",
    "    hits.extend(glob.glob(os.path.join(root, pat), recursive=True))\n",
    "\n",
    "print(\"\\n\".join(textwrap.shorten(p, width=120) for p in hits) or \n",
    "      f\"No files matching those patterns were found under {root}\")\n"
   ]
  },
  {
   "cell_type": "code",
   "execution_count": null,
   "id": "45559f3b-5b80-482d-a3c0-3a7031a66ccd",
   "metadata": {
    "tags": []
   },
   "outputs": [],
   "source": [
    "import glob, os, textwrap, pathlib\n",
    "\n",
    "root = \"/home/jovyan\"     # <-- this is where your folders live\n",
    "\n",
    "patterns = [\n",
    "    \"**/species*abund*.tsv\",\n",
    "    \"**/species*abund*.csv\",\n",
    "    \"**/*relative*abund*.tsv\",\n",
    "]\n",
    "\n",
    "hits = []\n",
    "for pat in patterns:\n",
    "    hits += glob.glob(os.path.join(root, pat), recursive=True)\n",
    "\n",
    "print(\"\\n\".join(textwrap.shorten(p, width=120) for p in hits)\n",
    "      or f\"No candidate abundance files found under {root}\")\n"
   ]
  },
  {
   "cell_type": "code",
   "execution_count": null,
   "id": "a496ba93-b7e3-4420-9b80-b715f4a45c9d",
   "metadata": {},
   "outputs": [],
   "source": []
  }
 ],
 "metadata": {
  "kernelspec": {
   "display_name": "Python [conda env:my_prokka_env]",
   "language": "python",
   "name": "conda-env-my_prokka_env-py"
  },
  "language_info": {
   "codemirror_mode": {
    "name": "ipython",
    "version": 3
   },
   "file_extension": ".py",
   "mimetype": "text/x-python",
   "name": "python",
   "nbconvert_exporter": "python",
   "pygments_lexer": "ipython3",
   "version": "3.13.2"
  }
 },
 "nbformat": 4,
 "nbformat_minor": 5
}
